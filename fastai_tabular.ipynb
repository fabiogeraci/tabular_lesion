{
 "cells": [
  {
   "cell_type": "code",
   "execution_count": 1,
   "id": "fa73e5a7-7075-409e-9848-9b96fcc8d1a8",
   "metadata": {},
   "outputs": [
    {
     "data": {
      "text/plain": [
       "'2.7.5'"
      ]
     },
     "execution_count": 1,
     "metadata": {},
     "output_type": "execute_result"
    }
   ],
   "source": [
    "import fastai\n",
    "fastai.__version__"
   ]
  },
  {
   "cell_type": "code",
   "execution_count": 2,
   "id": "14064936-5c3f-45c0-b507-d06ff0429812",
   "metadata": {},
   "outputs": [
    {
     "name": "stderr",
     "output_type": "stream",
     "text": [
      "/home/fabio/Documents/tabular_lesion/env_tabular/lib/python3.8/site-packages/requests/__init__.py:109: RequestsDependencyWarning: urllib3 (1.26.9) or chardet (5.0.0)/charset_normalizer (2.0.12) doesn't match a supported version!\n",
      "  warnings.warn(\n"
     ]
    }
   ],
   "source": [
    "#|export\n",
    "from __future__ import annotations\n",
    "from fastai.basics import *\n",
    "from fastai.tabular.core import *\n",
    "from fastai.tabular.model import *\n",
    "from fastai.tabular.data import *\n",
    "from fastai.tabular.all import *"
   ]
  },
  {
   "cell_type": "code",
   "execution_count": 3,
   "id": "4bf8ba8e-eb0e-473b-ac84-662eaf36def7",
   "metadata": {},
   "outputs": [
    {
     "name": "stdout",
     "output_type": "stream",
     "text": [
      "/home/fabio/Documents/tabular_lesion\n"
     ]
    }
   ],
   "source": [
    "!pwd"
   ]
  },
  {
   "cell_type": "code",
   "execution_count": 4,
   "id": "b57412a3-ea2a-4db1-bc42-465d33d2d926",
   "metadata": {},
   "outputs": [
    {
     "data": {
      "text/plain": [
       "'/home/fabio/Documents/tabular_lesion/data'"
      ]
     },
     "execution_count": 4,
     "metadata": {},
     "output_type": "execute_result"
    }
   ],
   "source": [
    "data_path = os.path.join(os.getcwd(), 'data')\n",
    "data_path"
   ]
  },
  {
   "cell_type": "code",
   "execution_count": 5,
   "id": "c089d18e-6797-4d50-aeef-bfba5e9a1f03",
   "metadata": {},
   "outputs": [],
   "source": [
    "import os\n",
    "\n",
    "import pandas as pd\n",
    "import sklearn\n",
    "from sklearn.preprocessing import MaxAbsScaler\n",
    "from sklearn.model_selection import GridSearchCV\n",
    "from sklearn.neighbors import KNeighborsClassifier\n",
    "\n",
    "from xgboost import XGBClassifier\n",
    "\n",
    "from sklearn.pipeline import Pipeline, FeatureUnion\n",
    "\n",
    "from helpers.dataset import DataSet\n",
    "from helpers.variance import DataVariance\n",
    "from helpers.roc_curve import RocCurve\n",
    "from helpers.validation import ModelValidation\n",
    "from helpers.model_save import XgboostModelToOnnx"
   ]
  },
  {
   "cell_type": "code",
   "execution_count": 6,
   "id": "3ae75479-3c7e-4d2a-b864-c85f65e85ca6",
   "metadata": {},
   "outputs": [
    {
     "name": "stdout",
     "output_type": "stream",
     "text": [
      "Are there any Nan = False, Number of Nan = 0\n",
      "Target_Lesion_ClinSig\n"
     ]
    }
   ],
   "source": [
    "all_set = DataSet(os.path.join(data_path, 'lesion_df_balanced_Target_Lesion_ClinSig.csv'))"
   ]
  },
  {
   "cell_type": "code",
   "execution_count": 7,
   "id": "77a89e77-3c38-4ff9-b911-ea8c4ba0ca6f",
   "metadata": {},
   "outputs": [
    {
     "data": {
      "text/plain": [
       "(33764, 105)"
      ]
     },
     "execution_count": 7,
     "metadata": {},
     "output_type": "execute_result"
    }
   ],
   "source": [
    "all_set.X_train.shape"
   ]
  },
  {
   "cell_type": "code",
   "execution_count": 8,
   "id": "8b8433ba-fa40-41a4-b338-e1016affe6ab",
   "metadata": {},
   "outputs": [
    {
     "data": {
      "text/html": [
       "<div>\n",
       "<style scoped>\n",
       "    .dataframe tbody tr th:only-of-type {\n",
       "        vertical-align: middle;\n",
       "    }\n",
       "\n",
       "    .dataframe tbody tr th {\n",
       "        vertical-align: top;\n",
       "    }\n",
       "\n",
       "    .dataframe thead th {\n",
       "        text-align: right;\n",
       "    }\n",
       "</style>\n",
       "<table border=\"1\" class=\"dataframe\">\n",
       "  <thead>\n",
       "    <tr style=\"text-align: right;\">\n",
       "      <th></th>\n",
       "      <th>Feature_1</th>\n",
       "      <th>Feature_2</th>\n",
       "      <th>Feature_3</th>\n",
       "      <th>Feature_8</th>\n",
       "      <th>Feature_9</th>\n",
       "      <th>Feature_10</th>\n",
       "      <th>Feature_11</th>\n",
       "      <th>Feature_21</th>\n",
       "      <th>Feature_22</th>\n",
       "      <th>Feature_23</th>\n",
       "      <th>...</th>\n",
       "      <th>Feature_124</th>\n",
       "      <th>Feature_125</th>\n",
       "      <th>Feature_126</th>\n",
       "      <th>Feature_127</th>\n",
       "      <th>Feature_128</th>\n",
       "      <th>Feature_129</th>\n",
       "      <th>Feature_130</th>\n",
       "      <th>Feature_131</th>\n",
       "      <th>Feature_132</th>\n",
       "      <th>Target_Lesion_ClinSig</th>\n",
       "    </tr>\n",
       "  </thead>\n",
       "  <tbody>\n",
       "    <tr>\n",
       "      <th>0</th>\n",
       "      <td>0.0</td>\n",
       "      <td>0.0</td>\n",
       "      <td>-1.0</td>\n",
       "      <td>0.0</td>\n",
       "      <td>-0.429758</td>\n",
       "      <td>-0.868126</td>\n",
       "      <td>1.0</td>\n",
       "      <td>0.429758</td>\n",
       "      <td>0.495042</td>\n",
       "      <td>1.0</td>\n",
       "      <td>...</td>\n",
       "      <td>9.211581</td>\n",
       "      <td>-0.226057</td>\n",
       "      <td>55.650623</td>\n",
       "      <td>14.544326</td>\n",
       "      <td>9.033076</td>\n",
       "      <td>-0.274966</td>\n",
       "      <td>55.650623</td>\n",
       "      <td>13.88554</td>\n",
       "      <td>9.141769</td>\n",
       "      <td>1</td>\n",
       "    </tr>\n",
       "    <tr>\n",
       "      <th>1</th>\n",
       "      <td>0.0</td>\n",
       "      <td>0.0</td>\n",
       "      <td>-1.0</td>\n",
       "      <td>0.0</td>\n",
       "      <td>-0.429758</td>\n",
       "      <td>-0.868126</td>\n",
       "      <td>1.0</td>\n",
       "      <td>0.429758</td>\n",
       "      <td>0.495042</td>\n",
       "      <td>1.0</td>\n",
       "      <td>...</td>\n",
       "      <td>9.211581</td>\n",
       "      <td>-0.226057</td>\n",
       "      <td>55.650623</td>\n",
       "      <td>14.544326</td>\n",
       "      <td>9.033076</td>\n",
       "      <td>-0.274966</td>\n",
       "      <td>55.650623</td>\n",
       "      <td>13.88554</td>\n",
       "      <td>9.141769</td>\n",
       "      <td>1</td>\n",
       "    </tr>\n",
       "    <tr>\n",
       "      <th>2</th>\n",
       "      <td>0.0</td>\n",
       "      <td>0.0</td>\n",
       "      <td>-1.0</td>\n",
       "      <td>0.0</td>\n",
       "      <td>-0.429758</td>\n",
       "      <td>-0.868126</td>\n",
       "      <td>1.0</td>\n",
       "      <td>0.429758</td>\n",
       "      <td>0.495042</td>\n",
       "      <td>1.0</td>\n",
       "      <td>...</td>\n",
       "      <td>9.211581</td>\n",
       "      <td>-0.226057</td>\n",
       "      <td>55.650623</td>\n",
       "      <td>14.544326</td>\n",
       "      <td>9.033076</td>\n",
       "      <td>-0.274966</td>\n",
       "      <td>55.650623</td>\n",
       "      <td>13.88554</td>\n",
       "      <td>9.141769</td>\n",
       "      <td>1</td>\n",
       "    </tr>\n",
       "    <tr>\n",
       "      <th>3</th>\n",
       "      <td>0.0</td>\n",
       "      <td>0.0</td>\n",
       "      <td>-1.0</td>\n",
       "      <td>0.0</td>\n",
       "      <td>-0.429758</td>\n",
       "      <td>-0.868126</td>\n",
       "      <td>1.0</td>\n",
       "      <td>0.429758</td>\n",
       "      <td>0.495042</td>\n",
       "      <td>1.0</td>\n",
       "      <td>...</td>\n",
       "      <td>9.211581</td>\n",
       "      <td>-0.226057</td>\n",
       "      <td>55.650623</td>\n",
       "      <td>14.544326</td>\n",
       "      <td>9.033076</td>\n",
       "      <td>-0.274966</td>\n",
       "      <td>55.650623</td>\n",
       "      <td>13.88554</td>\n",
       "      <td>9.141769</td>\n",
       "      <td>1</td>\n",
       "    </tr>\n",
       "    <tr>\n",
       "      <th>4</th>\n",
       "      <td>0.0</td>\n",
       "      <td>0.0</td>\n",
       "      <td>-1.0</td>\n",
       "      <td>0.0</td>\n",
       "      <td>-0.429758</td>\n",
       "      <td>-0.868126</td>\n",
       "      <td>1.0</td>\n",
       "      <td>0.429758</td>\n",
       "      <td>0.495042</td>\n",
       "      <td>1.0</td>\n",
       "      <td>...</td>\n",
       "      <td>9.211581</td>\n",
       "      <td>-0.226057</td>\n",
       "      <td>55.650623</td>\n",
       "      <td>14.544326</td>\n",
       "      <td>9.033076</td>\n",
       "      <td>-0.274966</td>\n",
       "      <td>55.650623</td>\n",
       "      <td>13.88554</td>\n",
       "      <td>9.141769</td>\n",
       "      <td>1</td>\n",
       "    </tr>\n",
       "  </tbody>\n",
       "</table>\n",
       "<p>5 rows × 106 columns</p>\n",
       "</div>"
      ],
      "text/plain": [
       "   Feature_1  Feature_2  Feature_3  Feature_8  Feature_9  Feature_10  \\\n",
       "0        0.0        0.0       -1.0        0.0  -0.429758   -0.868126   \n",
       "1        0.0        0.0       -1.0        0.0  -0.429758   -0.868126   \n",
       "2        0.0        0.0       -1.0        0.0  -0.429758   -0.868126   \n",
       "3        0.0        0.0       -1.0        0.0  -0.429758   -0.868126   \n",
       "4        0.0        0.0       -1.0        0.0  -0.429758   -0.868126   \n",
       "\n",
       "   Feature_11  Feature_21  Feature_22  Feature_23  ...  Feature_124  \\\n",
       "0         1.0    0.429758    0.495042         1.0  ...     9.211581   \n",
       "1         1.0    0.429758    0.495042         1.0  ...     9.211581   \n",
       "2         1.0    0.429758    0.495042         1.0  ...     9.211581   \n",
       "3         1.0    0.429758    0.495042         1.0  ...     9.211581   \n",
       "4         1.0    0.429758    0.495042         1.0  ...     9.211581   \n",
       "\n",
       "   Feature_125  Feature_126  Feature_127  Feature_128  Feature_129  \\\n",
       "0    -0.226057    55.650623    14.544326     9.033076    -0.274966   \n",
       "1    -0.226057    55.650623    14.544326     9.033076    -0.274966   \n",
       "2    -0.226057    55.650623    14.544326     9.033076    -0.274966   \n",
       "3    -0.226057    55.650623    14.544326     9.033076    -0.274966   \n",
       "4    -0.226057    55.650623    14.544326     9.033076    -0.274966   \n",
       "\n",
       "   Feature_130  Feature_131  Feature_132  Target_Lesion_ClinSig  \n",
       "0    55.650623     13.88554     9.141769                      1  \n",
       "1    55.650623     13.88554     9.141769                      1  \n",
       "2    55.650623     13.88554     9.141769                      1  \n",
       "3    55.650623     13.88554     9.141769                      1  \n",
       "4    55.650623     13.88554     9.141769                      1  \n",
       "\n",
       "[5 rows x 106 columns]"
      ]
     },
     "execution_count": 8,
     "metadata": {},
     "output_type": "execute_result"
    }
   ],
   "source": [
    "df = pd.concat([all_set.X_train, all_set.y_train], axis=1)\n",
    "df.head()"
   ]
  },
  {
   "cell_type": "code",
   "execution_count": 9,
   "id": "c2652a7d-4c33-474b-9f86-ea744bf482b7",
   "metadata": {},
   "outputs": [],
   "source": [
    "cat_names = None\n",
    "cont_names = list(all_set.X_train.columns)"
   ]
  },
  {
   "cell_type": "code",
   "execution_count": 22,
   "id": "ad87f58e-5371-4301-87e2-10d93d0c9108",
   "metadata": {},
   "outputs": [],
   "source": [
    "from sklearn.metrics import f1_score, log_loss\n",
    "splits = RandomSplitter(valid_pct=0.2)(range_of(df))\n",
    "procs = [Categorify, FillMissing, Normalize]\n",
    "to = TabularPandas(df, procs=procs,\n",
    "                   # cat_names = cat_names,\n",
    "                   cont_names = cont_names,\n",
    "                   y_names='Target_Lesion_ClinSig',\n",
    "                   y_block = CategoryBlock(),\n",
    "                   splits=splits)\n",
    "\n",
    "trn_dl = TabDataLoader(to.train, bs=64, shuffle=True, drop_last=True)\n",
    "val_dl = TabDataLoader(to.valid, bs=128)\n",
    "\n",
    "dls = DataLoaders(trn_dl, val_dl)\n",
    "\n",
    "# dls = to.dataloaders(bs=254)\n",
    "# dls.show_batch()"
   ]
  },
  {
   "cell_type": "code",
   "execution_count": 23,
   "id": "436a69cc-56e4-4b1c-8eff-cd2c5a376744",
   "metadata": {},
   "outputs": [],
   "source": [
    "learn = tabular_learner(dls, layers=[200, 100], opt_func=RAdam, metrics=[accuracy, error_rate, Recall(), Precision()])"
   ]
  },
  {
   "cell_type": "code",
   "execution_count": 24,
   "id": "8f71631c-6a53-4c0e-a87c-f6d5741b34bf",
   "metadata": {},
   "outputs": [
    {
     "data": {
      "text/html": [
       "\n",
       "<style>\n",
       "    /* Turns off some styling */\n",
       "    progress {\n",
       "        /* gets rid of default border in Firefox and Opera. */\n",
       "        border: none;\n",
       "        /* Needs to be in here for Safari polyfill so background images work as expected. */\n",
       "        background-size: auto;\n",
       "    }\n",
       "    .progress-bar-interrupted, .progress-bar-interrupted::-webkit-progress-bar {\n",
       "        background: #F44336;\n",
       "    }\n",
       "</style>\n"
      ],
      "text/plain": [
       "<IPython.core.display.HTML object>"
      ]
     },
     "metadata": {},
     "output_type": "display_data"
    },
    {
     "data": {
      "text/html": [],
      "text/plain": [
       "<IPython.core.display.HTML object>"
      ]
     },
     "metadata": {},
     "output_type": "display_data"
    },
    {
     "data": {
      "text/plain": [
       "SuggestedLRs(valley=0.001737800776027143)"
      ]
     },
     "execution_count": 24,
     "metadata": {},
     "output_type": "execute_result"
    },
    {
     "data": {
      "image/png": "[encoded data removed]",
      "text/plain": [
       "<Figure size 432x288 with 1 Axes>"
      ]
     },
     "metadata": {
      "needs_background": "light"
     },
     "output_type": "display_data"
    }
   ],
   "source": [
    "learn.lr_find()"
   ]
  },
  {
   "cell_type": "code",
   "execution_count": 25,
   "id": "fb367eff-e229-4933-a7a3-6bf0ec8bbabe",
   "metadata": {},
   "outputs": [
    {
     "data": {
      "text/html": [
       "\n",
       "<style>\n",
       "    /* Turns off some styling */\n",
       "    progress {\n",
       "        /* gets rid of default border in Firefox and Opera. */\n",
       "        border: none;\n",
       "        /* Needs to be in here for Safari polyfill so background images work as expected. */\n",
       "        background-size: auto;\n",
       "    }\n",
       "    .progress-bar-interrupted, .progress-bar-interrupted::-webkit-progress-bar {\n",
       "        background: #F44336;\n",
       "    }\n",
       "</style>\n"
      ],
      "text/plain": [
       "<IPython.core.display.HTML object>"
      ]
     },
     "metadata": {},
     "output_type": "display_data"
    },
    {
     "data": {
      "text/html": [
       "<table border=\"1\" class=\"dataframe\">\n",
       "  <thead>\n",
       "    <tr style=\"text-align: left;\">\n",
       "      <th>epoch</th>\n",
       "      <th>train_loss</th>\n",
       "      <th>valid_loss</th>\n",
       "      <th>accuracy</th>\n",
       "      <th>error_rate</th>\n",
       "      <th>recall_score</th>\n",
       "      <th>precision_score</th>\n",
       "      <th>time</th>\n",
       "    </tr>\n",
       "  </thead>\n",
       "  <tbody>\n",
       "    <tr>\n",
       "      <td>0</td>\n",
       "      <td>0.058896</td>\n",
       "      <td>0.033195</td>\n",
       "      <td>0.987855</td>\n",
       "      <td>0.012145</td>\n",
       "      <td>0.980351</td>\n",
       "      <td>0.962784</td>\n",
       "      <td>00:03</td>\n",
       "    </tr>\n",
       "    <tr>\n",
       "      <td>1</td>\n",
       "      <td>0.015995</td>\n",
       "      <td>0.015827</td>\n",
       "      <td>0.994076</td>\n",
       "      <td>0.005924</td>\n",
       "      <td>0.990175</td>\n",
       "      <td>0.981907</td>\n",
       "      <td>00:02</td>\n",
       "    </tr>\n",
       "  </tbody>\n",
       "</table>"
      ],
      "text/plain": [
       "<IPython.core.display.HTML object>"
      ]
     },
     "metadata": {},
     "output_type": "display_data"
    }
   ],
   "source": [
    "learn.fit_one_cycle(2, lr_max=5e-3)"
   ]
  },
  {
   "cell_type": "code",
   "execution_count": 26,
   "id": "96fb56fc-7ff1-4d43-b0db-9809aaf460c7",
   "metadata": {},
   "outputs": [
    {
     "data": {
      "image/png": "[encoded data removed]",
      "text/plain": [
       "<Figure size 432x288 with 1 Axes>"
      ]
     },
     "metadata": {
      "needs_background": "light"
     },
     "output_type": "display_data"
    }
   ],
   "source": [
    "learn.recorder.plot_loss()"
   ]
  },
  {
   "cell_type": "code",
   "execution_count": 27,
   "id": "4f17d93b-ae36-4833-9886-aceb122d1219",
   "metadata": {},
   "outputs": [
    {
     "data": {
      "text/html": [
       "\n",
       "<style>\n",
       "    /* Turns off some styling */\n",
       "    progress {\n",
       "        /* gets rid of default border in Firefox and Opera. */\n",
       "        border: none;\n",
       "        /* Needs to be in here for Safari polyfill so background images work as expected. */\n",
       "        background-size: auto;\n",
       "    }\n",
       "    .progress-bar-interrupted, .progress-bar-interrupted::-webkit-progress-bar {\n",
       "        background: #F44336;\n",
       "    }\n",
       "</style>\n"
      ],
      "text/plain": [
       "<IPython.core.display.HTML object>"
      ]
     },
     "metadata": {},
     "output_type": "display_data"
    },
    {
     "data": {
      "text/html": [],
      "text/plain": [
       "<IPython.core.display.HTML object>"
      ]
     },
     "metadata": {},
     "output_type": "display_data"
    },
    {
     "data": {
      "text/html": [
       "\n",
       "<style>\n",
       "    /* Turns off some styling */\n",
       "    progress {\n",
       "        /* gets rid of default border in Firefox and Opera. */\n",
       "        border: none;\n",
       "        /* Needs to be in here for Safari polyfill so background images work as expected. */\n",
       "        background-size: auto;\n",
       "    }\n",
       "    .progress-bar-interrupted, .progress-bar-interrupted::-webkit-progress-bar {\n",
       "        background: #F44336;\n",
       "    }\n",
       "</style>\n"
      ],
      "text/plain": [
       "<IPython.core.display.HTML object>"
      ]
     },
     "metadata": {},
     "output_type": "display_data"
    },
    {
     "data": {
      "text/html": [],
      "text/plain": [
       "<IPython.core.display.HTML object>"
      ]
     },
     "metadata": {},
     "output_type": "display_data"
    },
    {
     "data": {
      "image/png": "[encoded data removed]",
      "text/plain": [
       "<Figure size 432x288 with 1 Axes>"
      ]
     },
     "metadata": {
      "needs_background": "light"
     },
     "output_type": "display_data"
    }
   ],
   "source": [
    "interp = ClassificationInterpretation.from_learner(learn)\n",
    "interp.plot_confusion_matrix()"
   ]
  },
  {
   "cell_type": "code",
   "execution_count": 28,
   "id": "446cbe3b-d540-405c-b020-b3b7246d9dca",
   "metadata": {},
   "outputs": [],
   "source": [
    "dl_test = pd.concat([all_set.X_test, all_set.y_test], axis=1)"
   ]
  },
  {
   "cell_type": "code",
   "execution_count": 40,
   "id": "808b97d5-d08c-4e15-ac79-5b3f12f5efca",
   "metadata": {},
   "outputs": [],
   "source": [
    "to = learn.dls.train_ds.new(dl_test[:100])\n",
    "to.process()\n",
    "dl = TabDataLoader(to)"
   ]
  },
  {
   "cell_type": "code",
   "execution_count": 41,
   "id": "4edbade4-3b65-4cdf-878c-eba6d82f42d4",
   "metadata": {},
   "outputs": [
    {
     "data": {
      "text/plain": [
       "fastai.tabular.core.TabDataLoader"
      ]
     },
     "execution_count": 41,
     "metadata": {},
     "output_type": "execute_result"
    }
   ],
   "source": [
    "type(dl)"
   ]
  },
  {
   "cell_type": "code",
   "execution_count": 42,
   "id": "5148e816-4c00-4635-a474-3c1bf8502f4c",
   "metadata": {},
   "outputs": [],
   "source": [
    "# !pip install fastinference[all]\n",
    "import fastinference\n",
    "from fastinference.tabular import *"
   ]
  },
  {
   "cell_type": "code",
   "execution_count": 43,
   "id": "f879bfa9-f111-4439-85f3-38646772b0a1",
   "metadata": {},
   "outputs": [
    {
     "data": {
      "application/vnd.jupyter.widget-view+json": {
       "model_id": "4d22c4b1004848818573391c100cdd6f",
       "version_major": 2,
       "version_minor": 0
      },
      "text/plain": [
       "  0%|          | 0/100 [00:00<?, ?it/s]"
      ]
     },
     "metadata": {},
     "output_type": "display_data"
    }
   ],
   "source": [
    "exp = ShapInterpretation(learn, dl)"
   ]
  },
  {
   "cell_type": "code",
   "execution_count": 44,
   "id": "036673e1-a2ac-42e7-a152-4b133d35abfc",
   "metadata": {},
   "outputs": [
    {
     "data": {
      "image/png": "[encoded data removed]",
      "text/plain": [
       "<Figure size 576x684 with 1 Axes>"
      ]
     },
     "metadata": {
      "needs_background": "light"
     },
     "output_type": "display_data"
    }
   ],
   "source": [
    "exp.summary_plot()"
   ]
  },
  {
   "cell_type": "code",
   "execution_count": 47,
   "id": "0bb0613b-6fde-4562-92fc-cfd3ddd65e9c",
   "metadata": {},
   "outputs": [
    {
     "name": "stdout",
     "output_type": "stream",
     "text": [
      "Classification model detected, displaying score for the class 1.\n",
      "(use `class_id` to specify another class)\n",
      "Displaying row 10 of 100 (use `row_idx` to specify another row)\n"
     ]
    },
    {
     "data": {
      "image/png": "[encoded data removed]",
      "text/plain": [
       "<Figure size 576x684 with 1 Axes>"
      ]
     },
     "metadata": {
      "needs_background": "light"
     },
     "output_type": "display_data"
    }
   ],
   "source": [
    "exp.decision_plot(class_id=1, row_idx=10)"
   ]
  },
  {
   "cell_type": "code",
   "execution_count": 51,
   "id": "79fdd865-aee5-4253-a5a7-e8c3c8327897",
   "metadata": {},
   "outputs": [],
   "source": [
    "to_a = learn.dls.train_ds.new(dl_test)\n",
    "to_a.process()\n",
    "dl_a = TabDataLoader(to_a)"
   ]
  },
  {
   "cell_type": "code",
   "execution_count": 52,
   "id": "6acb41a6-c0bd-4dd6-915c-3ebd4ff4fdcc",
   "metadata": {},
   "outputs": [
    {
     "data": {
      "text/html": [
       "\n",
       "<style>\n",
       "    /* Turns off some styling */\n",
       "    progress {\n",
       "        /* gets rid of default border in Firefox and Opera. */\n",
       "        border: none;\n",
       "        /* Needs to be in here for Safari polyfill so background images work as expected. */\n",
       "        background-size: auto;\n",
       "    }\n",
       "    .progress-bar-interrupted, .progress-bar-interrupted::-webkit-progress-bar {\n",
       "        background: #F44336;\n",
       "    }\n",
       "</style>\n"
      ],
      "text/plain": [
       "<IPython.core.display.HTML object>"
      ]
     },
     "metadata": {},
     "output_type": "display_data"
    },
    {
     "data": {
      "text/html": [],
      "text/plain": [
       "<IPython.core.display.HTML object>"
      ]
     },
     "metadata": {},
     "output_type": "display_data"
    },
    {
     "data": {
      "text/html": [
       "\n",
       "<style>\n",
       "    /* Turns off some styling */\n",
       "    progress {\n",
       "        /* gets rid of default border in Firefox and Opera. */\n",
       "        border: none;\n",
       "        /* Needs to be in here for Safari polyfill so background images work as expected. */\n",
       "        background-size: auto;\n",
       "    }\n",
       "    .progress-bar-interrupted, .progress-bar-interrupted::-webkit-progress-bar {\n",
       "        background: #F44336;\n",
       "    }\n",
       "</style>\n"
      ],
      "text/plain": [
       "<IPython.core.display.HTML object>"
      ]
     },
     "metadata": {},
     "output_type": "display_data"
    },
    {
     "data": {
      "text/html": [],
      "text/plain": [
       "<IPython.core.display.HTML object>"
      ]
     },
     "metadata": {},
     "output_type": "display_data"
    },
    {
     "data": {
      "image/png": "[encoded data removed]",
      "text/plain": [
       "<Figure size 432x288 with 1 Axes>"
      ]
     },
     "metadata": {
      "needs_background": "light"
     },
     "output_type": "display_data"
    }
   ],
   "source": [
    "interp = ClassificationInterpretation.from_learner(learn, dl=dl_a)\n",
    "interp.plot_confusion_matrix()"
   ]
  },
  {
   "cell_type": "code",
   "execution_count": 53,
   "id": "52cc1a37-c897-4751-bce2-9446a10aae41",
   "metadata": {},
   "outputs": [
    {
     "data": {
      "text/html": [
       "\n",
       "<style>\n",
       "    /* Turns off some styling */\n",
       "    progress {\n",
       "        /* gets rid of default border in Firefox and Opera. */\n",
       "        border: none;\n",
       "        /* Needs to be in here for Safari polyfill so background images work as expected. */\n",
       "        background-size: auto;\n",
       "    }\n",
       "    .progress-bar-interrupted, .progress-bar-interrupted::-webkit-progress-bar {\n",
       "        background: #F44336;\n",
       "    }\n",
       "</style>\n"
      ],
      "text/plain": [
       "<IPython.core.display.HTML object>"
      ]
     },
     "metadata": {},
     "output_type": "display_data"
    },
    {
     "data": {
      "text/html": [],
      "text/plain": [
       "<IPython.core.display.HTML object>"
      ]
     },
     "metadata": {},
     "output_type": "display_data"
    },
    {
     "name": "stdout",
     "output_type": "stream",
     "text": [
      "              precision    recall  f1-score   support\n",
      "\n",
      "           0       0.74      0.91      0.81      3110\n",
      "           1       0.69      0.38      0.49      1618\n",
      "\n",
      "    accuracy                           0.73      4728\n",
      "   macro avg       0.71      0.64      0.65      4728\n",
      "weighted avg       0.72      0.73      0.70      4728\n",
      "\n"
     ]
    }
   ],
   "source": [
    "interp.print_classification_report()"
   ]
  },
  {
   "cell_type": "code",
   "execution_count": null,
   "id": "c0df6b44-9eca-4245-a716-c5f7da323fe6",
   "metadata": {},
   "outputs": [],
   "source": []
  }
 ],
 "metadata": {
  "kernelspec": {
   "display_name": "env_tabular",
   "language": "python",
   "name": "env_tabular"
  },
  "language_info": {
   "codemirror_mode": {
    "name": "ipython",
    "version": 3
   },
   "file_extension": ".py",
   "mimetype": "text/x-python",
   "name": "python",
   "nbconvert_exporter": "python",
   "pygments_lexer": "ipython3",
   "version": "3.8.10"
  }
 },
 "nbformat": 4,
 "nbformat_minor": 5
}
