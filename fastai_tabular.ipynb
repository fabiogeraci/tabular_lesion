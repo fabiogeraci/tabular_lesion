{
 "cells": [
  {
   "cell_type": "code",
   "execution_count": 1,
   "id": "fa73e5a7-7075-409e-9848-9b96fcc8d1a8",
   "metadata": {},
   "outputs": [
    {
     "data": {
      "text/plain": [
       "('1.7.3', '2.7.5')"
      ]
     },
     "execution_count": 1,
     "metadata": {},
     "output_type": "execute_result"
    }
   ],
   "source": [
    "import fastai\n",
    "import scipy\n",
    "scipy.__version__, fastai.__version__"
   ]
  },
  {
   "cell_type": "code",
   "execution_count": 2,
   "id": "14064936-5c3f-45c0-b507-d06ff0429812",
   "metadata": {},
   "outputs": [
    {
     "name": "stderr",
     "output_type": "stream",
     "text": [
      "/home/fabio/Documents/tabular_lesion/env_tabular/lib/python3.8/site-packages/requests/__init__.py:109: RequestsDependencyWarning: urllib3 (1.26.9) or chardet (5.0.0)/charset_normalizer (2.0.12) doesn't match a supported version!\n",
      "  warnings.warn(\n"
     ]
    }
   ],
   "source": [
    "#|export\n",
    "from __future__ import annotations\n",
    "from fastai.basics import *\n",
    "from fastai.tabular.core import *\n",
    "from fastai.tabular.model import *\n",
    "from fastai.tabular.data import *\n",
    "from fastai.tabular.all import *"
   ]
  },
  {
   "cell_type": "code",
   "execution_count": 3,
   "id": "4bf8ba8e-eb0e-473b-ac84-662eaf36def7",
   "metadata": {},
   "outputs": [
    {
     "name": "stdout",
     "output_type": "stream",
     "text": [
      "/home/fabio/Documents/tabular_lesion\n"
     ]
    }
   ],
   "source": [
    "!pwd"
   ]
  },
  {
   "cell_type": "code",
   "execution_count": 4,
   "id": "b57412a3-ea2a-4db1-bc42-465d33d2d926",
   "metadata": {},
   "outputs": [
    {
     "data": {
      "text/plain": [
       "'/home/fabio/Documents/tabular_lesion/data'"
      ]
     },
     "execution_count": 4,
     "metadata": {},
     "output_type": "execute_result"
    }
   ],
   "source": [
    "data_path = os.path.join(os.getcwd(), 'data')\n",
    "data_path"
   ]
  },
  {
   "cell_type": "code",
   "execution_count": 5,
   "id": "c089d18e-6797-4d50-aeef-bfba5e9a1f03",
   "metadata": {},
   "outputs": [],
   "source": [
    "import os\n",
    "\n",
    "import pandas as pd\n",
    "import sklearn\n",
    "from sklearn.preprocessing import MaxAbsScaler\n",
    "from sklearn.model_selection import GridSearchCV\n",
    "from sklearn.neighbors import KNeighborsClassifier\n",
    "from sklearn.metrics import f1_score, log_loss\n",
    "\n",
    "from xgboost import XGBClassifier\n",
    "\n",
    "from sklearn.pipeline import Pipeline, FeatureUnion\n",
    "\n",
    "from helpers.dataset import DataSet\n",
    "from helpers.variance import DataVariance\n",
    "from helpers.roc_curve import RocCurve\n",
    "from helpers.validation import ModelValidation\n",
    "from helpers.model_save import XgboostModelToOnnx\n",
    "\n",
    "from bayes_opt import BayesianOptimization"
   ]
  },
  {
   "cell_type": "code",
   "execution_count": 7,
   "id": "3ae75479-3c7e-4d2a-b864-c85f65e85ca6",
   "metadata": {},
   "outputs": [
    {
     "name": "stdout",
     "output_type": "stream",
     "text": [
      "Are there any Nan = False, Number of Nan = 0\n",
      "Target_Lesion_ClinSig\n"
     ]
    }
   ],
   "source": [
    "all_set = DataSet(os.path.join(data_path, 'lesion_df_balanced_Target_Lesion_ClinSig.csv'))"
   ]
  },
  {
   "cell_type": "code",
   "execution_count": 8,
   "id": "77a89e77-3c38-4ff9-b911-ea8c4ba0ca6f",
   "metadata": {},
   "outputs": [
    {
     "data": {
      "text/plain": [
       "(33764, 105)"
      ]
     },
     "execution_count": 8,
     "metadata": {},
     "output_type": "execute_result"
    }
   ],
   "source": [
    "all_set.X_train.shape"
   ]
  },
  {
   "cell_type": "code",
   "execution_count": 9,
   "id": "8b8433ba-fa40-41a4-b338-e1016affe6ab",
   "metadata": {},
   "outputs": [
    {
     "data": {
      "text/html": [
       "<div>\n",
       "<style scoped>\n",
       "    .dataframe tbody tr th:only-of-type {\n",
       "        vertical-align: middle;\n",
       "    }\n",
       "\n",
       "    .dataframe tbody tr th {\n",
       "        vertical-align: top;\n",
       "    }\n",
       "\n",
       "    .dataframe thead th {\n",
       "        text-align: right;\n",
       "    }\n",
       "</style>\n",
       "<table border=\"1\" class=\"dataframe\">\n",
       "  <thead>\n",
       "    <tr style=\"text-align: right;\">\n",
       "      <th></th>\n",
       "      <th>Feature_1</th>\n",
       "      <th>Feature_2</th>\n",
       "      <th>Feature_3</th>\n",
       "      <th>Feature_8</th>\n",
       "      <th>Feature_9</th>\n",
       "      <th>Feature_10</th>\n",
       "      <th>Feature_11</th>\n",
       "      <th>Feature_21</th>\n",
       "      <th>Feature_22</th>\n",
       "      <th>Feature_23</th>\n",
       "      <th>...</th>\n",
       "      <th>Feature_124</th>\n",
       "      <th>Feature_125</th>\n",
       "      <th>Feature_126</th>\n",
       "      <th>Feature_127</th>\n",
       "      <th>Feature_128</th>\n",
       "      <th>Feature_129</th>\n",
       "      <th>Feature_130</th>\n",
       "      <th>Feature_131</th>\n",
       "      <th>Feature_132</th>\n",
       "      <th>Target_Lesion_ClinSig</th>\n",
       "    </tr>\n",
       "  </thead>\n",
       "  <tbody>\n",
       "    <tr>\n",
       "      <th>0</th>\n",
       "      <td>0.0</td>\n",
       "      <td>0.0</td>\n",
       "      <td>-1.0</td>\n",
       "      <td>0.0</td>\n",
       "      <td>-0.429758</td>\n",
       "      <td>-0.868126</td>\n",
       "      <td>1.0</td>\n",
       "      <td>0.429758</td>\n",
       "      <td>0.495042</td>\n",
       "      <td>1.0</td>\n",
       "      <td>...</td>\n",
       "      <td>9.211581</td>\n",
       "      <td>-0.226057</td>\n",
       "      <td>55.650623</td>\n",
       "      <td>14.544326</td>\n",
       "      <td>9.033076</td>\n",
       "      <td>-0.274966</td>\n",
       "      <td>55.650623</td>\n",
       "      <td>13.88554</td>\n",
       "      <td>9.141769</td>\n",
       "      <td>1</td>\n",
       "    </tr>\n",
       "    <tr>\n",
       "      <th>1</th>\n",
       "      <td>0.0</td>\n",
       "      <td>0.0</td>\n",
       "      <td>-1.0</td>\n",
       "      <td>0.0</td>\n",
       "      <td>-0.429758</td>\n",
       "      <td>-0.868126</td>\n",
       "      <td>1.0</td>\n",
       "      <td>0.429758</td>\n",
       "      <td>0.495042</td>\n",
       "      <td>1.0</td>\n",
       "      <td>...</td>\n",
       "      <td>9.211581</td>\n",
       "      <td>-0.226057</td>\n",
       "      <td>55.650623</td>\n",
       "      <td>14.544326</td>\n",
       "      <td>9.033076</td>\n",
       "      <td>-0.274966</td>\n",
       "      <td>55.650623</td>\n",
       "      <td>13.88554</td>\n",
       "      <td>9.141769</td>\n",
       "      <td>1</td>\n",
       "    </tr>\n",
       "    <tr>\n",
       "      <th>2</th>\n",
       "      <td>0.0</td>\n",
       "      <td>0.0</td>\n",
       "      <td>-1.0</td>\n",
       "      <td>0.0</td>\n",
       "      <td>-0.429758</td>\n",
       "      <td>-0.868126</td>\n",
       "      <td>1.0</td>\n",
       "      <td>0.429758</td>\n",
       "      <td>0.495042</td>\n",
       "      <td>1.0</td>\n",
       "      <td>...</td>\n",
       "      <td>9.211581</td>\n",
       "      <td>-0.226057</td>\n",
       "      <td>55.650623</td>\n",
       "      <td>14.544326</td>\n",
       "      <td>9.033076</td>\n",
       "      <td>-0.274966</td>\n",
       "      <td>55.650623</td>\n",
       "      <td>13.88554</td>\n",
       "      <td>9.141769</td>\n",
       "      <td>1</td>\n",
       "    </tr>\n",
       "    <tr>\n",
       "      <th>3</th>\n",
       "      <td>0.0</td>\n",
       "      <td>0.0</td>\n",
       "      <td>-1.0</td>\n",
       "      <td>0.0</td>\n",
       "      <td>-0.429758</td>\n",
       "      <td>-0.868126</td>\n",
       "      <td>1.0</td>\n",
       "      <td>0.429758</td>\n",
       "      <td>0.495042</td>\n",
       "      <td>1.0</td>\n",
       "      <td>...</td>\n",
       "      <td>9.211581</td>\n",
       "      <td>-0.226057</td>\n",
       "      <td>55.650623</td>\n",
       "      <td>14.544326</td>\n",
       "      <td>9.033076</td>\n",
       "      <td>-0.274966</td>\n",
       "      <td>55.650623</td>\n",
       "      <td>13.88554</td>\n",
       "      <td>9.141769</td>\n",
       "      <td>1</td>\n",
       "    </tr>\n",
       "    <tr>\n",
       "      <th>4</th>\n",
       "      <td>0.0</td>\n",
       "      <td>0.0</td>\n",
       "      <td>-1.0</td>\n",
       "      <td>0.0</td>\n",
       "      <td>-0.429758</td>\n",
       "      <td>-0.868126</td>\n",
       "      <td>1.0</td>\n",
       "      <td>0.429758</td>\n",
       "      <td>0.495042</td>\n",
       "      <td>1.0</td>\n",
       "      <td>...</td>\n",
       "      <td>9.211581</td>\n",
       "      <td>-0.226057</td>\n",
       "      <td>55.650623</td>\n",
       "      <td>14.544326</td>\n",
       "      <td>9.033076</td>\n",
       "      <td>-0.274966</td>\n",
       "      <td>55.650623</td>\n",
       "      <td>13.88554</td>\n",
       "      <td>9.141769</td>\n",
       "      <td>1</td>\n",
       "    </tr>\n",
       "  </tbody>\n",
       "</table>\n",
       "<p>5 rows × 106 columns</p>\n",
       "</div>"
      ],
      "text/plain": [
       "   Feature_1  Feature_2  Feature_3  Feature_8  Feature_9  Feature_10  \\\n",
       "0        0.0        0.0       -1.0        0.0  -0.429758   -0.868126   \n",
       "1        0.0        0.0       -1.0        0.0  -0.429758   -0.868126   \n",
       "2        0.0        0.0       -1.0        0.0  -0.429758   -0.868126   \n",
       "3        0.0        0.0       -1.0        0.0  -0.429758   -0.868126   \n",
       "4        0.0        0.0       -1.0        0.0  -0.429758   -0.868126   \n",
       "\n",
       "   Feature_11  Feature_21  Feature_22  Feature_23  ...  Feature_124  \\\n",
       "0         1.0    0.429758    0.495042         1.0  ...     9.211581   \n",
       "1         1.0    0.429758    0.495042         1.0  ...     9.211581   \n",
       "2         1.0    0.429758    0.495042         1.0  ...     9.211581   \n",
       "3         1.0    0.429758    0.495042         1.0  ...     9.211581   \n",
       "4         1.0    0.429758    0.495042         1.0  ...     9.211581   \n",
       "\n",
       "   Feature_125  Feature_126  Feature_127  Feature_128  Feature_129  \\\n",
       "0    -0.226057    55.650623    14.544326     9.033076    -0.274966   \n",
       "1    -0.226057    55.650623    14.544326     9.033076    -0.274966   \n",
       "2    -0.226057    55.650623    14.544326     9.033076    -0.274966   \n",
       "3    -0.226057    55.650623    14.544326     9.033076    -0.274966   \n",
       "4    -0.226057    55.650623    14.544326     9.033076    -0.274966   \n",
       "\n",
       "   Feature_130  Feature_131  Feature_132  Target_Lesion_ClinSig  \n",
       "0    55.650623     13.88554     9.141769                      1  \n",
       "1    55.650623     13.88554     9.141769                      1  \n",
       "2    55.650623     13.88554     9.141769                      1  \n",
       "3    55.650623     13.88554     9.141769                      1  \n",
       "4    55.650623     13.88554     9.141769                      1  \n",
       "\n",
       "[5 rows x 106 columns]"
      ]
     },
     "execution_count": 9,
     "metadata": {},
     "output_type": "execute_result"
    }
   ],
   "source": [
    "df = pd.concat([all_set.X_train, all_set.y_train], axis=1)\n",
    "df.head()"
   ]
  },
  {
   "cell_type": "code",
   "execution_count": 10,
   "id": "c2652a7d-4c33-474b-9f86-ea744bf482b7",
   "metadata": {},
   "outputs": [],
   "source": [
    "cat_names = None\n",
    "cont_names = list(all_set.X_train.columns)"
   ]
  },
  {
   "cell_type": "code",
   "execution_count": 11,
   "id": "ad87f58e-5371-4301-87e2-10d93d0c9108",
   "metadata": {},
   "outputs": [],
   "source": [
    "splits = RandomSplitter(valid_pct=0.2)(range_of(df))\n",
    "procs = [Categorify, FillMissing, Normalize]\n",
    "to = TabularPandas(df, procs=procs,\n",
    "                   # cat_names = cat_names,\n",
    "                   cont_names = cont_names,\n",
    "                   y_names='Target_Lesion_ClinSig',\n",
    "                   y_block = CategoryBlock(),\n",
    "                   splits=splits)\n",
    "\n",
    "trn_dl = TabDataLoader(to.train, bs=64, shuffle=True, drop_last=True)\n",
    "val_dl = TabDataLoader(to.valid, bs=128)\n",
    "\n",
    "dls = DataLoaders(trn_dl, val_dl)\n",
    "# dls.show_batch()"
   ]
  },
  {
   "cell_type": "code",
   "execution_count": 56,
   "id": "729e879f-4a61-4e2c-a322-883adb6f97e0",
   "metadata": {},
   "outputs": [],
   "source": [
    "def fit_with(lr:float, wd:float, dp:float, n_layers:float, layer_1:float, layer_2:float, layer_3:float):\n",
    "\n",
    "    print(lr, wd, dp)\n",
    "    if round(n_layers) == 2:\n",
    "        layers = [round(layer_1), round(layer_2)]\n",
    "    elif int(n_layers) == 3:\n",
    "        layers = [round(layer_1), round(layer_2), round(layer_3)]\n",
    "    else:\n",
    "        layers = [round(layer_1)]\n",
    "        \n",
    "    config = tabular_config(embed_p=float(dp), ps=float(wd))\n",
    "    \n",
    "    learn = tabular_learner(dls, layers=layers, metrics=F1Score(), config = config)\n",
    "\n",
    "    with learn.no_bar() and learn.no_logging():\n",
    "        learn.fit(5, lr=float(lr))\n",
    "\n",
    "    acc = float(learn.validate()[1])\n",
    "\n",
    "    return acc"
   ]
  },
  {
   "cell_type": "code",
   "execution_count": 57,
   "id": "cac54a72-5d6d-4794-bec9-46147716b2e4",
   "metadata": {},
   "outputs": [],
   "source": [
    "hps = {'lr': (1e-05, 1e-01),\n",
    "      'wd': (4e-4, 0.4),\n",
    "      'dp': (0.01, 0.5),\n",
    "       'n_layers': (1,3),\n",
    "       'layer_1': (50, 200),\n",
    "       'layer_2': (100, 1000),\n",
    "       'layer_3': (200, 2000)}"
   ]
  },
  {
   "cell_type": "code",
   "execution_count": 58,
   "id": "330efd75-fb07-4208-8d22-9bbde5598861",
   "metadata": {},
   "outputs": [],
   "source": [
    "optim = BayesianOptimization(\n",
    "    f = fit_with, # our fit function\n",
    "    pbounds = hps, # our hyper parameters to tune\n",
    "    verbose = 2, # 1 prints out when a maximum is observed, 0 for silent\n",
    "    random_state=2022\n",
    ")"
   ]
  },
  {
   "cell_type": "code",
   "execution_count": 59,
   "id": "6bb166f9-9f28-4801-bd3a-7d0489f6fc9d",
   "metadata": {},
   "outputs": [
    {
     "name": "stdout",
     "output_type": "stream",
     "text": [
      "|   iter    |  target   |    dp     |  layer_1  |  layer_2  |  layer_3  |    lr     | n_layers  |    wd     |\n",
      "-------------------------------------------------------------------------------------------------------------\n",
      "0.06854390534836674 0.35910382768673055 0.014585720765804704\n"
     ]
    },
    {
     "data": {
      "text/html": [
       "\n",
       "<style>\n",
       "    /* Turns off some styling */\n",
       "    progress {\n",
       "        /* gets rid of default border in Firefox and Opera. */\n",
       "        border: none;\n",
       "        /* Needs to be in here for Safari polyfill so background images work as expected. */\n",
       "        background-size: auto;\n",
       "    }\n",
       "    .progress-bar-interrupted, .progress-bar-interrupted::-webkit-progress-bar {\n",
       "        background: #F44336;\n",
       "    }\n",
       "</style>\n"
      ],
      "text/plain": [
       "<IPython.core.display.HTML object>"
      ]
     },
     "metadata": {},
     "output_type": "display_data"
    },
    {
     "data": {
      "text/html": [],
      "text/plain": [
       "<IPython.core.display.HTML object>"
      ]
     },
     "metadata": {},
     "output_type": "display_data"
    },
    {
     "data": {
      "text/html": [
       "\n",
       "<style>\n",
       "    /* Turns off some styling */\n",
       "    progress {\n",
       "        /* gets rid of default border in Firefox and Opera. */\n",
       "        border: none;\n",
       "        /* Needs to be in here for Safari polyfill so background images work as expected. */\n",
       "        background-size: auto;\n",
       "    }\n",
       "    .progress-bar-interrupted, .progress-bar-interrupted::-webkit-progress-bar {\n",
       "        background: #F44336;\n",
       "    }\n",
       "</style>\n"
      ],
      "text/plain": [
       "<IPython.core.display.HTML object>"
      ]
     },
     "metadata": {},
     "output_type": "display_data"
    },
    {
     "data": {
      "text/html": [],
      "text/plain": [
       "<IPython.core.display.HTML object>"
      ]
     },
     "metadata": {},
     "output_type": "display_data"
    },
    {
     "name": "stdout",
     "output_type": "stream",
     "text": [
      "| \u001b[0m 1       \u001b[0m | \u001b[0m 0.9543  \u001b[0m | \u001b[0m 0.01459 \u001b[0m | \u001b[0m 124.9   \u001b[0m | \u001b[0m 202.0   \u001b[0m | \u001b[0m 290.0   \u001b[0m | \u001b[0m 0.06854 \u001b[0m | \u001b[0m 1.974   \u001b[0m | \u001b[0m 0.3591  \u001b[0m |\n",
      "0.08275853120149226 0.38283491653085705 0.3272515146642005\n"
     ]
    },
    {
     "data": {
      "text/html": [
       "\n",
       "<style>\n",
       "    /* Turns off some styling */\n",
       "    progress {\n",
       "        /* gets rid of default border in Firefox and Opera. */\n",
       "        border: none;\n",
       "        /* Needs to be in here for Safari polyfill so background images work as expected. */\n",
       "        background-size: auto;\n",
       "    }\n",
       "    .progress-bar-interrupted, .progress-bar-interrupted::-webkit-progress-bar {\n",
       "        background: #F44336;\n",
       "    }\n",
       "</style>\n"
      ],
      "text/plain": [
       "<IPython.core.display.HTML object>"
      ]
     },
     "metadata": {},
     "output_type": "display_data"
    },
    {
     "data": {
      "text/html": [],
      "text/plain": [
       "<IPython.core.display.HTML object>"
      ]
     },
     "metadata": {},
     "output_type": "display_data"
    },
    {
     "data": {
      "text/html": [
       "\n",
       "<style>\n",
       "    /* Turns off some styling */\n",
       "    progress {\n",
       "        /* gets rid of default border in Firefox and Opera. */\n",
       "        border: none;\n",
       "        /* Needs to be in here for Safari polyfill so background images work as expected. */\n",
       "        background-size: auto;\n",
       "    }\n",
       "    .progress-bar-interrupted, .progress-bar-interrupted::-webkit-progress-bar {\n",
       "        background: #F44336;\n",
       "    }\n",
       "</style>\n"
      ],
      "text/plain": [
       "<IPython.core.display.HTML object>"
      ]
     },
     "metadata": {},
     "output_type": "display_data"
    },
    {
     "data": {
      "text/html": [],
      "text/plain": [
       "<IPython.core.display.HTML object>"
      ]
     },
     "metadata": {},
     "output_type": "display_data"
    },
    {
     "name": "stdout",
     "output_type": "stream",
     "text": [
      "| \u001b[95m 2       \u001b[0m | \u001b[95m 0.9549  \u001b[0m | \u001b[95m 0.3273  \u001b[0m | \u001b[95m 184.5   \u001b[0m | \u001b[95m 749.0   \u001b[0m | \u001b[95m 1.696e+0\u001b[0m | \u001b[95m 0.08276 \u001b[0m | \u001b[95m 2.667   \u001b[0m | \u001b[95m 0.3828  \u001b[0m |\n",
      "0.09775318854574432 0.2977848024169444 0.19034177413244452\n"
     ]
    },
    {
     "data": {
      "text/html": [
       "\n",
       "<style>\n",
       "    /* Turns off some styling */\n",
       "    progress {\n",
       "        /* gets rid of default border in Firefox and Opera. */\n",
       "        border: none;\n",
       "        /* Needs to be in here for Safari polyfill so background images work as expected. */\n",
       "        background-size: auto;\n",
       "    }\n",
       "    .progress-bar-interrupted, .progress-bar-interrupted::-webkit-progress-bar {\n",
       "        background: #F44336;\n",
       "    }\n",
       "</style>\n"
      ],
      "text/plain": [
       "<IPython.core.display.HTML object>"
      ]
     },
     "metadata": {},
     "output_type": "display_data"
    },
    {
     "data": {
      "text/html": [],
      "text/plain": [
       "<IPython.core.display.HTML object>"
      ]
     },
     "metadata": {},
     "output_type": "display_data"
    },
    {
     "data": {
      "text/html": [
       "\n",
       "<style>\n",
       "    /* Turns off some styling */\n",
       "    progress {\n",
       "        /* gets rid of default border in Firefox and Opera. */\n",
       "        border: none;\n",
       "        /* Needs to be in here for Safari polyfill so background images work as expected. */\n",
       "        background-size: auto;\n",
       "    }\n",
       "    .progress-bar-interrupted, .progress-bar-interrupted::-webkit-progress-bar {\n",
       "        background: #F44336;\n",
       "    }\n",
       "</style>\n"
      ],
      "text/plain": [
       "<IPython.core.display.HTML object>"
      ]
     },
     "metadata": {},
     "output_type": "display_data"
    },
    {
     "data": {
      "text/html": [],
      "text/plain": [
       "<IPython.core.display.HTML object>"
      ]
     },
     "metadata": {},
     "output_type": "display_data"
    },
    {
     "name": "stdout",
     "output_type": "stream",
     "text": [
      "| \u001b[0m 3       \u001b[0m | \u001b[0m 0.9191  \u001b[0m | \u001b[0m 0.1903  \u001b[0m | \u001b[0m 124.2   \u001b[0m | \u001b[0m 405.6   \u001b[0m | \u001b[0m 1.315e+0\u001b[0m | \u001b[0m 0.09775 \u001b[0m | \u001b[0m 1.193   \u001b[0m | \u001b[0m 0.2978  \u001b[0m |\n",
      "0.0523785062241329 0.15578159896948549 0.15332474230673704\n"
     ]
    },
    {
     "data": {
      "text/html": [
       "\n",
       "<style>\n",
       "    /* Turns off some styling */\n",
       "    progress {\n",
       "        /* gets rid of default border in Firefox and Opera. */\n",
       "        border: none;\n",
       "        /* Needs to be in here for Safari polyfill so background images work as expected. */\n",
       "        background-size: auto;\n",
       "    }\n",
       "    .progress-bar-interrupted, .progress-bar-interrupted::-webkit-progress-bar {\n",
       "        background: #F44336;\n",
       "    }\n",
       "</style>\n"
      ],
      "text/plain": [
       "<IPython.core.display.HTML object>"
      ]
     },
     "metadata": {},
     "output_type": "display_data"
    },
    {
     "data": {
      "text/html": [],
      "text/plain": [
       "<IPython.core.display.HTML object>"
      ]
     },
     "metadata": {},
     "output_type": "display_data"
    },
    {
     "data": {
      "text/html": [
       "\n",
       "<style>\n",
       "    /* Turns off some styling */\n",
       "    progress {\n",
       "        /* gets rid of default border in Firefox and Opera. */\n",
       "        border: none;\n",
       "        /* Needs to be in here for Safari polyfill so background images work as expected. */\n",
       "        background-size: auto;\n",
       "    }\n",
       "    .progress-bar-interrupted, .progress-bar-interrupted::-webkit-progress-bar {\n",
       "        background: #F44336;\n",
       "    }\n",
       "</style>\n"
      ],
      "text/plain": [
       "<IPython.core.display.HTML object>"
      ]
     },
     "metadata": {},
     "output_type": "display_data"
    },
    {
     "data": {
      "text/html": [],
      "text/plain": [
       "<IPython.core.display.HTML object>"
      ]
     },
     "metadata": {},
     "output_type": "display_data"
    },
    {
     "name": "stdout",
     "output_type": "stream",
     "text": [
      "| \u001b[0m 4       \u001b[0m | \u001b[0m 0.9517  \u001b[0m | \u001b[0m 0.1533  \u001b[0m | \u001b[0m 94.8    \u001b[0m | \u001b[0m 777.2   \u001b[0m | \u001b[0m 233.6   \u001b[0m | \u001b[0m 0.05238 \u001b[0m | \u001b[0m 2.729   \u001b[0m | \u001b[0m 0.1558  \u001b[0m |\n",
      "0.09759110360848654 0.31779016667245213 0.11397400623877652\n"
     ]
    },
    {
     "data": {
      "text/html": [
       "\n",
       "<style>\n",
       "    /* Turns off some styling */\n",
       "    progress {\n",
       "        /* gets rid of default border in Firefox and Opera. */\n",
       "        border: none;\n",
       "        /* Needs to be in here for Safari polyfill so background images work as expected. */\n",
       "        background-size: auto;\n",
       "    }\n",
       "    .progress-bar-interrupted, .progress-bar-interrupted::-webkit-progress-bar {\n",
       "        background: #F44336;\n",
       "    }\n",
       "</style>\n"
      ],
      "text/plain": [
       "<IPython.core.display.HTML object>"
      ]
     },
     "metadata": {},
     "output_type": "display_data"
    },
    {
     "data": {
      "text/html": [],
      "text/plain": [
       "<IPython.core.display.HTML object>"
      ]
     },
     "metadata": {},
     "output_type": "display_data"
    },
    {
     "data": {
      "text/html": [
       "\n",
       "<style>\n",
       "    /* Turns off some styling */\n",
       "    progress {\n",
       "        /* gets rid of default border in Firefox and Opera. */\n",
       "        border: none;\n",
       "        /* Needs to be in here for Safari polyfill so background images work as expected. */\n",
       "        background-size: auto;\n",
       "    }\n",
       "    .progress-bar-interrupted, .progress-bar-interrupted::-webkit-progress-bar {\n",
       "        background: #F44336;\n",
       "    }\n",
       "</style>\n"
      ],
      "text/plain": [
       "<IPython.core.display.HTML object>"
      ]
     },
     "metadata": {},
     "output_type": "display_data"
    },
    {
     "data": {
      "text/html": [],
      "text/plain": [
       "<IPython.core.display.HTML object>"
      ]
     },
     "metadata": {},
     "output_type": "display_data"
    },
    {
     "name": "stdout",
     "output_type": "stream",
     "text": [
      "| \u001b[0m 5       \u001b[0m | \u001b[0m 0.9145  \u001b[0m | \u001b[0m 0.114   \u001b[0m | \u001b[0m 121.3   \u001b[0m | \u001b[0m 608.2   \u001b[0m | \u001b[0m 829.0   \u001b[0m | \u001b[0m 0.09759 \u001b[0m | \u001b[0m 1.076   \u001b[0m | \u001b[0m 0.3178  \u001b[0m |\n",
      "0.014758066187534273 0.05187424191487874 0.0706900595359896\n"
     ]
    },
    {
     "data": {
      "text/html": [
       "\n",
       "<style>\n",
       "    /* Turns off some styling */\n",
       "    progress {\n",
       "        /* gets rid of default border in Firefox and Opera. */\n",
       "        border: none;\n",
       "        /* Needs to be in here for Safari polyfill so background images work as expected. */\n",
       "        background-size: auto;\n",
       "    }\n",
       "    .progress-bar-interrupted, .progress-bar-interrupted::-webkit-progress-bar {\n",
       "        background: #F44336;\n",
       "    }\n",
       "</style>\n"
      ],
      "text/plain": [
       "<IPython.core.display.HTML object>"
      ]
     },
     "metadata": {},
     "output_type": "display_data"
    },
    {
     "data": {
      "text/html": [],
      "text/plain": [
       "<IPython.core.display.HTML object>"
      ]
     },
     "metadata": {},
     "output_type": "display_data"
    },
    {
     "data": {
      "text/html": [
       "\n",
       "<style>\n",
       "    /* Turns off some styling */\n",
       "    progress {\n",
       "        /* gets rid of default border in Firefox and Opera. */\n",
       "        border: none;\n",
       "        /* Needs to be in here for Safari polyfill so background images work as expected. */\n",
       "        background-size: auto;\n",
       "    }\n",
       "    .progress-bar-interrupted, .progress-bar-interrupted::-webkit-progress-bar {\n",
       "        background: #F44336;\n",
       "    }\n",
       "</style>\n"
      ],
      "text/plain": [
       "<IPython.core.display.HTML object>"
      ]
     },
     "metadata": {},
     "output_type": "display_data"
    },
    {
     "data": {
      "text/html": [],
      "text/plain": [
       "<IPython.core.display.HTML object>"
      ]
     },
     "metadata": {},
     "output_type": "display_data"
    },
    {
     "name": "stdout",
     "output_type": "stream",
     "text": [
      "| \u001b[95m 6       \u001b[0m | \u001b[95m 0.9753  \u001b[0m | \u001b[95m 0.07069 \u001b[0m | \u001b[95m 152.5   \u001b[0m | \u001b[95m 807.6   \u001b[0m | \u001b[95m 1.622e+0\u001b[0m | \u001b[95m 0.01476 \u001b[0m | \u001b[95m 2.988   \u001b[0m | \u001b[95m 0.05187 \u001b[0m |\n",
      "0.06153371553831089 0.2914475542763275 0.48120741011414464\n"
     ]
    },
    {
     "data": {
      "text/html": [
       "\n",
       "<style>\n",
       "    /* Turns off some styling */\n",
       "    progress {\n",
       "        /* gets rid of default border in Firefox and Opera. */\n",
       "        border: none;\n",
       "        /* Needs to be in here for Safari polyfill so background images work as expected. */\n",
       "        background-size: auto;\n",
       "    }\n",
       "    .progress-bar-interrupted, .progress-bar-interrupted::-webkit-progress-bar {\n",
       "        background: #F44336;\n",
       "    }\n",
       "</style>\n"
      ],
      "text/plain": [
       "<IPython.core.display.HTML object>"
      ]
     },
     "metadata": {},
     "output_type": "display_data"
    },
    {
     "data": {
      "text/html": [],
      "text/plain": [
       "<IPython.core.display.HTML object>"
      ]
     },
     "metadata": {},
     "output_type": "display_data"
    },
    {
     "data": {
      "text/html": [
       "\n",
       "<style>\n",
       "    /* Turns off some styling */\n",
       "    progress {\n",
       "        /* gets rid of default border in Firefox and Opera. */\n",
       "        border: none;\n",
       "        /* Needs to be in here for Safari polyfill so background images work as expected. */\n",
       "        background-size: auto;\n",
       "    }\n",
       "    .progress-bar-interrupted, .progress-bar-interrupted::-webkit-progress-bar {\n",
       "        background: #F44336;\n",
       "    }\n",
       "</style>\n"
      ],
      "text/plain": [
       "<IPython.core.display.HTML object>"
      ]
     },
     "metadata": {},
     "output_type": "display_data"
    },
    {
     "data": {
      "text/html": [],
      "text/plain": [
       "<IPython.core.display.HTML object>"
      ]
     },
     "metadata": {},
     "output_type": "display_data"
    },
    {
     "name": "stdout",
     "output_type": "stream",
     "text": [
      "| \u001b[0m 7       \u001b[0m | \u001b[0m 0.9695  \u001b[0m | \u001b[0m 0.4812  \u001b[0m | \u001b[0m 155.8   \u001b[0m | \u001b[0m 794.3   \u001b[0m | \u001b[0m 1.624e+0\u001b[0m | \u001b[0m 0.06153 \u001b[0m | \u001b[0m 1.874   \u001b[0m | \u001b[0m 0.2914  \u001b[0m |\n",
      "0.0049353990128066065 0.3128612876006826 0.36478073734354854\n"
     ]
    },
    {
     "data": {
      "text/html": [
       "\n",
       "<style>\n",
       "    /* Turns off some styling */\n",
       "    progress {\n",
       "        /* gets rid of default border in Firefox and Opera. */\n",
       "        border: none;\n",
       "        /* Needs to be in here for Safari polyfill so background images work as expected. */\n",
       "        background-size: auto;\n",
       "    }\n",
       "    .progress-bar-interrupted, .progress-bar-interrupted::-webkit-progress-bar {\n",
       "        background: #F44336;\n",
       "    }\n",
       "</style>\n"
      ],
      "text/plain": [
       "<IPython.core.display.HTML object>"
      ]
     },
     "metadata": {},
     "output_type": "display_data"
    },
    {
     "data": {
      "text/html": [],
      "text/plain": [
       "<IPython.core.display.HTML object>"
      ]
     },
     "metadata": {},
     "output_type": "display_data"
    },
    {
     "data": {
      "text/html": [
       "\n",
       "<style>\n",
       "    /* Turns off some styling */\n",
       "    progress {\n",
       "        /* gets rid of default border in Firefox and Opera. */\n",
       "        border: none;\n",
       "        /* Needs to be in here for Safari polyfill so background images work as expected. */\n",
       "        background-size: auto;\n",
       "    }\n",
       "    .progress-bar-interrupted, .progress-bar-interrupted::-webkit-progress-bar {\n",
       "        background: #F44336;\n",
       "    }\n",
       "</style>\n"
      ],
      "text/plain": [
       "<IPython.core.display.HTML object>"
      ]
     },
     "metadata": {},
     "output_type": "display_data"
    },
    {
     "data": {
      "text/html": [],
      "text/plain": [
       "<IPython.core.display.HTML object>"
      ]
     },
     "metadata": {},
     "output_type": "display_data"
    },
    {
     "name": "stdout",
     "output_type": "stream",
     "text": [
      "| \u001b[95m 8       \u001b[0m | \u001b[95m 0.9754  \u001b[0m | \u001b[95m 0.3648  \u001b[0m | \u001b[95m 107.6   \u001b[0m | \u001b[95m 779.1   \u001b[0m | \u001b[95m 232.7   \u001b[0m | \u001b[95m 0.004935\u001b[0m | \u001b[95m 2.796   \u001b[0m | \u001b[95m 0.3129  \u001b[0m |\n",
      "0.0848487986269036 0.25788393868333537 0.4476694232634263\n"
     ]
    },
    {
     "data": {
      "text/html": [
       "\n",
       "<style>\n",
       "    /* Turns off some styling */\n",
       "    progress {\n",
       "        /* gets rid of default border in Firefox and Opera. */\n",
       "        border: none;\n",
       "        /* Needs to be in here for Safari polyfill so background images work as expected. */\n",
       "        background-size: auto;\n",
       "    }\n",
       "    .progress-bar-interrupted, .progress-bar-interrupted::-webkit-progress-bar {\n",
       "        background: #F44336;\n",
       "    }\n",
       "</style>\n"
      ],
      "text/plain": [
       "<IPython.core.display.HTML object>"
      ]
     },
     "metadata": {},
     "output_type": "display_data"
    },
    {
     "data": {
      "text/html": [],
      "text/plain": [
       "<IPython.core.display.HTML object>"
      ]
     },
     "metadata": {},
     "output_type": "display_data"
    },
    {
     "data": {
      "text/html": [
       "\n",
       "<style>\n",
       "    /* Turns off some styling */\n",
       "    progress {\n",
       "        /* gets rid of default border in Firefox and Opera. */\n",
       "        border: none;\n",
       "        /* Needs to be in here for Safari polyfill so background images work as expected. */\n",
       "        background-size: auto;\n",
       "    }\n",
       "    .progress-bar-interrupted, .progress-bar-interrupted::-webkit-progress-bar {\n",
       "        background: #F44336;\n",
       "    }\n",
       "</style>\n"
      ],
      "text/plain": [
       "<IPython.core.display.HTML object>"
      ]
     },
     "metadata": {},
     "output_type": "display_data"
    },
    {
     "data": {
      "text/html": [],
      "text/plain": [
       "<IPython.core.display.HTML object>"
      ]
     },
     "metadata": {},
     "output_type": "display_data"
    },
    {
     "name": "stdout",
     "output_type": "stream",
     "text": [
      "| \u001b[0m 9       \u001b[0m | \u001b[0m 0.8881  \u001b[0m | \u001b[0m 0.4477  \u001b[0m | \u001b[0m 126.3   \u001b[0m | \u001b[0m 791.2   \u001b[0m | \u001b[0m 230.1   \u001b[0m | \u001b[0m 0.08485 \u001b[0m | \u001b[0m 2.707   \u001b[0m | \u001b[0m 0.2579  \u001b[0m |\n",
      "0.07701337489203235 0.2593419629074263 0.17453061533217995\n"
     ]
    },
    {
     "data": {
      "text/html": [
       "\n",
       "<style>\n",
       "    /* Turns off some styling */\n",
       "    progress {\n",
       "        /* gets rid of default border in Firefox and Opera. */\n",
       "        border: none;\n",
       "        /* Needs to be in here for Safari polyfill so background images work as expected. */\n",
       "        background-size: auto;\n",
       "    }\n",
       "    .progress-bar-interrupted, .progress-bar-interrupted::-webkit-progress-bar {\n",
       "        background: #F44336;\n",
       "    }\n",
       "</style>\n"
      ],
      "text/plain": [
       "<IPython.core.display.HTML object>"
      ]
     },
     "metadata": {},
     "output_type": "display_data"
    },
    {
     "data": {
      "text/html": [],
      "text/plain": [
       "<IPython.core.display.HTML object>"
      ]
     },
     "metadata": {},
     "output_type": "display_data"
    },
    {
     "data": {
      "text/html": [
       "\n",
       "<style>\n",
       "    /* Turns off some styling */\n",
       "    progress {\n",
       "        /* gets rid of default border in Firefox and Opera. */\n",
       "        border: none;\n",
       "        /* Needs to be in here for Safari polyfill so background images work as expected. */\n",
       "        background-size: auto;\n",
       "    }\n",
       "    .progress-bar-interrupted, .progress-bar-interrupted::-webkit-progress-bar {\n",
       "        background: #F44336;\n",
       "    }\n",
       "</style>\n"
      ],
      "text/plain": [
       "<IPython.core.display.HTML object>"
      ]
     },
     "metadata": {},
     "output_type": "display_data"
    },
    {
     "data": {
      "text/html": [],
      "text/plain": [
       "<IPython.core.display.HTML object>"
      ]
     },
     "metadata": {},
     "output_type": "display_data"
    },
    {
     "name": "stdout",
     "output_type": "stream",
     "text": [
      "| \u001b[0m 10      \u001b[0m | \u001b[0m 0.9493  \u001b[0m | \u001b[0m 0.1745  \u001b[0m | \u001b[0m 155.4   \u001b[0m | \u001b[0m 799.6   \u001b[0m | \u001b[0m 1.639e+0\u001b[0m | \u001b[0m 0.07701 \u001b[0m | \u001b[0m 1.174   \u001b[0m | \u001b[0m 0.2593  \u001b[0m |\n",
      "0.04269487123289349 0.006238360333659032 0.3077286615541998\n"
     ]
    },
    {
     "data": {
      "text/html": [
       "\n",
       "<style>\n",
       "    /* Turns off some styling */\n",
       "    progress {\n",
       "        /* gets rid of default border in Firefox and Opera. */\n",
       "        border: none;\n",
       "        /* Needs to be in here for Safari polyfill so background images work as expected. */\n",
       "        background-size: auto;\n",
       "    }\n",
       "    .progress-bar-interrupted, .progress-bar-interrupted::-webkit-progress-bar {\n",
       "        background: #F44336;\n",
       "    }\n",
       "</style>\n"
      ],
      "text/plain": [
       "<IPython.core.display.HTML object>"
      ]
     },
     "metadata": {},
     "output_type": "display_data"
    },
    {
     "data": {
      "text/html": [],
      "text/plain": [
       "<IPython.core.display.HTML object>"
      ]
     },
     "metadata": {},
     "output_type": "display_data"
    },
    {
     "data": {
      "text/html": [
       "\n",
       "<style>\n",
       "    /* Turns off some styling */\n",
       "    progress {\n",
       "        /* gets rid of default border in Firefox and Opera. */\n",
       "        border: none;\n",
       "        /* Needs to be in here for Safari polyfill so background images work as expected. */\n",
       "        background-size: auto;\n",
       "    }\n",
       "    .progress-bar-interrupted, .progress-bar-interrupted::-webkit-progress-bar {\n",
       "        background: #F44336;\n",
       "    }\n",
       "</style>\n"
      ],
      "text/plain": [
       "<IPython.core.display.HTML object>"
      ]
     },
     "metadata": {},
     "output_type": "display_data"
    },
    {
     "data": {
      "text/html": [],
      "text/plain": [
       "<IPython.core.display.HTML object>"
      ]
     },
     "metadata": {},
     "output_type": "display_data"
    },
    {
     "name": "stdout",
     "output_type": "stream",
     "text": [
      "| \u001b[95m 11      \u001b[0m | \u001b[95m 0.9792  \u001b[0m | \u001b[95m 0.3077  \u001b[0m | \u001b[95m 125.3   \u001b[0m | \u001b[95m 197.5   \u001b[0m | \u001b[95m 287.5   \u001b[0m | \u001b[95m 0.04269 \u001b[0m | \u001b[95m 1.66    \u001b[0m | \u001b[95m 0.006238\u001b[0m |\n",
      "0.09990176105563875 0.09339602098834633 0.367982640391549\n"
     ]
    },
    {
     "data": {
      "text/html": [
       "\n",
       "<style>\n",
       "    /* Turns off some styling */\n",
       "    progress {\n",
       "        /* gets rid of default border in Firefox and Opera. */\n",
       "        border: none;\n",
       "        /* Needs to be in here for Safari polyfill so background images work as expected. */\n",
       "        background-size: auto;\n",
       "    }\n",
       "    .progress-bar-interrupted, .progress-bar-interrupted::-webkit-progress-bar {\n",
       "        background: #F44336;\n",
       "    }\n",
       "</style>\n"
      ],
      "text/plain": [
       "<IPython.core.display.HTML object>"
      ]
     },
     "metadata": {},
     "output_type": "display_data"
    },
    {
     "data": {
      "text/html": [],
      "text/plain": [
       "<IPython.core.display.HTML object>"
      ]
     },
     "metadata": {},
     "output_type": "display_data"
    },
    {
     "data": {
      "text/html": [
       "\n",
       "<style>\n",
       "    /* Turns off some styling */\n",
       "    progress {\n",
       "        /* gets rid of default border in Firefox and Opera. */\n",
       "        border: none;\n",
       "        /* Needs to be in here for Safari polyfill so background images work as expected. */\n",
       "        background-size: auto;\n",
       "    }\n",
       "    .progress-bar-interrupted, .progress-bar-interrupted::-webkit-progress-bar {\n",
       "        background: #F44336;\n",
       "    }\n",
       "</style>\n"
      ],
      "text/plain": [
       "<IPython.core.display.HTML object>"
      ]
     },
     "metadata": {},
     "output_type": "display_data"
    },
    {
     "data": {
      "text/html": [],
      "text/plain": [
       "<IPython.core.display.HTML object>"
      ]
     },
     "metadata": {},
     "output_type": "display_data"
    },
    {
     "name": "stdout",
     "output_type": "stream",
     "text": [
      "| \u001b[0m 12      \u001b[0m | \u001b[0m 0.9642  \u001b[0m | \u001b[0m 0.368   \u001b[0m | \u001b[0m 158.0   \u001b[0m | \u001b[0m 804.3   \u001b[0m | \u001b[0m 1.626e+0\u001b[0m | \u001b[0m 0.0999  \u001b[0m | \u001b[0m 1.118   \u001b[0m | \u001b[0m 0.0934  \u001b[0m |\n",
      "0.014634903700777328 0.3430530409953527 0.23157593758487263\n"
     ]
    },
    {
     "data": {
      "text/html": [
       "\n",
       "<style>\n",
       "    /* Turns off some styling */\n",
       "    progress {\n",
       "        /* gets rid of default border in Firefox and Opera. */\n",
       "        border: none;\n",
       "        /* Needs to be in here for Safari polyfill so background images work as expected. */\n",
       "        background-size: auto;\n",
       "    }\n",
       "    .progress-bar-interrupted, .progress-bar-interrupted::-webkit-progress-bar {\n",
       "        background: #F44336;\n",
       "    }\n",
       "</style>\n"
      ],
      "text/plain": [
       "<IPython.core.display.HTML object>"
      ]
     },
     "metadata": {},
     "output_type": "display_data"
    },
    {
     "data": {
      "text/html": [],
      "text/plain": [
       "<IPython.core.display.HTML object>"
      ]
     },
     "metadata": {},
     "output_type": "display_data"
    },
    {
     "data": {
      "text/html": [
       "\n",
       "<style>\n",
       "    /* Turns off some styling */\n",
       "    progress {\n",
       "        /* gets rid of default border in Firefox and Opera. */\n",
       "        border: none;\n",
       "        /* Needs to be in here for Safari polyfill so background images work as expected. */\n",
       "        background-size: auto;\n",
       "    }\n",
       "    .progress-bar-interrupted, .progress-bar-interrupted::-webkit-progress-bar {\n",
       "        background: #F44336;\n",
       "    }\n",
       "</style>\n"
      ],
      "text/plain": [
       "<IPython.core.display.HTML object>"
      ]
     },
     "metadata": {},
     "output_type": "display_data"
    },
    {
     "data": {
      "text/html": [],
      "text/plain": [
       "<IPython.core.display.HTML object>"
      ]
     },
     "metadata": {},
     "output_type": "display_data"
    },
    {
     "name": "stdout",
     "output_type": "stream",
     "text": [
      "| \u001b[0m 13      \u001b[0m | \u001b[0m 0.9742  \u001b[0m | \u001b[0m 0.2316  \u001b[0m | \u001b[0m 154.7   \u001b[0m | \u001b[0m 806.8   \u001b[0m | \u001b[0m 1.608e+0\u001b[0m | \u001b[0m 0.01463 \u001b[0m | \u001b[0m 1.112   \u001b[0m | \u001b[0m 0.3431  \u001b[0m |\n",
      "0.05905229493959001 0.11848337739111885 0.30704556465167204\n"
     ]
    },
    {
     "data": {
      "text/html": [
       "\n",
       "<style>\n",
       "    /* Turns off some styling */\n",
       "    progress {\n",
       "        /* gets rid of default border in Firefox and Opera. */\n",
       "        border: none;\n",
       "        /* Needs to be in here for Safari polyfill so background images work as expected. */\n",
       "        background-size: auto;\n",
       "    }\n",
       "    .progress-bar-interrupted, .progress-bar-interrupted::-webkit-progress-bar {\n",
       "        background: #F44336;\n",
       "    }\n",
       "</style>\n"
      ],
      "text/plain": [
       "<IPython.core.display.HTML object>"
      ]
     },
     "metadata": {},
     "output_type": "display_data"
    },
    {
     "data": {
      "text/html": [],
      "text/plain": [
       "<IPython.core.display.HTML object>"
      ]
     },
     "metadata": {},
     "output_type": "display_data"
    },
    {
     "data": {
      "text/html": [
       "\n",
       "<style>\n",
       "    /* Turns off some styling */\n",
       "    progress {\n",
       "        /* gets rid of default border in Firefox and Opera. */\n",
       "        border: none;\n",
       "        /* Needs to be in here for Safari polyfill so background images work as expected. */\n",
       "        background-size: auto;\n",
       "    }\n",
       "    .progress-bar-interrupted, .progress-bar-interrupted::-webkit-progress-bar {\n",
       "        background: #F44336;\n",
       "    }\n",
       "</style>\n"
      ],
      "text/plain": [
       "<IPython.core.display.HTML object>"
      ]
     },
     "metadata": {},
     "output_type": "display_data"
    },
    {
     "data": {
      "text/html": [],
      "text/plain": [
       "<IPython.core.display.HTML object>"
      ]
     },
     "metadata": {},
     "output_type": "display_data"
    },
    {
     "name": "stdout",
     "output_type": "stream",
     "text": [
      "| \u001b[0m 14      \u001b[0m | \u001b[0m 0.8994  \u001b[0m | \u001b[0m 0.307   \u001b[0m | \u001b[0m 149.9   \u001b[0m | \u001b[0m 822.6   \u001b[0m | \u001b[0m 1.619e+0\u001b[0m | \u001b[0m 0.05905 \u001b[0m | \u001b[0m 2.805   \u001b[0m | \u001b[0m 0.1185  \u001b[0m |\n",
      "0.024039443585879866 0.040885786419594526 0.2555671237620613\n"
     ]
    },
    {
     "data": {
      "text/html": [
       "\n",
       "<style>\n",
       "    /* Turns off some styling */\n",
       "    progress {\n",
       "        /* gets rid of default border in Firefox and Opera. */\n",
       "        border: none;\n",
       "        /* Needs to be in here for Safari polyfill so background images work as expected. */\n",
       "        background-size: auto;\n",
       "    }\n",
       "    .progress-bar-interrupted, .progress-bar-interrupted::-webkit-progress-bar {\n",
       "        background: #F44336;\n",
       "    }\n",
       "</style>\n"
      ],
      "text/plain": [
       "<IPython.core.display.HTML object>"
      ]
     },
     "metadata": {},
     "output_type": "display_data"
    },
    {
     "data": {
      "text/html": [],
      "text/plain": [
       "<IPython.core.display.HTML object>"
      ]
     },
     "metadata": {},
     "output_type": "display_data"
    },
    {
     "data": {
      "text/html": [
       "\n",
       "<style>\n",
       "    /* Turns off some styling */\n",
       "    progress {\n",
       "        /* gets rid of default border in Firefox and Opera. */\n",
       "        border: none;\n",
       "        /* Needs to be in here for Safari polyfill so background images work as expected. */\n",
       "        background-size: auto;\n",
       "    }\n",
       "    .progress-bar-interrupted, .progress-bar-interrupted::-webkit-progress-bar {\n",
       "        background: #F44336;\n",
       "    }\n",
       "</style>\n"
      ],
      "text/plain": [
       "<IPython.core.display.HTML object>"
      ]
     },
     "metadata": {},
     "output_type": "display_data"
    },
    {
     "data": {
      "text/html": [],
      "text/plain": [
       "<IPython.core.display.HTML object>"
      ]
     },
     "metadata": {},
     "output_type": "display_data"
    },
    {
     "name": "stdout",
     "output_type": "stream",
     "text": [
      "| \u001b[0m 15      \u001b[0m | \u001b[0m 0.9742  \u001b[0m | \u001b[0m 0.2556  \u001b[0m | \u001b[0m 150.3   \u001b[0m | \u001b[0m 801.4   \u001b[0m | \u001b[0m 1.597e+0\u001b[0m | \u001b[0m 0.02404 \u001b[0m | \u001b[0m 1.458   \u001b[0m | \u001b[0m 0.04089 \u001b[0m |\n",
      "=============================================================================================================\n",
      "CPU times: user 12min 24s, sys: 8.74 s, total: 12min 33s\n",
      "Wall time: 3min 6s\n"
     ]
    }
   ],
   "source": [
    "%time optim.maximize(n_iter=10)"
   ]
  },
  {
   "cell_type": "code",
   "execution_count": 60,
   "id": "cb9daadc-ebb1-461e-bd08-f46d27d4511d",
   "metadata": {},
   "outputs": [
    {
     "name": "stdout",
     "output_type": "stream",
     "text": [
      "{'target': 0.9792446410343655, 'params': {'dp': 0.3077286615541998, 'layer_1': 125.30464227323006, 'layer_2': 197.4724508662511, 'layer_3': 287.51004157972625, 'lr': 0.04269487123289349, 'n_layers': 1.6602770901706678, 'wd': 0.006238360333659032}}\n"
     ]
    }
   ],
   "source": [
    "print(optim.max)"
   ]
  },
  {
   "cell_type": "code",
   "execution_count": 61,
   "id": "a9a8cf41-2ee3-451c-9956-dcf6ba78ba8f",
   "metadata": {},
   "outputs": [],
   "source": [
    "opt = optim.max[\"params\"]\n",
    "layers = []\n",
    "\n",
    "for i in range(0,int(optim.max[\"params\"][\"n_layers\"])):\n",
    "    selector = \"layer_\" + str(i+1)\n",
    "    layers.append(int(opt[selector]))"
   ]
  },
  {
   "cell_type": "code",
   "execution_count": 69,
   "id": "f81d8ff7-bb12-4639-9d2c-341ea9d08dcc",
   "metadata": {},
   "outputs": [],
   "source": [
    "optmized_config = tabular_config(embed_p=float(opt['dp']), ps=float(opt['wd']))"
   ]
  },
  {
   "cell_type": "code",
   "execution_count": 72,
   "id": "e8b72a42-436b-4c62-b5d8-c0750f2349fd",
   "metadata": {},
   "outputs": [],
   "source": [
    "optmized_learn = tabular_learner(dls, layers=layers, opt_func=RAdam, config=optmized_config,\n",
    "                                 metrics=[accuracy, error_rate, RocAucBinary(), Recall(), Precision(), F1Score()])"
   ]
  },
  {
   "cell_type": "code",
   "execution_count": 73,
   "id": "d3063ee4-4f53-4c45-9db7-b47d98593fa9",
   "metadata": {},
   "outputs": [
    {
     "data": {
      "text/html": [
       "\n",
       "<style>\n",
       "    /* Turns off some styling */\n",
       "    progress {\n",
       "        /* gets rid of default border in Firefox and Opera. */\n",
       "        border: none;\n",
       "        /* Needs to be in here for Safari polyfill so background images work as expected. */\n",
       "        background-size: auto;\n",
       "    }\n",
       "    .progress-bar-interrupted, .progress-bar-interrupted::-webkit-progress-bar {\n",
       "        background: #F44336;\n",
       "    }\n",
       "</style>\n"
      ],
      "text/plain": [
       "<IPython.core.display.HTML object>"
      ]
     },
     "metadata": {},
     "output_type": "display_data"
    },
    {
     "data": {
      "text/html": [
       "<table border=\"1\" class=\"dataframe\">\n",
       "  <thead>\n",
       "    <tr style=\"text-align: left;\">\n",
       "      <th>epoch</th>\n",
       "      <th>train_loss</th>\n",
       "      <th>valid_loss</th>\n",
       "      <th>accuracy</th>\n",
       "      <th>error_rate</th>\n",
       "      <th>roc_auc_score</th>\n",
       "      <th>recall_score</th>\n",
       "      <th>precision_score</th>\n",
       "      <th>f1_score</th>\n",
       "      <th>time</th>\n",
       "    </tr>\n",
       "  </thead>\n",
       "  <tbody>\n",
       "    <tr>\n",
       "      <td>0</td>\n",
       "      <td>0.098123</td>\n",
       "      <td>0.058238</td>\n",
       "      <td>0.979265</td>\n",
       "      <td>0.020735</td>\n",
       "      <td>0.997018</td>\n",
       "      <td>0.939271</td>\n",
       "      <td>0.965326</td>\n",
       "      <td>0.952120</td>\n",
       "      <td>00:02</td>\n",
       "    </tr>\n",
       "    <tr>\n",
       "      <td>1</td>\n",
       "      <td>0.073638</td>\n",
       "      <td>0.068013</td>\n",
       "      <td>0.981783</td>\n",
       "      <td>0.018217</td>\n",
       "      <td>0.997881</td>\n",
       "      <td>0.989879</td>\n",
       "      <td>0.931429</td>\n",
       "      <td>0.959764</td>\n",
       "      <td>00:02</td>\n",
       "    </tr>\n",
       "    <tr>\n",
       "      <td>2</td>\n",
       "      <td>0.055543</td>\n",
       "      <td>0.041533</td>\n",
       "      <td>0.984153</td>\n",
       "      <td>0.015847</td>\n",
       "      <td>0.998816</td>\n",
       "      <td>0.988529</td>\n",
       "      <td>0.942122</td>\n",
       "      <td>0.964768</td>\n",
       "      <td>00:02</td>\n",
       "    </tr>\n",
       "  </tbody>\n",
       "</table>"
      ],
      "text/plain": [
       "<IPython.core.display.HTML object>"
      ]
     },
     "metadata": {},
     "output_type": "display_data"
    },
    {
     "name": "stdout",
     "output_type": "stream",
     "text": [
      "No improvement since epoch 0: early stopping\n"
     ]
    }
   ],
   "source": [
    "optmized_learn.fit(25, lr=float(opt[\"lr\"]), cbs=[EarlyStoppingCallback(monitor='accuracy', min_delta=0.01, patience=2)])"
   ]
  },
  {
   "cell_type": "code",
   "execution_count": 74,
   "id": "2319c0eb-61cc-48ab-81d7-fdc56b093d53",
   "metadata": {},
   "outputs": [
    {
     "data": {
      "image/png": "[encoded data removed]",
      "text/plain": [
       "<Figure size 432x288 with 1 Axes>"
      ]
     },
     "metadata": {
      "needs_background": "light"
     },
     "output_type": "display_data"
    }
   ],
   "source": [
    "optmized_learn.recorder.plot_loss()"
   ]
  },
  {
   "cell_type": "code",
   "execution_count": 75,
   "id": "24955792-e67c-4d7f-a9ff-2141c096b3c6",
   "metadata": {},
   "outputs": [],
   "source": [
    "dl_test = pd.concat([all_set.X_test, all_set.y_test], axis=1)"
   ]
  },
  {
   "cell_type": "code",
   "execution_count": 77,
   "id": "eb35f3e8-863c-4cbb-9ea8-5f2d5725aad6",
   "metadata": {},
   "outputs": [],
   "source": [
    "to_a = optmized_learn.dls.train_ds.new(dl_test)\n",
    "to_a.process()\n",
    "dl_a = TabDataLoader(to_a)"
   ]
  },
  {
   "cell_type": "code",
   "execution_count": 79,
   "id": "22335f16-1bd3-41ea-8eb6-fb354fa55131",
   "metadata": {},
   "outputs": [
    {
     "data": {
      "text/html": [
       "\n",
       "<style>\n",
       "    /* Turns off some styling */\n",
       "    progress {\n",
       "        /* gets rid of default border in Firefox and Opera. */\n",
       "        border: none;\n",
       "        /* Needs to be in here for Safari polyfill so background images work as expected. */\n",
       "        background-size: auto;\n",
       "    }\n",
       "    .progress-bar-interrupted, .progress-bar-interrupted::-webkit-progress-bar {\n",
       "        background: #F44336;\n",
       "    }\n",
       "</style>\n"
      ],
      "text/plain": [
       "<IPython.core.display.HTML object>"
      ]
     },
     "metadata": {},
     "output_type": "display_data"
    },
    {
     "data": {
      "text/html": [],
      "text/plain": [
       "<IPython.core.display.HTML object>"
      ]
     },
     "metadata": {},
     "output_type": "display_data"
    },
    {
     "data": {
      "text/html": [
       "\n",
       "<style>\n",
       "    /* Turns off some styling */\n",
       "    progress {\n",
       "        /* gets rid of default border in Firefox and Opera. */\n",
       "        border: none;\n",
       "        /* Needs to be in here for Safari polyfill so background images work as expected. */\n",
       "        background-size: auto;\n",
       "    }\n",
       "    .progress-bar-interrupted, .progress-bar-interrupted::-webkit-progress-bar {\n",
       "        background: #F44336;\n",
       "    }\n",
       "</style>\n"
      ],
      "text/plain": [
       "<IPython.core.display.HTML object>"
      ]
     },
     "metadata": {},
     "output_type": "display_data"
    },
    {
     "data": {
      "text/html": [],
      "text/plain": [
       "<IPython.core.display.HTML object>"
      ]
     },
     "metadata": {},
     "output_type": "display_data"
    },
    {
     "data": {
      "image/png": "[encoded data removed]",
      "text/plain": [
       "<Figure size 432x288 with 1 Axes>"
      ]
     },
     "metadata": {
      "needs_background": "light"
     },
     "output_type": "display_data"
    }
   ],
   "source": [
    "interp = ClassificationInterpretation.from_learner(optmized_learn, dl=dl_a)\n",
    "interp.plot_confusion_matrix()"
   ]
  },
  {
   "cell_type": "code",
   "execution_count": 80,
   "id": "75d0f8f0-ad02-4e3b-8cb4-abab9a8a2926",
   "metadata": {},
   "outputs": [
    {
     "data": {
      "text/html": [
       "\n",
       "<style>\n",
       "    /* Turns off some styling */\n",
       "    progress {\n",
       "        /* gets rid of default border in Firefox and Opera. */\n",
       "        border: none;\n",
       "        /* Needs to be in here for Safari polyfill so background images work as expected. */\n",
       "        background-size: auto;\n",
       "    }\n",
       "    .progress-bar-interrupted, .progress-bar-interrupted::-webkit-progress-bar {\n",
       "        background: #F44336;\n",
       "    }\n",
       "</style>\n"
      ],
      "text/plain": [
       "<IPython.core.display.HTML object>"
      ]
     },
     "metadata": {},
     "output_type": "display_data"
    },
    {
     "data": {
      "text/html": [],
      "text/plain": [
       "<IPython.core.display.HTML object>"
      ]
     },
     "metadata": {},
     "output_type": "display_data"
    },
    {
     "name": "stdout",
     "output_type": "stream",
     "text": [
      "              precision    recall  f1-score   support\n",
      "\n",
      "           0       0.76      0.90      0.83      3110\n",
      "           1       0.71      0.45      0.55      1618\n",
      "\n",
      "    accuracy                           0.75      4728\n",
      "   macro avg       0.73      0.68      0.69      4728\n",
      "weighted avg       0.74      0.75      0.73      4728\n",
      "\n"
     ]
    }
   ],
   "source": [
    "interp.print_classification_report()"
   ]
  },
  {
   "cell_type": "code",
   "execution_count": null,
   "id": "1069ae85-d76c-44c8-9e2b-c7519b349f49",
   "metadata": {},
   "outputs": [],
   "source": [
    "interp.print_classification_report()"
   ]
  },
  {
   "cell_type": "code",
   "execution_count": 84,
   "id": "ada2cd01-f2ce-4fb2-ad52-436c2be119fa",
   "metadata": {},
   "outputs": [
    {
     "data": {
      "text/html": [
       "\n",
       "<style>\n",
       "    /* Turns off some styling */\n",
       "    progress {\n",
       "        /* gets rid of default border in Firefox and Opera. */\n",
       "        border: none;\n",
       "        /* Needs to be in here for Safari polyfill so background images work as expected. */\n",
       "        background-size: auto;\n",
       "    }\n",
       "    .progress-bar-interrupted, .progress-bar-interrupted::-webkit-progress-bar {\n",
       "        background: #F44336;\n",
       "    }\n",
       "</style>\n"
      ],
      "text/plain": [
       "<IPython.core.display.HTML object>"
      ]
     },
     "metadata": {},
     "output_type": "display_data"
    },
    {
     "data": {
      "text/html": [],
      "text/plain": [
       "<IPython.core.display.HTML object>"
      ]
     },
     "metadata": {},
     "output_type": "display_data"
    },
    {
     "name": "stdout",
     "output_type": "stream",
     "text": [
      "The accuracy is 0.749%.\n"
     ]
    }
   ],
   "source": [
    "preds,y, loss = optmized_learn.get_preds(dl=dl_a, with_loss=True)\n",
    "# get accuracy\n",
    "acc = accuracy(preds, y)\n",
    "print(f'The accuracy is {acc:0.3f}%.')"
   ]
  },
  {
   "cell_type": "code",
   "execution_count": 82,
   "id": "8caac463-7570-4af9-a3fb-c080caf14c1e",
   "metadata": {},
   "outputs": [
    {
     "name": "stdout",
     "output_type": "stream",
     "text": [
      "ROC area is 0.7156721608591449\n"
     ]
    }
   ],
   "source": [
    "from sklearn.metrics import roc_curve, auc\n",
    "# probs from log preds\n",
    "probs = np.exp(preds[:,1])\n",
    "# Compute ROC curve\n",
    "fpr, tpr, thresholds = roc_curve(y, probs, pos_label=1)\n",
    "\n",
    "# Compute ROC area\n",
    "roc_auc = auc(fpr, tpr)\n",
    "print('ROC area is {0}'.format(roc_auc))"
   ]
  },
  {
   "cell_type": "code",
   "execution_count": 85,
   "id": "6c8b6618-6d9b-4b94-bb89-e128d663f8a5",
   "metadata": {},
   "outputs": [],
   "source": [
    "import plotly.express as px"
   ]
  },
  {
   "cell_type": "code",
   "execution_count": 83,
   "id": "c519794d-5996-4bad-a909-87a0378b2aec",
   "metadata": {},
   "outputs": [
    {
     "data": {
      "text/plain": [
       "<matplotlib.legend.Legend at 0x7fe963372640>"
      ]
     },
     "execution_count": 83,
     "metadata": {},
     "output_type": "execute_result"
    },
    {
     "data": {
      "image/png": "[encoded data removed]",
      "text/plain": [
       "<Figure size 432x288 with 1 Axes>"
      ]
     },
     "metadata": {
      "needs_background": "light"
     },
     "output_type": "display_data"
    }
   ],
   "source": [
    "plt.figure()\n",
    "plt.plot(fpr, tpr, color='darkorange', label='ROC curve (area = %0.2f)' % roc_auc)\n",
    "plt.plot([0, 1], [0, 1], color='navy', linestyle='--')\n",
    "plt.xlim([-0.01, 1.0])\n",
    "plt.ylim([0.0, 1.01])\n",
    "plt.xlabel('False Positive Rate')\n",
    "plt.ylabel('True Positive Rate')\n",
    "plt.title('Receiver operating characteristic')\n",
    "plt.legend(loc=\"lower right\")"
   ]
  },
  {
   "cell_type": "code",
   "execution_count": 90,
   "id": "0165f558-5154-46cf-9027-7df278fc8428",
   "metadata": {},
   "outputs": [
    {
     "data": {
      "application/vnd.plotly.v1+json": {
       "config": {
        "plotlyServerURL": "https://plot.ly"
       },
       "data": [
        {
         "mode": "lines",
         "name": "ROC curve (AUC=0.716)",
         "type": "scatter",
         "x": [
          0,
          0.0009646302250803858,
          0.0012861736334405145,
          0.0012861736334405145,
          0.0012861736334405145,
          0.0012861736334405145,
          0.0012861736334405145,
          0.0012861736334405145,
          0.0012861736334405145,
          0.0012861736334405145,
          0.001607717041800643,
          0.001607717041800643,
          0.001607717041800643,
          0.001607717041800643,
          0.001607717041800643,
          0.001607717041800643,
          0.001607717041800643,
          0.001607717041800643,
          0.001607717041800643,
          0.001607717041800643,
          0.001607717041800643,
          0.0019292604501607716,
          0.0019292604501607716,
          0.0019292604501607716,
          0.0019292604501607716,
          0.0019292604501607716,
          0.0019292604501607716,
          0.0022508038585209,
          0.0022508038585209,
          0.0022508038585209,
          0.0022508038585209,
          0.0022508038585209,
          0.0022508038585209,
          0.0022508038585209,
          0.0022508038585209,
          0.002572347266881029,
          0.002572347266881029,
          0.002572347266881029,
          0.002572347266881029,
          0.0028938906752411574,
          0.0028938906752411574,
          0.003215434083601286,
          0.003215434083601286,
          0.003536977491961415,
          0.003536977491961415,
          0.0038585209003215433,
          0.0038585209003215433,
          0.004180064308681672,
          0.004180064308681672,
          0.0045016077170418,
          0.0045016077170418,
          0.005144694533762058,
          0.005144694533762058,
          0.005466237942122186,
          0.005466237942122186,
          0.005787781350482315,
          0.005787781350482315,
          0.006430868167202572,
          0.006430868167202572,
          0.006752411575562701,
          0.006752411575562701,
          0.00707395498392283,
          0.00707395498392283,
          0.0077170418006430866,
          0.0077170418006430866,
          0.008681672025723473,
          0.008681672025723473,
          0.0090032154340836,
          0.0090032154340836,
          0.00932475884244373,
          0.00932475884244373,
          0.009967845659163987,
          0.009967845659163987,
          0.011254019292604502,
          0.011254019292604502,
          0.013183279742765274,
          0.013183279742765274,
          0.01382636655948553,
          0.01382636655948553,
          0.01414790996784566,
          0.01414790996784566,
          0.014469453376205787,
          0.014469453376205787,
          0.015112540192926046,
          0.015112540192926046,
          0.015434083601286173,
          0.015434083601286173,
          0.01607717041800643,
          0.01607717041800643,
          0.01639871382636656,
          0.01639871382636656,
          0.016720257234726688,
          0.016720257234726688,
          0.017684887459807074,
          0.017684887459807074,
          0.0180064308681672,
          0.0180064308681672,
          0.018971061093247588,
          0.018971061093247588,
          0.019614147909967846,
          0.019614147909967846,
          0.019935691318327974,
          0.019935691318327974,
          0.020257234726688104,
          0.020257234726688104,
          0.02090032154340836,
          0.02090032154340836,
          0.02122186495176849,
          0.02122186495176849,
          0.022186495176848873,
          0.022186495176848873,
          0.02282958199356913,
          0.02282958199356913,
          0.02315112540192926,
          0.02315112540192926,
          0.023794212218649517,
          0.023794212218649517,
          0.024115755627009645,
          0.024115755627009645,
          0.02508038585209003,
          0.02508038585209003,
          0.02540192926045016,
          0.02540192926045016,
          0.028938906752411574,
          0.028938906752411574,
          0.029260450160771705,
          0.029260450160771705,
          0.029581993569131833,
          0.029581993569131833,
          0.03022508038585209,
          0.03022508038585209,
          0.03054662379421222,
          0.03054662379421222,
          0.030868167202572346,
          0.030868167202572346,
          0.031189710610932477,
          0.031189710610932477,
          0.031511254019292605,
          0.031511254019292605,
          0.031832797427652736,
          0.031832797427652736,
          0.03440514469453376,
          0.03440514469453376,
          0.03536977491961415,
          0.03536977491961415,
          0.0360128617363344,
          0.0360128617363344,
          0.036334405144694534,
          0.036334405144694534,
          0.036655948553054665,
          0.036655948553054665,
          0.03697749196141479,
          0.03697749196141479,
          0.03729903536977492,
          0.03729903536977492,
          0.037942122186495175,
          0.037942122186495175,
          0.03987138263665595,
          0.03987138263665595,
          0.043086816720257236,
          0.043086816720257236,
          0.04372990353697749,
          0.04372990353697749,
          0.04405144694533762,
          0.04405144694533762,
          0.04469453376205788,
          0.04469453376205788,
          0.045980707395498394,
          0.045980707395498394,
          0.04630225080385852,
          0.04630225080385852,
          0.047266881028938904,
          0.047266881028938904,
          0.04855305466237942,
          0.04855305466237942,
          0.04887459807073955,
          0.04887459807073955,
          0.049196141479099675,
          0.049196141479099675,
          0.04983922829581994,
          0.04983922829581994,
          0.05112540192926045,
          0.05112540192926045,
          0.05337620578778135,
          0.05337620578778135,
          0.05466237942122187,
          0.05466237942122187,
          0.05594855305466238,
          0.05594855305466238,
          0.05659163987138264,
          0.05659163987138264,
          0.057234726688102894,
          0.057234726688102894,
          0.057556270096463025,
          0.057556270096463025,
          0.05819935691318328,
          0.05819935691318328,
          0.06045016077170418,
          0.06045016077170418,
          0.060771704180064307,
          0.060771704180064307,
          0.06205787781350482,
          0.06205787781350482,
          0.06430868167202572,
          0.06430868167202572,
          0.06463022508038585,
          0.06463022508038585,
          0.06591639871382636,
          0.06591639871382636,
          0.06623794212218649,
          0.06623794212218649,
          0.06688102893890675,
          0.06688102893890675,
          0.06720257234726688,
          0.06720257234726688,
          0.06752411575562701,
          0.06752411575562701,
          0.06945337620578779,
          0.06945337620578779,
          0.07041800643086817,
          0.07041800643086817,
          0.0707395498392283,
          0.0707395498392283,
          0.0720257234726688,
          0.0720257234726688,
          0.07427652733118971,
          0.07427652733118971,
          0.07459807073954984,
          0.07459807073954984,
          0.07556270096463022,
          0.07556270096463022,
          0.07717041800643087,
          0.07717041800643087,
          0.07749196141479099,
          0.07749196141479099,
          0.07877813504823152,
          0.07877813504823152,
          0.07909967845659165,
          0.07909967845659165,
          0.0797427652733119,
          0.0797427652733119,
          0.08006430868167203,
          0.08006430868167203,
          0.08038585209003216,
          0.08038585209003216,
          0.08102893890675242,
          0.08102893890675242,
          0.08135048231511254,
          0.08135048231511254,
          0.08231511254019293,
          0.08231511254019293,
          0.08263665594855306,
          0.08263665594855306,
          0.08295819935691319,
          0.08295819935691319,
          0.0832797427652733,
          0.0832797427652733,
          0.0842443729903537,
          0.0842443729903537,
          0.08488745980707396,
          0.08488745980707396,
          0.08553054662379421,
          0.08553054662379421,
          0.08585209003215434,
          0.08585209003215434,
          0.08617363344051447,
          0.08617363344051447,
          0.08745980707395498,
          0.08745980707395498,
          0.08778135048231511,
          0.08778135048231511,
          0.08810289389067524,
          0.08810289389067524,
          0.08842443729903537,
          0.08842443729903537,
          0.08874598070739549,
          0.08874598070739549,
          0.08906752411575562,
          0.08906752411575562,
          0.09003215434083602,
          0.09003215434083602,
          0.09035369774919615,
          0.09035369774919615,
          0.09067524115755626,
          0.09067524115755626,
          0.0909967845659164,
          0.0909967845659164,
          0.09131832797427653,
          0.09131832797427653,
          0.09163987138263666,
          0.09163987138263666,
          0.09196141479099679,
          0.09196141479099679,
          0.09228295819935692,
          0.09228295819935692,
          0.09260450160771704,
          0.09260450160771704,
          0.0932475884244373,
          0.0932475884244373,
          0.09356913183279743,
          0.09356913183279743,
          0.09389067524115756,
          0.09389067524115756,
          0.09421221864951769,
          0.09421221864951769,
          0.09453376205787781,
          0.09453376205787781,
          0.09485530546623794,
          0.09485530546623794,
          0.09517684887459807,
          0.09517684887459807,
          0.0954983922829582,
          0.0954983922829582,
          0.09581993569131833,
          0.09581993569131833,
          0.09614147909967846,
          0.09614147909967846,
          0.09646302250803858,
          0.09646302250803858,
          0.09678456591639871,
          0.09678456591639871,
          0.09742765273311897,
          0.09742765273311897,
          0.09807073954983923,
          0.09807073954983923,
          0.09839228295819935,
          0.09839228295819935,
          0.09903536977491961,
          0.09903536977491961,
          0.09935691318327974,
          0.09935691318327974,
          0.09967845659163987,
          0.09967845659163987,
          0.1,
          0.1,
          0.10032154340836012,
          0.10032154340836012,
          0.10064308681672025,
          0.10064308681672025,
          0.10096463022508038,
          0.10096463022508038,
          0.10128617363344052,
          0.10128617363344052,
          0.10160771704180065,
          0.10160771704180065,
          0.10192926045016078,
          0.10192926045016078,
          0.10257234726688103,
          0.10257234726688103,
          0.10289389067524116,
          0.10289389067524116,
          0.10385852090032155,
          0.10385852090032155,
          0.10482315112540193,
          0.10482315112540193,
          0.10514469453376206,
          0.10514469453376206,
          0.10546623794212219,
          0.10546623794212219,
          0.10610932475884244,
          0.10610932475884244,
          0.10707395498392283,
          0.10707395498392283,
          0.10803858520900321,
          0.10803858520900321,
          0.10836012861736334,
          0.10836012861736334,
          0.10868167202572347,
          0.10868167202572347,
          0.1090032154340836,
          0.1090032154340836,
          0.10932475884244373,
          0.10932475884244373,
          0.10964630225080386,
          0.10964630225080386,
          0.10996784565916398,
          0.10996784565916398,
          0.11028938906752411,
          0.11028938906752411,
          0.11061093247588424,
          0.11061093247588424,
          0.11093247588424437,
          0.11093247588424437,
          0.11157556270096464,
          0.11157556270096464,
          0.11189710610932475,
          0.11189710610932475,
          0.11221864951768488,
          0.11221864951768488,
          0.11254019292604502,
          0.11254019292604502,
          0.11286173633440515,
          0.11286173633440515,
          0.11318327974276528,
          0.11318327974276528,
          0.11382636655948553,
          0.11382636655948553,
          0.11446945337620579,
          0.11446945337620579,
          0.11479099678456592,
          0.11479099678456592,
          0.11543408360128618,
          0.11543408360128618,
          0.1157556270096463,
          0.1157556270096463,
          0.11639871382636656,
          0.11639871382636656,
          0.11672025723472669,
          0.11672025723472669,
          0.11704180064308682,
          0.11704180064308682,
          0.1180064308681672,
          0.1180064308681672,
          0.11864951768488746,
          0.11864951768488746,
          0.11961414790996784,
          0.11961414790996784,
          0.11993569131832797,
          0.11993569131832797,
          0.1202572347266881,
          0.1202572347266881,
          0.12057877813504823,
          0.12057877813504823,
          0.12122186495176848,
          0.12122186495176848,
          0.12154340836012861,
          0.12154340836012861,
          0.12186495176848874,
          0.12186495176848874,
          0.12508038585209003,
          0.12508038585209003,
          0.12636655948553055,
          0.12636655948553055,
          0.12797427652733118,
          0.12797427652733118,
          0.12861736334405144,
          0.12861736334405144,
          0.12990353697749196,
          0.12990353697749196,
          0.1311897106109325,
          0.1311897106109325,
          0.13215434083601285,
          0.13215434083601285,
          0.1337620578778135,
          0.1337620578778135,
          0.13440514469453377,
          0.13440514469453377,
          0.13504823151125403,
          0.13504823151125403,
          0.13536977491961416,
          0.13536977491961416,
          0.13569131832797426,
          0.13569131832797426,
          0.13665594855305466,
          0.13665594855305466,
          0.1369774919614148,
          0.1369774919614148,
          0.13729903536977492,
          0.13729903536977492,
          0.1382636655948553,
          0.1382636655948553,
          0.1414790996784566,
          0.1414790996784566,
          0.14212218649517686,
          0.14212218649517686,
          0.14276527331189712,
          0.14276527331189712,
          0.14437299035369774,
          0.14437299035369774,
          0.1472668810289389,
          0.1472668810289389,
          0.14758842443729903,
          0.14758842443729903,
          0.14790996784565916,
          0.14855305466237942,
          0.1495176848874598,
          0.1495176848874598,
          0.14983922829581994,
          0.14983922829581994,
          0.1517684887459807,
          0.1517684887459807,
          0.15241157556270096,
          0.15241157556270096,
          0.15305466237942122,
          0.15305466237942122,
          0.15401929260450162,
          0.15401929260450162,
          0.1562700964630225,
          0.1562700964630225,
          0.15916398713826366,
          0.15916398713826366,
          0.16141479099678457,
          0.16141479099678457,
          0.16205787781350484,
          0.16205787781350484,
          0.16881028938906753,
          0.16881028938906753,
          0.16977491961414792,
          0.16977491961414792,
          0.17395498392282957,
          0.17395498392282957,
          0.17588424437299036,
          0.17588424437299036,
          0.1807073954983923,
          0.18135048231511253,
          0.18263665594855305,
          0.18263665594855305,
          0.1887459807073955,
          0.1887459807073955,
          0.18906752411575561,
          0.18906752411575561,
          0.190032154340836,
          0.190032154340836,
          0.19614147909967847,
          0.19614147909967847,
          0.2,
          0.20064308681672025,
          0.20064308681672025,
          0.20257234726688103,
          0.2032154340836013,
          0.20418006430868169,
          0.20418006430868169,
          0.20546623794212218,
          0.20610932475884244,
          0.21382636655948553,
          0.21382636655948553,
          0.21607717041800642,
          0.21607717041800642,
          0.21768488745980707,
          0.21768488745980707,
          0.21864951768488747,
          0.21864951768488747,
          0.2202572347266881,
          0.2202572347266881,
          0.2212218649517685,
          0.2212218649517685,
          0.2247588424437299,
          0.2247588424437299,
          0.22861736334405144,
          0.22861736334405144,
          0.2302250803858521,
          0.2302250803858521,
          0.2315112540192926,
          0.2315112540192926,
          0.23311897106109325,
          0.23311897106109325,
          0.23633440514469453,
          0.23633440514469453,
          0.23922829581993568,
          0.23922829581993568,
          0.2414790996784566,
          0.2414790996784566,
          0.24340836012861736,
          0.24340836012861736,
          0.245016077170418,
          0.245016077170418,
          0.24533762057877814,
          0.24533762057877814,
          0.24758842443729903,
          0.24758842443729903,
          0.24790996784565916,
          0.24790996784565916,
          0.2504823151125402,
          0.2504823151125402,
          0.2514469453376206,
          0.2514469453376206,
          0.25594855305466235,
          0.25594855305466235,
          0.2565916398713826,
          0.2565916398713826,
          0.2572347266881029,
          0.2594855305466238,
          0.2594855305466238,
          0.2604501607717042,
          0.2604501607717042,
          0.2627009646302251,
          0.2627009646302251,
          0.26688102893890675,
          0.26688102893890675,
          0.26720257234726685,
          0.26720257234726685,
          0.2681672025723473,
          0.2681672025723473,
          0.2694533762057878,
          0.2694533762057878,
          0.27234726688102895,
          0.27234726688102895,
          0.27491961414790994,
          0.27491961414790994,
          0.2752411575562701,
          0.2752411575562701,
          0.2765273311897106,
          0.2765273311897106,
          0.2768488745980707,
          0.2768488745980707,
          0.27781350482315115,
          0.27781350482315115,
          0.2787781350482315,
          0.2787781350482315,
          0.2810289389067524,
          0.2810289389067524,
          0.2823151125401929,
          0.2823151125401929,
          0.2829581993569132,
          0.2829581993569132,
          0.2868167202572347,
          0.2868167202572347,
          0.28713826366559486,
          0.28713826366559486,
          0.2884244372990354,
          0.2884244372990354,
          0.2932475884244373,
          0.2932475884244373,
          0.3019292604501608,
          0.3019292604501608,
          0.3022508038585209,
          0.3022508038585209,
          0.3067524115755627,
          0.3067524115755627,
          0.3090032154340836,
          0.3090032154340836,
          0.30996784565916397,
          0.30996784565916397,
          0.31511254019292606,
          0.31511254019292606,
          0.31768488745980705,
          0.31768488745980705,
          0.32057877813504826,
          0.32057877813504826,
          0.3221864951768489,
          0.3221864951768489,
          0.3237942122186495,
          0.3237942122186495,
          0.3247588424437299,
          0.3247588424437299,
          0.32508038585209004,
          0.32508038585209004,
          0.3279742765273312,
          0.3279742765273312,
          0.33633440514469454,
          0.33633440514469454,
          0.33954983922829585,
          0.33954983922829585,
          0.3414790996784566,
          0.3414790996784566,
          0.34340836012861736,
          0.34340836012861736,
          0.3446945337620579,
          0.3446945337620579,
          0.34758842443729904,
          0.3482315112540193,
          0.3485530546623794,
          0.3485530546623794,
          0.34919614147909966,
          0.34919614147909966,
          0.3495176848874598,
          0.3495176848874598,
          0.35080385852090035,
          0.35080385852090035,
          0.3517684887459807,
          0.3517684887459807,
          0.35498392282958197,
          0.35562700964630223,
          0.3578778135048232,
          0.3578778135048232,
          0.35884244372990354,
          0.35884244372990354,
          0.36045016077170416,
          0.36045016077170416,
          0.36237942122186495,
          0.36237942122186495,
          0.36270096463022505,
          0.36270096463022505,
          0.364951768488746,
          0.364951768488746,
          0.36591639871382636,
          0.36591639871382636,
          0.36784565916398715,
          0.36784565916398715,
          0.3691318327974277,
          0.3691318327974277,
          0.37009646302250804,
          0.37041800643086814,
          0.3723472668810289,
          0.3723472668810289,
          0.3739549839228296,
          0.3739549839228296,
          0.3752411575562701,
          0.3752411575562701,
          0.37588424437299034,
          0.37588424437299034,
          0.37717041800643086,
          0.37717041800643086,
          0.3797427652733119,
          0.3797427652733119,
          0.3803858520900322,
          0.3803858520900322,
          0.38102893890675243,
          0.38102893890675243,
          0.3823151125401929,
          0.3823151125401929,
          0.3836012861736334,
          0.3836012861736334,
          0.38488745980707395,
          0.38488745980707395,
          0.3858520900321543,
          0.3858520900321543,
          0.3864951768488746,
          0.38681672025723474,
          0.38681672025723474,
          0.387459807073955,
          0.387459807073955,
          0.3877813504823151,
          0.3877813504823151,
          0.39035369774919615,
          0.3913183279742765,
          0.3919614147909968,
          0.3919614147909968,
          0.39228295819935693,
          0.3929260450160772,
          0.3932475884244373,
          0.39389067524115756,
          0.3948553054662379,
          0.3948553054662379,
          0.3951768488745981,
          0.39581993569131835,
          0.397427652733119,
          0.397427652733119,
          0.39807073954983924,
          0.3987138263665595,
          0.3987138263665595,
          0.3990353697749196,
          0.3990353697749196,
          0.39935691318327976,
          0.39935691318327976,
          0.39967845659163986,
          0.4003215434083601,
          0.4003215434083601,
          0.4003215434083601,
          0.4003215434083601,
          0.4006430868167203,
          0.4006430868167203,
          0.4009646302250804,
          0.4009646302250804,
          0.4012861736334405,
          0.4012861736334405,
          0.4022508038585209,
          0.4022508038585209,
          0.4028938906752412,
          0.40353697749196143,
          0.4048231511254019,
          0.4048231511254019,
          0.40514469453376206,
          0.40514469453376206,
          0.4067524115755627,
          0.4067524115755627,
          0.40707395498392285,
          0.40707395498392285,
          0.40707395498392285,
          0.4086816720257235,
          0.4086816720257235,
          0.40932475884244374,
          0.4102893890675241,
          0.41061093247588426,
          0.41061093247588426,
          0.41093247588424436,
          0.41093247588424436,
          0.41093247588424436,
          0.4112540192926045,
          0.4115755627009646,
          0.4122186495176849,
          0.4122186495176849,
          0.412540192926045,
          0.4135048231511254,
          0.41479099678456594,
          0.41511254019292604,
          0.4154340836012862,
          0.4160771704180064,
          0.41672025723472667,
          0.41672025723472667,
          0.4173633440514469,
          0.4176848874598071,
          0.41832797427652735,
          0.4189710610932476,
          0.4192926045016077,
          0.4192926045016077,
          0.41961414790996787,
          0.419935691318328,
          0.4202572347266881,
          0.4202572347266881,
          0.4215434083601286,
          0.4228295819935691,
          0.4231511254019293,
          0.4234726688102894,
          0.4234726688102894,
          0.42411575562700965,
          0.4247588424437299,
          0.4247588424437299,
          0.4254019292604502,
          0.4257234726688103,
          0.42636655948553054,
          0.4270096463022508,
          0.42733118971061096,
          0.42797427652733117,
          0.4286173633440514,
          0.4286173633440514,
          0.4289389067524116,
          0.4289389067524116,
          0.4289389067524116,
          0.4292604501607717,
          0.42990353697749195,
          0.42990353697749195,
          0.4311897106109325,
          0.4311897106109325,
          0.43183279742765274,
          0.43183279742765274,
          0.432475884244373,
          0.43311897106109326,
          0.4340836012861736,
          0.4347266881028939,
          0.43536977491961415,
          0.43569131832797425,
          0.4363344051446945,
          0.4363344051446945,
          0.43762057877813504,
          0.4379421221864952,
          0.4379421221864952,
          0.43858520900321546,
          0.43858520900321546,
          0.4418006430868167,
          0.442443729903537,
          0.442443729903537,
          0.4427652733118971,
          0.4437299035369775,
          0.44437299035369776,
          0.4453376205787781,
          0.44630225080385855,
          0.44662379421221865,
          0.447588424437299,
          0.4491961414790997,
          0.44983922829581996,
          0.4508038585209003,
          0.4517684887459807,
          0.45241157556270095,
          0.4533762057877814,
          0.4536977491961415,
          0.45401929260450163,
          0.45434083601286174,
          0.45434083601286174,
          0.4562700964630225,
          0.45755627009646305,
          0.4585209003215434,
          0.4594855305466238,
          0.46012861736334404,
          0.4607717041800643,
          0.46141479099678456,
          0.4617363344051447,
          0.4630225080385852,
          0.4643086816720257,
          0.4646302250803859,
          0.464951768488746,
          0.46559485530546624,
          0.4665594855305466,
          0.4665594855305466,
          0.46720257234726686,
          0.4678456591639871,
          0.4684887459807074,
          0.4697749196141479,
          0.4704180064308682,
          0.47138263665594854,
          0.47266881028938906,
          0.4739549839228296,
          0.4758842443729904,
          0.4758842443729904,
          0.4758842443729904,
          0.47717041800643084,
          0.4790996784565916,
          0.4790996784565916,
          0.4797427652733119,
          0.4813504823151125,
          0.4819935691318328,
          0.48585209003215435,
          0.4864951768488746,
          0.4871382636655949,
          0.490032154340836,
          0.49163987138263665,
          0.492604501607717,
          0.4932475884244373,
          0.49517684887459806,
          0.4954983922829582,
          0.4987138263665595,
          0.502572347266881,
          0.5032154340836013,
          0.5041800643086817,
          0.509967845659164,
          0.5189710610932476,
          0.5192926045016077,
          0.5292604501607717,
          0.5456591639871383,
          0.5733118971061093,
          0.5813504823151125,
          1
         ],
         "y": [
          0,
          0.054388133498145856,
          0.06798516687268233,
          0.0754017305315204,
          0.09023485784919653,
          0.09332509270704574,
          0.0957972805933251,
          0.09765142150803462,
          0.10012360939431397,
          0.10568603213844252,
          0.1069221260815822,
          0.10815822002472188,
          0.1100123609394314,
          0.11063040791100123,
          0.11186650185414092,
          0.11310259579728059,
          0.11433868974042027,
          0.1161928306551298,
          0.1180469715698393,
          0.12175525339925834,
          0.1242274412855377,
          0.1260815822002472,
          0.13102595797280595,
          0.13226205191594562,
          0.13411619283065512,
          0.13535228677379482,
          0.1365883807169345,
          0.13720642768850433,
          0.15327564894932014,
          0.1557478368355995,
          0.18170580964153277,
          0.18294190358467244,
          0.19406674907292953,
          0.19530284301606923,
          0.19901112484548825,
          0.19901112484548825,
          0.207663782447466,
          0.2088998763906057,
          0.21755253399258342,
          0.21755253399258342,
          0.22373300370828184,
          0.22373300370828184,
          0.2515451174289246,
          0.2515451174289246,
          0.2694684796044499,
          0.2694684796044499,
          0.276885043263288,
          0.276885043263288,
          0.27873918417799753,
          0.27873918417799753,
          0.28059332509270707,
          0.28059332509270707,
          0.2861557478368356,
          0.2861557478368356,
          0.2911001236093943,
          0.2911001236093943,
          0.29171817058096416,
          0.29171817058096416,
          0.292336217552534,
          0.292336217552534,
          0.29357231149567364,
          0.29357231149567364,
          0.29480840543881337,
          0.29480840543881337,
          0.2954264524103832,
          0.2954264524103832,
          0.29666254635352285,
          0.29666254635352285,
          0.29913473423980225,
          0.29913473423980225,
          0.29975278121137205,
          0.29975278121137205,
          0.3003708281829419,
          0.3003708281829419,
          0.3016069221260816,
          0.3016069221260816,
          0.3022249690976514,
          0.3022249690976514,
          0.30284301606922126,
          0.30284301606922126,
          0.3034610630407911,
          0.3034610630407911,
          0.30407911001236093,
          0.30407911001236093,
          0.3046971569839308,
          0.3046971569839308,
          0.30716934487021014,
          0.30716934487021014,
          0.30778739184178,
          0.30778739184178,
          0.3096415327564895,
          0.3096415327564895,
          0.31087762669962915,
          0.31087762669962915,
          0.31396786155747836,
          0.31396786155747836,
          0.315203955500618,
          0.315203955500618,
          0.3158220024721879,
          0.3158220024721879,
          0.3164400494437577,
          0.3164400494437577,
          0.31705809641532756,
          0.31705809641532756,
          0.3176761433868974,
          0.3176761433868974,
          0.3195302843016069,
          0.3195302843016069,
          0.32014833127317677,
          0.32014833127317677,
          0.3207663782447466,
          0.3207663782447466,
          0.32138442521631644,
          0.32138442521631644,
          0.3226205191594561,
          0.3226205191594561,
          0.3238566131025958,
          0.3238566131025958,
          0.32447466007416564,
          0.32447466007416564,
          0.32509270704573545,
          0.32509270704573545,
          0.326946847960445,
          0.326946847960445,
          0.32756489493201485,
          0.32756489493201485,
          0.32818294190358466,
          0.32818294190358466,
          0.3300370828182942,
          0.3300370828182942,
          0.33065512978986406,
          0.33065512978986406,
          0.3318912237330037,
          0.3318912237330037,
          0.3331273176761434,
          0.3331273176761434,
          0.3337453646477132,
          0.3337453646477132,
          0.33436341161928307,
          0.33436341161928307,
          0.33498145859085293,
          0.33498145859085293,
          0.33559950556242274,
          0.33559950556242274,
          0.3368355995055624,
          0.3368355995055624,
          0.3374536464771323,
          0.3374536464771323,
          0.3380716934487021,
          0.3380716934487021,
          0.33930778739184175,
          0.33930778739184175,
          0.3399258343634116,
          0.3399258343634116,
          0.3405438813349815,
          0.3405438813349815,
          0.34239802224969096,
          0.34239802224969096,
          0.34363411619283063,
          0.34363411619283063,
          0.34487021013597036,
          0.34487021013597036,
          0.34548825710754016,
          0.34548825710754016,
          0.34672435105067984,
          0.34672435105067984,
          0.34857849196538937,
          0.34857849196538937,
          0.3504326328800989,
          0.3504326328800989,
          0.3510506798516687,
          0.3510506798516687,
          0.3522867737948084,
          0.3522867737948084,
          0.35290482076637825,
          0.35290482076637825,
          0.3535228677379481,
          0.3535228677379481,
          0.3541409147095179,
          0.3541409147095179,
          0.3547589616810878,
          0.3547589616810878,
          0.3553770086526576,
          0.3553770086526576,
          0.3584672435105068,
          0.3584672435105068,
          0.35908529048207666,
          0.35908529048207666,
          0.36032138442521633,
          0.36032138442521633,
          0.36093943139678614,
          0.36093943139678614,
          0.361557478368356,
          0.361557478368356,
          0.3621755253399258,
          0.3621755253399258,
          0.36279357231149567,
          0.36279357231149567,
          0.36341161928306553,
          0.36341161928306553,
          0.36402966625463534,
          0.36402966625463534,
          0.3646477132262052,
          0.3646477132262052,
          0.365265760197775,
          0.365265760197775,
          0.3658838071693449,
          0.3658838071693449,
          0.3665018541409147,
          0.3665018541409147,
          0.3677379480840544,
          0.3677379480840544,
          0.3695920889987639,
          0.3695920889987639,
          0.37021013597033375,
          0.37021013597033375,
          0.37082818294190356,
          0.37082818294190356,
          0.3720642768850433,
          0.3720642768850433,
          0.3726823238566131,
          0.3726823238566131,
          0.37391841779975277,
          0.37391841779975277,
          0.37515451174289244,
          0.37515451174289244,
          0.3757725587144623,
          0.3757725587144623,
          0.37639060568603216,
          0.37639060568603216,
          0.37762669962917184,
          0.37762669962917184,
          0.37824474660074164,
          0.37824474660074164,
          0.3788627935723115,
          0.3788627935723115,
          0.38133498145859085,
          0.38133498145859085,
          0.3825710754017305,
          0.3825710754017305,
          0.3838071693448702,
          0.3838071693448702,
          0.38442521631644005,
          0.38442521631644005,
          0.38504326328800986,
          0.38504326328800986,
          0.3862793572311496,
          0.3862793572311496,
          0.38751545117428926,
          0.38751545117428926,
          0.38813349814585907,
          0.38813349814585907,
          0.38936959208899874,
          0.38936959208899874,
          0.39060568603213847,
          0.39060568603213847,
          0.3967861557478368,
          0.3967861557478368,
          0.3974042027194067,
          0.3974042027194067,
          0.3980222496909765,
          0.3980222496909765,
          0.39864029666254636,
          0.39864029666254636,
          0.399876390605686,
          0.399876390605686,
          0.4011124845488257,
          0.4011124845488257,
          0.40296662546353523,
          0.40296662546353523,
          0.40358467243510504,
          0.40358467243510504,
          0.4054388133498146,
          0.4054388133498146,
          0.40605686032138444,
          0.40605686032138444,
          0.4079110012360939,
          0.4079110012360939,
          0.40914709517923364,
          0.40914709517923364,
          0.40976514215080345,
          0.40976514215080345,
          0.4110012360939431,
          0.4110012360939431,
          0.4122373300370828,
          0.4122373300370828,
          0.4184177997527812,
          0.4184177997527812,
          0.41903584672435107,
          0.41903584672435107,
          0.4196538936959209,
          0.4196538936959209,
          0.4227441285537701,
          0.4227441285537701,
          0.4252163164400494,
          0.4252163164400494,
          0.4258343634116193,
          0.4258343634116193,
          0.4276885043263288,
          0.4276885043263288,
          0.43510506798516685,
          0.43510506798516685,
          0.4369592088998764,
          0.4369592088998764,
          0.4400494437577256,
          0.4400494437577256,
          0.4431396786155748,
          0.4431396786155748,
          0.4437577255871446,
          0.4437577255871446,
          0.446229913473424,
          0.446229913473424,
          0.44870210135970334,
          0.44870210135970334,
          0.449938195302843,
          0.449938195302843,
          0.4505562422744129,
          0.4505562422744129,
          0.4530284301606922,
          0.4530284301606922,
          0.453646477132262,
          0.453646477132262,
          0.45488257107540175,
          0.45488257107540175,
          0.4561186650185414,
          0.4561186650185414,
          0.4604449938195303,
          0.4604449938195303,
          0.46168108776267,
          0.46168108776267,
          0.465389369592089,
          0.465389369592089,
          0.4672435105067985,
          0.4672435105067985,
          0.4703337453646477,
          0.4703337453646477,
          0.4715698393077874,
          0.4715698393077874,
          0.47404202719406674,
          0.47404202719406674,
          0.4758961681087763,
          0.4758961681087763,
          0.4783683559950556,
          0.4783683559950556,
          0.4789864029666255,
          0.4789864029666255,
          0.48022249690976515,
          0.48022249690976515,
          0.4814585908529048,
          0.4814585908529048,
          0.4826946847960445,
          0.4826946847960445,
          0.484548825710754,
          0.484548825710754,
          0.48516687268232384,
          0.48516687268232384,
          0.48640296662546356,
          0.48640296662546356,
          0.48763906056860323,
          0.48763906056860323,
          0.48825710754017304,
          0.48825710754017304,
          0.4888751545117429,
          0.4888751545117429,
          0.4919653893695921,
          0.4919653893695921,
          0.49876390605686033,
          0.49876390605686033,
          0.49938195302843014,
          0.49938195302843014,
          0.5,
          0.5,
          0.5006180469715699,
          0.5006180469715699,
          0.5024721878862793,
          0.5024721878862793,
          0.5030902348578492,
          0.5030902348578492,
          0.5049443757725587,
          0.5049443757725587,
          0.5061804697156984,
          0.5061804697156984,
          0.5067985166872683,
          0.5067985166872683,
          0.5092707045735476,
          0.5092707045735476,
          0.5105067985166872,
          0.5105067985166872,
          0.5135970333745364,
          0.5135970333745364,
          0.515451174289246,
          0.515451174289246,
          0.5160692212608158,
          0.5160692212608158,
          0.5173053152039555,
          0.5173053152039555,
          0.5179233621755254,
          0.5179233621755254,
          0.5197775030902348,
          0.5197775030902348,
          0.5203955500618047,
          0.5203955500618047,
          0.522867737948084,
          0.522867737948084,
          0.5247218788627935,
          0.5247218788627935,
          0.5265760197775031,
          0.5265760197775031,
          0.5284301606922126,
          0.5284301606922126,
          0.5296662546353523,
          0.5296662546353523,
          0.5321384425216317,
          0.5321384425216317,
          0.5333745364647713,
          0.5333745364647713,
          0.5352286773794809,
          0.5352286773794809,
          0.5370828182941904,
          0.5370828182941904,
          0.5414091470951793,
          0.5414091470951793,
          0.5426452410383189,
          0.5426452410383189,
          0.5432632880098888,
          0.5432632880098888,
          0.5438813349814586,
          0.5438813349814586,
          0.5451174289245982,
          0.5451174289245982,
          0.546353522867738,
          0.546353522867738,
          0.5469715698393078,
          0.5469715698393078,
          0.5475896168108776,
          0.5475896168108776,
          0.5482076637824475,
          0.5482076637824475,
          0.5488257107540173,
          0.5488257107540173,
          0.5494437577255872,
          0.5494437577255872,
          0.5500618046971569,
          0.5500618046971569,
          0.5506798516687268,
          0.5506798516687268,
          0.5512978986402967,
          0.5512978986402967,
          0.5550061804697157,
          0.5550061804697157,
          0.5556242274412856,
          0.5556242274412856,
          0.5562422744128553,
          0.5562422744128553,
          0.5568603213844252,
          0.5568603213844252,
          0.5574783683559951,
          0.5574783683559951,
          0.5587144622991347,
          0.5587144622991347,
          0.5593325092707045,
          0.5593325092707045,
          0.5599505562422744,
          0.5599505562422744,
          0.5618046971569839,
          0.5618046971569839,
          0.5630407911001236,
          0.5630407911001236,
          0.5636588380716935,
          0.5636588380716935,
          0.5642768850432633,
          0.5642768850432633,
          0.5648949320148331,
          0.5648949320148331,
          0.5648949320148331,
          0.5648949320148331,
          0.565512978986403,
          0.565512978986403,
          0.5661310259579728,
          0.5661310259579728,
          0.5667490729295427,
          0.5667490729295427,
          0.5673671199011124,
          0.5673671199011124,
          0.5679851668726823,
          0.5679851668726823,
          0.5686032138442522,
          0.5686032138442522,
          0.5698393077873919,
          0.5698393077873919,
          0.5704573547589616,
          0.5704573547589616,
          0.5710754017305315,
          0.5710754017305315,
          0.5716934487021014,
          0.5716934487021014,
          0.5723114956736712,
          0.5723114956736712,
          0.5741656365883807,
          0.5741656365883807,
          0.5747836835599506,
          0.5747836835599506,
          0.5754017305315204,
          0.5754017305315204,
          0.5754017305315204,
          0.5754017305315204,
          0.57663782447466,
          0.57663782447466,
          0.5772558714462299,
          0.5772558714462299,
          0.5791100123609394,
          0.5791100123609394,
          0.5797280593325093,
          0.5797280593325093,
          0.5803461063040791,
          0.5803461063040791,
          0.5803461063040791,
          0.580964153275649,
          0.580964153275649,
          0.580964153275649,
          0.580964153275649,
          0.5815822002472187,
          0.5815822002472187,
          0.5815822002472187,
          0.5815822002472187,
          0.5822002472187886,
          0.5822002472187886,
          0.5828182941903585,
          0.5828182941903585,
          0.5840543881334982,
          0.5840543881334982,
          0.584672435105068,
          0.584672435105068,
          0.5852904820766378,
          0.5852904820766378,
          0.5859085290482077,
          0.5859085290482077,
          0.5865265760197775,
          0.5865265760197775,
          0.5871446229913473,
          0.5871446229913473,
          0.5877626699629172,
          0.5877626699629172,
          0.588380716934487,
          0.588380716934487,
          0.5889987639060569,
          0.5889987639060569,
          0.5896168108776267,
          0.5896168108776267,
          0.5902348578491965,
          0.5902348578491965,
          0.5908529048207664,
          0.5908529048207664,
          0.5914709517923362,
          0.5914709517923362,
          0.5920889987639061,
          0.5920889987639061,
          0.592707045735476,
          0.592707045735476,
          0.595797280593325,
          0.595797280593325,
          0.5964153275648949,
          0.5964153275648949,
          0.5970333745364648,
          0.5970333745364648,
          0.5982694684796045,
          0.5982694684796045,
          0.5988875154511742,
          0.5988875154511742,
          0.600123609394314,
          0.600123609394314,
          0.600123609394314,
          0.6007416563658838,
          0.6007416563658838,
          0.6019777503090235,
          0.6019777503090235,
          0.6032138442521632,
          0.6032138442521632,
          0.603831891223733,
          0.603831891223733,
          0.6044499381953028,
          0.6044499381953028,
          0.6050679851668727,
          0.6050679851668727,
          0.6056860321384425,
          0.6056860321384425,
          0.6063040791100124,
          0.6063040791100124,
          0.607540173053152,
          0.607540173053152,
          0.6093943139678616,
          0.6093943139678616,
          0.6100123609394313,
          0.6100123609394313,
          0.6112484548825711,
          0.6112484548825711,
          0.6118665018541409,
          0.6118665018541409,
          0.6137206427688504,
          0.6137206427688504,
          0.6143386897404203,
          0.6143386897404203,
          0.6149567367119901,
          0.6149567367119901,
          0.61557478368356,
          0.61557478368356,
          0.6161928306551298,
          0.6161928306551298,
          0.6174289245982695,
          0.6174289245982695,
          0.6180469715698393,
          0.6180469715698393,
          0.6186650185414091,
          0.6186650185414091,
          0.619283065512979,
          0.619283065512979,
          0.6199011124845488,
          0.6199011124845488,
          0.6211372064276885,
          0.6211372064276885,
          0.6217552533992583,
          0.6217552533992583,
          0.6223733003708282,
          0.6223733003708282,
          0.622991347342398,
          0.622991347342398,
          0.6236093943139679,
          0.6236093943139679,
          0.6242274412855378,
          0.6242274412855378,
          0.6248454882571075,
          0.6248454882571075,
          0.6254635352286774,
          0.6254635352286774,
          0.6260815822002472,
          0.6260815822002472,
          0.6266996291718171,
          0.6266996291718171,
          0.6273176761433868,
          0.6273176761433868,
          0.6279357231149567,
          0.6279357231149567,
          0.6285537700865266,
          0.6285537700865266,
          0.6291718170580964,
          0.6291718170580964,
          0.6297898640296663,
          0.6297898640296663,
          0.630407911001236,
          0.630407911001236,
          0.630407911001236,
          0.630407911001236,
          0.6310259579728059,
          0.6310259579728059,
          0.6316440049443758,
          0.6316440049443758,
          0.6322620519159456,
          0.6322620519159456,
          0.6328800988875154,
          0.6328800988875154,
          0.6334981458590853,
          0.6334981458590853,
          0.6334981458590853,
          0.6334981458590853,
          0.6341161928306551,
          0.6341161928306551,
          0.634734239802225,
          0.634734239802225,
          0.6353522867737948,
          0.6353522867737948,
          0.6359703337453646,
          0.6359703337453646,
          0.6365883807169345,
          0.6365883807169345,
          0.6372064276885043,
          0.6372064276885043,
          0.6378244746600742,
          0.6378244746600742,
          0.638442521631644,
          0.638442521631644,
          0.6396786155747837,
          0.6396786155747837,
          0.6402966625463535,
          0.6402966625463535,
          0.6409147095179234,
          0.6409147095179234,
          0.6415327564894932,
          0.6415327564894932,
          0.642150803461063,
          0.642150803461063,
          0.6427688504326329,
          0.6427688504326329,
          0.6433868974042027,
          0.6433868974042027,
          0.6440049443757726,
          0.6440049443757726,
          0.6446229913473424,
          0.6446229913473424,
          0.6452410383189122,
          0.6452410383189122,
          0.6458590852904821,
          0.6458590852904821,
          0.6470951792336218,
          0.6470951792336218,
          0.6477132262051916,
          0.6477132262051916,
          0.6483312731767614,
          0.6483312731767614,
          0.6483312731767614,
          0.6489493201483313,
          0.6489493201483313,
          0.6495673671199012,
          0.6495673671199012,
          0.6501854140914709,
          0.6501854140914709,
          0.6501854140914709,
          0.6501854140914709,
          0.6520395550061805,
          0.6520395550061805,
          0.6520395550061805,
          0.6520395550061805,
          0.6520395550061805,
          0.6520395550061805,
          0.6532756489493201,
          0.6532756489493201,
          0.6532756489493201,
          0.6532756489493201,
          0.6545117428924598,
          0.6551297898640297,
          0.6551297898640297,
          0.6563658838071693,
          0.6563658838071693,
          0.6569839307787392,
          0.6569839307787392,
          0.657601977750309,
          0.657601977750309,
          0.657601977750309,
          0.6582200247218789,
          0.6594561186650185,
          0.6606922126081582,
          0.6606922126081582,
          0.6613102595797281,
          0.6613102595797281,
          0.6625463535228677,
          0.6625463535228677,
          0.6631644004944376,
          0.6631644004944376,
          0.6644004944375772,
          0.6644004944375772,
          0.6644004944375772,
          0.6644004944375772,
          0.6662546353522868,
          0.6662546353522868,
          0.6668726823238567,
          0.6668726823238567,
          0.6674907292954264,
          0.6674907292954264,
          0.6687268232385661,
          0.669344870210136,
          0.669344870210136,
          0.6699629171817059,
          0.6699629171817059,
          0.6699629171817059,
          0.6705809641532756,
          0.6724351050679852,
          0.6724351050679852,
          0.673053152039555,
          0.6749072929542645,
          0.6749072929542645,
          0.6755253399258344,
          0.6755253399258344,
          0.6761433868974042,
          0.6761433868974042,
          0.6761433868974042,
          0.6761433868974042,
          0.6761433868974042,
          0.676761433868974,
          0.6779975278121138,
          0.6779975278121138,
          0.681087762669963,
          0.681087762669963,
          0.6817058096415327,
          0.6817058096415327,
          0.6823238566131026,
          0.6823238566131026,
          0.6829419035846724,
          0.6829419035846724,
          0.6835599505562423,
          0.6835599505562423,
          0.6847960444993819,
          0.6847960444993819,
          0.6847960444993819,
          0.6847960444993819,
          0.6854140914709518,
          0.6872682323856613,
          0.6872682323856613,
          0.6872682323856613,
          0.6878862793572311,
          0.6878862793572311,
          0.6891223733003708,
          0.6891223733003708,
          0.6891223733003708,
          0.6891223733003708,
          0.6897404202719407,
          0.6897404202719407,
          0.6903584672435105,
          0.6903584672435105,
          0.6915945611866502,
          0.69221260815822,
          0.69221260815822,
          0.69221260815822,
          0.6928306551297899,
          0.6928306551297899,
          0.6946847960444994,
          0.695920889987639,
          0.6965389369592089,
          0.6965389369592089,
          0.6971569839307787,
          0.6971569839307787,
          0.6971569839307787,
          0.6977750309023486,
          0.6977750309023486,
          0.6977750309023486,
          0.6983930778739185,
          0.6983930778739185,
          0.6990111248454882,
          0.6996291718170581,
          0.6996291718170581,
          0.700247218788628,
          0.700247218788628,
          0.700247218788628,
          0.7008652657601978,
          0.7008652657601978,
          0.7008652657601978,
          0.7008652657601978,
          0.7008652657601978,
          0.7008652657601978,
          0.7008652657601978,
          0.7008652657601978,
          0.7008652657601978,
          0.7008652657601978,
          0.7008652657601978,
          0.7014833127317676,
          0.7014833127317676,
          0.7021013597033374,
          0.7021013597033374,
          0.7027194066749073,
          0.7027194066749073,
          0.7033374536464772,
          0.7033374536464772,
          0.7033374536464772,
          0.7033374536464772,
          0.7033374536464772,
          0.703955500618047,
          0.703955500618047,
          0.7045735475896168,
          0.7045735475896168,
          0.7045735475896168,
          0.7045735475896168,
          0.7045735475896168,
          0.7051915945611866,
          0.7051915945611866,
          0.7064276885043264,
          0.7070457354758962,
          0.7070457354758962,
          0.7070457354758962,
          0.707663782447466,
          0.7082818294190358,
          0.7088998763906057,
          0.7107540173053152,
          0.7119901112484549,
          0.7119901112484549,
          0.7126081582200248,
          0.7132262051915945,
          0.7144622991347342,
          0.7144622991347342,
          0.7150803461063041,
          0.7163164400494437,
          0.7163164400494437,
          0.7163164400494437,
          0.7187886279357231,
          0.7200247218788628,
          0.7200247218788628,
          0.7224969097651421,
          0.723114956736712,
          0.723114956736712,
          0.7243510506798516,
          0.7255871446229913,
          0.7286773794808405,
          0.7286773794808405,
          0.7292954264524104,
          0.7317676143386898,
          0.7336217552533992,
          0.734857849196539,
          0.7379480840543882,
          0.7428924598269468,
          0.7428924598269468,
          0.7484548825710754,
          0.754017305315204,
          0.7676143386897404,
          0.7725587144622992,
          1
         ]
        }
       ],
       "layout": {
        "height": 500,
        "shapes": [
         {
          "line": {
           "dash": "dash"
          },
          "type": "line",
          "x0": 0,
          "x1": 1,
          "y0": 0,
          "y1": 1
         }
        ],
        "showlegend": true,
        "template": {
         "data": {
          "bar": [
           {
            "error_x": {
             "color": "#2a3f5f"
            },
            "error_y": {
             "color": "#2a3f5f"
            },
            "marker": {
             "line": {
              "color": "#E5ECF6",
              "width": 0.5
             },
             "pattern": {
              "fillmode": "overlay",
              "size": 10,
              "solidity": 0.2
             }
            },
            "type": "bar"
           }
          ],
          "barpolar": [
           {
            "marker": {
             "line": {
              "color": "#E5ECF6",
              "width": 0.5
             },
             "pattern": {
              "fillmode": "overlay",
              "size": 10,
              "solidity": 0.2
             }
            },
            "type": "barpolar"
           }
          ],
          "carpet": [
           {
            "aaxis": {
             "endlinecolor": "#2a3f5f",
             "gridcolor": "white",
             "linecolor": "white",
             "minorgridcolor": "white",
             "startlinecolor": "#2a3f5f"
            },
            "baxis": {
             "endlinecolor": "#2a3f5f",
             "gridcolor": "white",
             "linecolor": "white",
             "minorgridcolor": "white",
             "startlinecolor": "#2a3f5f"
            },
            "type": "carpet"
           }
          ],
          "choropleth": [
           {
            "colorbar": {
             "outlinewidth": 0,
             "ticks": ""
            },
            "type": "choropleth"
           }
          ],
          "contour": [
           {
            "colorbar": {
             "outlinewidth": 0,
             "ticks": ""
            },
            "colorscale": [
             [
              0,
              "#0d0887"
             ],
             [
              0.1111111111111111,
              "#46039f"
             ],
             [
              0.2222222222222222,
              "#7201a8"
             ],
             [
              0.3333333333333333,
              "#9c179e"
             ],
             [
              0.4444444444444444,
              "#bd3786"
             ],
             [
              0.5555555555555556,
              "#d8576b"
             ],
             [
              0.6666666666666666,
              "#ed7953"
             ],
             [
              0.7777777777777778,
              "#fb9f3a"
             ],
             [
              0.8888888888888888,
              "#fdca26"
             ],
             [
              1,
              "#f0f921"
             ]
            ],
            "type": "contour"
           }
          ],
          "contourcarpet": [
           {
            "colorbar": {
             "outlinewidth": 0,
             "ticks": ""
            },
            "type": "contourcarpet"
           }
          ],
          "heatmap": [
           {
            "colorbar": {
             "outlinewidth": 0,
             "ticks": ""
            },
            "colorscale": [
             [
              0,
              "#0d0887"
             ],
             [
              0.1111111111111111,
              "#46039f"
             ],
             [
              0.2222222222222222,
              "#7201a8"
             ],
             [
              0.3333333333333333,
              "#9c179e"
             ],
             [
              0.4444444444444444,
              "#bd3786"
             ],
             [
              0.5555555555555556,
              "#d8576b"
             ],
             [
              0.6666666666666666,
              "#ed7953"
             ],
             [
              0.7777777777777778,
              "#fb9f3a"
             ],
             [
              0.8888888888888888,
              "#fdca26"
             ],
             [
              1,
              "#f0f921"
             ]
            ],
            "type": "heatmap"
           }
          ],
          "heatmapgl": [
           {
            "colorbar": {
             "outlinewidth": 0,
             "ticks": ""
            },
            "colorscale": [
             [
              0,
              "#0d0887"
             ],
             [
              0.1111111111111111,
              "#46039f"
             ],
             [
              0.2222222222222222,
              "#7201a8"
             ],
             [
              0.3333333333333333,
              "#9c179e"
             ],
             [
              0.4444444444444444,
              "#bd3786"
             ],
             [
              0.5555555555555556,
              "#d8576b"
             ],
             [
              0.6666666666666666,
              "#ed7953"
             ],
             [
              0.7777777777777778,
              "#fb9f3a"
             ],
             [
              0.8888888888888888,
              "#fdca26"
             ],
             [
              1,
              "#f0f921"
             ]
            ],
            "type": "heatmapgl"
           }
          ],
          "histogram": [
           {
            "marker": {
             "pattern": {
              "fillmode": "overlay",
              "size": 10,
              "solidity": 0.2
             }
            },
            "type": "histogram"
           }
          ],
          "histogram2d": [
           {
            "colorbar": {
             "outlinewidth": 0,
             "ticks": ""
            },
            "colorscale": [
             [
              0,
              "#0d0887"
             ],
             [
              0.1111111111111111,
              "#46039f"
             ],
             [
              0.2222222222222222,
              "#7201a8"
             ],
             [
              0.3333333333333333,
              "#9c179e"
             ],
             [
              0.4444444444444444,
              "#bd3786"
             ],
             [
              0.5555555555555556,
              "#d8576b"
             ],
             [
              0.6666666666666666,
              "#ed7953"
             ],
             [
              0.7777777777777778,
              "#fb9f3a"
             ],
             [
              0.8888888888888888,
              "#fdca26"
             ],
             [
              1,
              "#f0f921"
             ]
            ],
            "type": "histogram2d"
           }
          ],
          "histogram2dcontour": [
           {
            "colorbar": {
             "outlinewidth": 0,
             "ticks": ""
            },
            "colorscale": [
             [
              0,
              "#0d0887"
             ],
             [
              0.1111111111111111,
              "#46039f"
             ],
             [
              0.2222222222222222,
              "#7201a8"
             ],
             [
              0.3333333333333333,
              "#9c179e"
             ],
             [
              0.4444444444444444,
              "#bd3786"
             ],
             [
              0.5555555555555556,
              "#d8576b"
             ],
             [
              0.6666666666666666,
              "#ed7953"
             ],
             [
              0.7777777777777778,
              "#fb9f3a"
             ],
             [
              0.8888888888888888,
              "#fdca26"
             ],
             [
              1,
              "#f0f921"
             ]
            ],
            "type": "histogram2dcontour"
           }
          ],
          "mesh3d": [
           {
            "colorbar": {
             "outlinewidth": 0,
             "ticks": ""
            },
            "type": "mesh3d"
           }
          ],
          "parcoords": [
           {
            "line": {
             "colorbar": {
              "outlinewidth": 0,
              "ticks": ""
             }
            },
            "type": "parcoords"
           }
          ],
          "pie": [
           {
            "automargin": true,
            "type": "pie"
           }
          ],
          "scatter": [
           {
            "fillpattern": {
             "fillmode": "overlay",
             "size": 10,
             "solidity": 0.2
            },
            "type": "scatter"
           }
          ],
          "scatter3d": [
           {
            "line": {
             "colorbar": {
              "outlinewidth": 0,
              "ticks": ""
             }
            },
            "marker": {
             "colorbar": {
              "outlinewidth": 0,
              "ticks": ""
             }
            },
            "type": "scatter3d"
           }
          ],
          "scattercarpet": [
           {
            "marker": {
             "colorbar": {
              "outlinewidth": 0,
              "ticks": ""
             }
            },
            "type": "scattercarpet"
           }
          ],
          "scattergeo": [
           {
            "marker": {
             "colorbar": {
              "outlinewidth": 0,
              "ticks": ""
             }
            },
            "type": "scattergeo"
           }
          ],
          "scattergl": [
           {
            "marker": {
             "colorbar": {
              "outlinewidth": 0,
              "ticks": ""
             }
            },
            "type": "scattergl"
           }
          ],
          "scattermapbox": [
           {
            "marker": {
             "colorbar": {
              "outlinewidth": 0,
              "ticks": ""
             }
            },
            "type": "scattermapbox"
           }
          ],
          "scatterpolar": [
           {
            "marker": {
             "colorbar": {
              "outlinewidth": 0,
              "ticks": ""
             }
            },
            "type": "scatterpolar"
           }
          ],
          "scatterpolargl": [
           {
            "marker": {
             "colorbar": {
              "outlinewidth": 0,
              "ticks": ""
             }
            },
            "type": "scatterpolargl"
           }
          ],
          "scatterternary": [
           {
            "marker": {
             "colorbar": {
              "outlinewidth": 0,
              "ticks": ""
             }
            },
            "type": "scatterternary"
           }
          ],
          "surface": [
           {
            "colorbar": {
             "outlinewidth": 0,
             "ticks": ""
            },
            "colorscale": [
             [
              0,
              "#0d0887"
             ],
             [
              0.1111111111111111,
              "#46039f"
             ],
             [
              0.2222222222222222,
              "#7201a8"
             ],
             [
              0.3333333333333333,
              "#9c179e"
             ],
             [
              0.4444444444444444,
              "#bd3786"
             ],
             [
              0.5555555555555556,
              "#d8576b"
             ],
             [
              0.6666666666666666,
              "#ed7953"
             ],
             [
              0.7777777777777778,
              "#fb9f3a"
             ],
             [
              0.8888888888888888,
              "#fdca26"
             ],
             [
              1,
              "#f0f921"
             ]
            ],
            "type": "surface"
           }
          ],
          "table": [
           {
            "cells": {
             "fill": {
              "color": "#EBF0F8"
             },
             "line": {
              "color": "white"
             }
            },
            "header": {
             "fill": {
              "color": "#C8D4E3"
             },
             "line": {
              "color": "white"
             }
            },
            "type": "table"
           }
          ]
         },
         "layout": {
          "annotationdefaults": {
           "arrowcolor": "#2a3f5f",
           "arrowhead": 0,
           "arrowwidth": 1
          },
          "autotypenumbers": "strict",
          "coloraxis": {
           "colorbar": {
            "outlinewidth": 0,
            "ticks": ""
           }
          },
          "colorscale": {
           "diverging": [
            [
             0,
             "#8e0152"
            ],
            [
             0.1,
             "#c51b7d"
            ],
            [
             0.2,
             "#de77ae"
            ],
            [
             0.3,
             "#f1b6da"
            ],
            [
             0.4,
             "#fde0ef"
            ],
            [
             0.5,
             "#f7f7f7"
            ],
            [
             0.6,
             "#e6f5d0"
            ],
            [
             0.7,
             "#b8e186"
            ],
            [
             0.8,
             "#7fbc41"
            ],
            [
             0.9,
             "#4d9221"
            ],
            [
             1,
             "#276419"
            ]
           ],
           "sequential": [
            [
             0,
             "#0d0887"
            ],
            [
             0.1111111111111111,
             "#46039f"
            ],
            [
             0.2222222222222222,
             "#7201a8"
            ],
            [
             0.3333333333333333,
             "#9c179e"
            ],
            [
             0.4444444444444444,
             "#bd3786"
            ],
            [
             0.5555555555555556,
             "#d8576b"
            ],
            [
             0.6666666666666666,
             "#ed7953"
            ],
            [
             0.7777777777777778,
             "#fb9f3a"
            ],
            [
             0.8888888888888888,
             "#fdca26"
            ],
            [
             1,
             "#f0f921"
            ]
           ],
           "sequentialminus": [
            [
             0,
             "#0d0887"
            ],
            [
             0.1111111111111111,
             "#46039f"
            ],
            [
             0.2222222222222222,
             "#7201a8"
            ],
            [
             0.3333333333333333,
             "#9c179e"
            ],
            [
             0.4444444444444444,
             "#bd3786"
            ],
            [
             0.5555555555555556,
             "#d8576b"
            ],
            [
             0.6666666666666666,
             "#ed7953"
            ],
            [
             0.7777777777777778,
             "#fb9f3a"
            ],
            [
             0.8888888888888888,
             "#fdca26"
            ],
            [
             1,
             "#f0f921"
            ]
           ]
          },
          "colorway": [
           "#636efa",
           "#EF553B",
           "#00cc96",
           "#ab63fa",
           "#FFA15A",
           "#19d3f3",
           "#FF6692",
           "#B6E880",
           "#FF97FF",
           "#FECB52"
          ],
          "font": {
           "color": "#2a3f5f"
          },
          "geo": {
           "bgcolor": "white",
           "lakecolor": "white",
           "landcolor": "#E5ECF6",
           "showlakes": true,
           "showland": true,
           "subunitcolor": "white"
          },
          "hoverlabel": {
           "align": "left"
          },
          "hovermode": "closest",
          "mapbox": {
           "style": "light"
          },
          "paper_bgcolor": "white",
          "plot_bgcolor": "#E5ECF6",
          "polar": {
           "angularaxis": {
            "gridcolor": "white",
            "linecolor": "white",
            "ticks": ""
           },
           "bgcolor": "#E5ECF6",
           "radialaxis": {
            "gridcolor": "white",
            "linecolor": "white",
            "ticks": ""
           }
          },
          "scene": {
           "xaxis": {
            "backgroundcolor": "#E5ECF6",
            "gridcolor": "white",
            "gridwidth": 2,
            "linecolor": "white",
            "showbackground": true,
            "ticks": "",
            "zerolinecolor": "white"
           },
           "yaxis": {
            "backgroundcolor": "#E5ECF6",
            "gridcolor": "white",
            "gridwidth": 2,
            "linecolor": "white",
            "showbackground": true,
            "ticks": "",
            "zerolinecolor": "white"
           },
           "zaxis": {
            "backgroundcolor": "#E5ECF6",
            "gridcolor": "white",
            "gridwidth": 2,
            "linecolor": "white",
            "showbackground": true,
            "ticks": "",
            "zerolinecolor": "white"
           }
          },
          "shapedefaults": {
           "line": {
            "color": "#2a3f5f"
           }
          },
          "ternary": {
           "aaxis": {
            "gridcolor": "white",
            "linecolor": "white",
            "ticks": ""
           },
           "baxis": {
            "gridcolor": "white",
            "linecolor": "white",
            "ticks": ""
           },
           "bgcolor": "#E5ECF6",
           "caxis": {
            "gridcolor": "white",
            "linecolor": "white",
            "ticks": ""
           }
          },
          "title": {
           "x": 0.05
          },
          "xaxis": {
           "automargin": true,
           "gridcolor": "white",
           "linecolor": "white",
           "ticks": "",
           "title": {
            "standoff": 15
           },
           "zerolinecolor": "white",
           "zerolinewidth": 2
          },
          "yaxis": {
           "automargin": true,
           "gridcolor": "white",
           "linecolor": "white",
           "ticks": "",
           "title": {
            "standoff": 15
           },
           "zerolinecolor": "white",
           "zerolinewidth": 2
          }
         }
        },
        "uniformtext": {
         "minsize": 12
        },
        "width": 700,
        "xaxis": {
         "autorange": true,
         "constrain": "domain",
         "domain": [
          0.15558194774346784,
          0.8444180522565321
         ],
         "range": [
          -0.003472222222222222,
          1.0034722222222223
         ],
         "title": {
          "text": "False Positive Rate"
         },
         "type": "linear"
        },
        "yaxis": {
         "autorange": true,
         "domain": [
          0,
          1
         ],
         "range": [
          -0.05555555555555555,
          1.0555555555555556
         ],
         "scaleanchor": "x",
         "scaleratio": 1,
         "title": {
          "text": "True Positive Rate"
         },
         "type": "linear"
        }
       }
      },
      "image/png": "[encoded data removed]",
      "text/html": [
       "<div>                            <div id=\"0d4a33b0-1759-4176-9bf1-1468f9320bb9\" class=\"plotly-graph-div\" style=\"height:500px; width:700px;\"></div>            <script type=\"text/javascript\">                require([\"plotly\"], function(Plotly) {                    window.PLOTLYENV=window.PLOTLYENV || {};                                    if (document.getElementById(\"0d4a33b0-1759-4176-9bf1-1468f9320bb9\")) {                    Plotly.newPlot(                        \"0d4a33b0-1759-4176-9bf1-1468f9320bb9\",                        [{\"mode\":\"lines\",\"name\":\"ROC curve (AUC=0.716)\",\"x\":[0.0,0.0009646302250803858,0.0012861736334405145,0.0012861736334405145,0.0012861736334405145,0.0012861736334405145,0.0012861736334405145,0.0012861736334405145,0.0012861736334405145,0.0012861736334405145,0.001607717041800643,0.001607717041800643,0.001607717041800643,0.001607717041800643,0.001607717041800643,0.001607717041800643,0.001607717041800643,0.001607717041800643,0.001607717041800643,0.001607717041800643,0.001607717041800643,0.0019292604501607716,0.0019292604501607716,0.0019292604501607716,0.0019292604501607716,0.0019292604501607716,0.0019292604501607716,0.0022508038585209,0.0022508038585209,0.0022508038585209,0.0022508038585209,0.0022508038585209,0.0022508038585209,0.0022508038585209,0.0022508038585209,0.002572347266881029,0.002572347266881029,0.002572347266881029,0.002572347266881029,0.0028938906752411574,0.0028938906752411574,0.003215434083601286,0.003215434083601286,0.003536977491961415,0.003536977491961415,0.0038585209003215433,0.0038585209003215433,0.004180064308681672,0.004180064308681672,0.0045016077170418,0.0045016077170418,0.005144694533762058,0.005144694533762058,0.005466237942122186,0.005466237942122186,0.005787781350482315,0.005787781350482315,0.006430868167202572,0.006430868167202572,0.006752411575562701,0.006752411575562701,0.00707395498392283,0.00707395498392283,0.0077170418006430866,0.0077170418006430866,0.008681672025723473,0.008681672025723473,0.0090032154340836,0.0090032154340836,0.00932475884244373,0.00932475884244373,0.009967845659163987,0.009967845659163987,0.011254019292604502,0.011254019292604502,0.013183279742765274,0.013183279742765274,0.01382636655948553,0.01382636655948553,0.01414790996784566,0.01414790996784566,0.014469453376205787,0.014469453376205787,0.015112540192926046,0.015112540192926046,0.015434083601286173,0.015434083601286173,0.01607717041800643,0.01607717041800643,0.01639871382636656,0.01639871382636656,0.016720257234726688,0.016720257234726688,0.017684887459807074,0.017684887459807074,0.0180064308681672,0.0180064308681672,0.018971061093247588,0.018971061093247588,0.019614147909967846,0.019614147909967846,0.019935691318327974,0.019935691318327974,0.020257234726688104,0.020257234726688104,0.02090032154340836,0.02090032154340836,0.02122186495176849,0.02122186495176849,0.022186495176848873,0.022186495176848873,0.02282958199356913,0.02282958199356913,0.02315112540192926,0.02315112540192926,0.023794212218649517,0.023794212218649517,0.024115755627009645,0.024115755627009645,0.02508038585209003,0.02508038585209003,0.02540192926045016,0.02540192926045016,0.028938906752411574,0.028938906752411574,0.029260450160771705,0.029260450160771705,0.029581993569131833,0.029581993569131833,0.03022508038585209,0.03022508038585209,0.03054662379421222,0.03054662379421222,0.030868167202572346,0.030868167202572346,0.031189710610932477,0.031189710610932477,0.031511254019292605,0.031511254019292605,0.031832797427652736,0.031832797427652736,0.03440514469453376,0.03440514469453376,0.03536977491961415,0.03536977491961415,0.0360128617363344,0.0360128617363344,0.036334405144694534,0.036334405144694534,0.036655948553054665,0.036655948553054665,0.03697749196141479,0.03697749196141479,0.03729903536977492,0.03729903536977492,0.037942122186495175,0.037942122186495175,0.03987138263665595,0.03987138263665595,0.043086816720257236,0.043086816720257236,0.04372990353697749,0.04372990353697749,0.04405144694533762,0.04405144694533762,0.04469453376205788,0.04469453376205788,0.045980707395498394,0.045980707395498394,0.04630225080385852,0.04630225080385852,0.047266881028938904,0.047266881028938904,0.04855305466237942,0.04855305466237942,0.04887459807073955,0.04887459807073955,0.049196141479099675,0.049196141479099675,0.04983922829581994,0.04983922829581994,0.05112540192926045,0.05112540192926045,0.05337620578778135,0.05337620578778135,0.05466237942122187,0.05466237942122187,0.05594855305466238,0.05594855305466238,0.05659163987138264,0.05659163987138264,0.057234726688102894,0.057234726688102894,0.057556270096463025,0.057556270096463025,0.05819935691318328,0.05819935691318328,0.06045016077170418,0.06045016077170418,0.060771704180064307,0.060771704180064307,0.06205787781350482,0.06205787781350482,0.06430868167202572,0.06430868167202572,0.06463022508038585,0.06463022508038585,0.06591639871382636,0.06591639871382636,0.06623794212218649,0.06623794212218649,0.06688102893890675,0.06688102893890675,0.06720257234726688,0.06720257234726688,0.06752411575562701,0.06752411575562701,0.06945337620578779,0.06945337620578779,0.07041800643086817,0.07041800643086817,0.0707395498392283,0.0707395498392283,0.0720257234726688,0.0720257234726688,0.07427652733118971,0.07427652733118971,0.07459807073954984,0.07459807073954984,0.07556270096463022,0.07556270096463022,0.07717041800643087,0.07717041800643087,0.07749196141479099,0.07749196141479099,0.07877813504823152,0.07877813504823152,0.07909967845659165,0.07909967845659165,0.0797427652733119,0.0797427652733119,0.08006430868167203,0.08006430868167203,0.08038585209003216,0.08038585209003216,0.08102893890675242,0.08102893890675242,0.08135048231511254,0.08135048231511254,0.08231511254019293,0.08231511254019293,0.08263665594855306,0.08263665594855306,0.08295819935691319,0.08295819935691319,0.0832797427652733,0.0832797427652733,0.0842443729903537,0.0842443729903537,0.08488745980707396,0.08488745980707396,0.08553054662379421,0.08553054662379421,0.08585209003215434,0.08585209003215434,0.08617363344051447,0.08617363344051447,0.08745980707395498,0.08745980707395498,0.08778135048231511,0.08778135048231511,0.08810289389067524,0.08810289389067524,0.08842443729903537,0.08842443729903537,0.08874598070739549,0.08874598070739549,0.08906752411575562,0.08906752411575562,0.09003215434083602,0.09003215434083602,0.09035369774919615,0.09035369774919615,0.09067524115755626,0.09067524115755626,0.0909967845659164,0.0909967845659164,0.09131832797427653,0.09131832797427653,0.09163987138263666,0.09163987138263666,0.09196141479099679,0.09196141479099679,0.09228295819935692,0.09228295819935692,0.09260450160771704,0.09260450160771704,0.0932475884244373,0.0932475884244373,0.09356913183279743,0.09356913183279743,0.09389067524115756,0.09389067524115756,0.09421221864951769,0.09421221864951769,0.09453376205787781,0.09453376205787781,0.09485530546623794,0.09485530546623794,0.09517684887459807,0.09517684887459807,0.0954983922829582,0.0954983922829582,0.09581993569131833,0.09581993569131833,0.09614147909967846,0.09614147909967846,0.09646302250803858,0.09646302250803858,0.09678456591639871,0.09678456591639871,0.09742765273311897,0.09742765273311897,0.09807073954983923,0.09807073954983923,0.09839228295819935,0.09839228295819935,0.09903536977491961,0.09903536977491961,0.09935691318327974,0.09935691318327974,0.09967845659163987,0.09967845659163987,0.1,0.1,0.10032154340836012,0.10032154340836012,0.10064308681672025,0.10064308681672025,0.10096463022508038,0.10096463022508038,0.10128617363344052,0.10128617363344052,0.10160771704180065,0.10160771704180065,0.10192926045016078,0.10192926045016078,0.10257234726688103,0.10257234726688103,0.10289389067524116,0.10289389067524116,0.10385852090032155,0.10385852090032155,0.10482315112540193,0.10482315112540193,0.10514469453376206,0.10514469453376206,0.10546623794212219,0.10546623794212219,0.10610932475884244,0.10610932475884244,0.10707395498392283,0.10707395498392283,0.10803858520900321,0.10803858520900321,0.10836012861736334,0.10836012861736334,0.10868167202572347,0.10868167202572347,0.1090032154340836,0.1090032154340836,0.10932475884244373,0.10932475884244373,0.10964630225080386,0.10964630225080386,0.10996784565916398,0.10996784565916398,0.11028938906752411,0.11028938906752411,0.11061093247588424,0.11061093247588424,0.11093247588424437,0.11093247588424437,0.11157556270096464,0.11157556270096464,0.11189710610932475,0.11189710610932475,0.11221864951768488,0.11221864951768488,0.11254019292604502,0.11254019292604502,0.11286173633440515,0.11286173633440515,0.11318327974276528,0.11318327974276528,0.11382636655948553,0.11382636655948553,0.11446945337620579,0.11446945337620579,0.11479099678456592,0.11479099678456592,0.11543408360128618,0.11543408360128618,0.1157556270096463,0.1157556270096463,0.11639871382636656,0.11639871382636656,0.11672025723472669,0.11672025723472669,0.11704180064308682,0.11704180064308682,0.1180064308681672,0.1180064308681672,0.11864951768488746,0.11864951768488746,0.11961414790996784,0.11961414790996784,0.11993569131832797,0.11993569131832797,0.1202572347266881,0.1202572347266881,0.12057877813504823,0.12057877813504823,0.12122186495176848,0.12122186495176848,0.12154340836012861,0.12154340836012861,0.12186495176848874,0.12186495176848874,0.12508038585209003,0.12508038585209003,0.12636655948553055,0.12636655948553055,0.12797427652733118,0.12797427652733118,0.12861736334405144,0.12861736334405144,0.12990353697749196,0.12990353697749196,0.1311897106109325,0.1311897106109325,0.13215434083601285,0.13215434083601285,0.1337620578778135,0.1337620578778135,0.13440514469453377,0.13440514469453377,0.13504823151125403,0.13504823151125403,0.13536977491961416,0.13536977491961416,0.13569131832797426,0.13569131832797426,0.13665594855305466,0.13665594855305466,0.1369774919614148,0.1369774919614148,0.13729903536977492,0.13729903536977492,0.1382636655948553,0.1382636655948553,0.1414790996784566,0.1414790996784566,0.14212218649517686,0.14212218649517686,0.14276527331189712,0.14276527331189712,0.14437299035369774,0.14437299035369774,0.1472668810289389,0.1472668810289389,0.14758842443729903,0.14758842443729903,0.14790996784565916,0.14855305466237942,0.1495176848874598,0.1495176848874598,0.14983922829581994,0.14983922829581994,0.1517684887459807,0.1517684887459807,0.15241157556270096,0.15241157556270096,0.15305466237942122,0.15305466237942122,0.15401929260450162,0.15401929260450162,0.1562700964630225,0.1562700964630225,0.15916398713826366,0.15916398713826366,0.16141479099678457,0.16141479099678457,0.16205787781350484,0.16205787781350484,0.16881028938906753,0.16881028938906753,0.16977491961414792,0.16977491961414792,0.17395498392282957,0.17395498392282957,0.17588424437299036,0.17588424437299036,0.1807073954983923,0.18135048231511253,0.18263665594855305,0.18263665594855305,0.1887459807073955,0.1887459807073955,0.18906752411575561,0.18906752411575561,0.190032154340836,0.190032154340836,0.19614147909967847,0.19614147909967847,0.2,0.20064308681672025,0.20064308681672025,0.20257234726688103,0.2032154340836013,0.20418006430868169,0.20418006430868169,0.20546623794212218,0.20610932475884244,0.21382636655948553,0.21382636655948553,0.21607717041800642,0.21607717041800642,0.21768488745980707,0.21768488745980707,0.21864951768488747,0.21864951768488747,0.2202572347266881,0.2202572347266881,0.2212218649517685,0.2212218649517685,0.2247588424437299,0.2247588424437299,0.22861736334405144,0.22861736334405144,0.2302250803858521,0.2302250803858521,0.2315112540192926,0.2315112540192926,0.23311897106109325,0.23311897106109325,0.23633440514469453,0.23633440514469453,0.23922829581993568,0.23922829581993568,0.2414790996784566,0.2414790996784566,0.24340836012861736,0.24340836012861736,0.245016077170418,0.245016077170418,0.24533762057877814,0.24533762057877814,0.24758842443729903,0.24758842443729903,0.24790996784565916,0.24790996784565916,0.2504823151125402,0.2504823151125402,0.2514469453376206,0.2514469453376206,0.25594855305466235,0.25594855305466235,0.2565916398713826,0.2565916398713826,0.2572347266881029,0.2594855305466238,0.2594855305466238,0.2604501607717042,0.2604501607717042,0.2627009646302251,0.2627009646302251,0.26688102893890675,0.26688102893890675,0.26720257234726685,0.26720257234726685,0.2681672025723473,0.2681672025723473,0.2694533762057878,0.2694533762057878,0.27234726688102895,0.27234726688102895,0.27491961414790994,0.27491961414790994,0.2752411575562701,0.2752411575562701,0.2765273311897106,0.2765273311897106,0.2768488745980707,0.2768488745980707,0.27781350482315115,0.27781350482315115,0.2787781350482315,0.2787781350482315,0.2810289389067524,0.2810289389067524,0.2823151125401929,0.2823151125401929,0.2829581993569132,0.2829581993569132,0.2868167202572347,0.2868167202572347,0.28713826366559486,0.28713826366559486,0.2884244372990354,0.2884244372990354,0.2932475884244373,0.2932475884244373,0.3019292604501608,0.3019292604501608,0.3022508038585209,0.3022508038585209,0.3067524115755627,0.3067524115755627,0.3090032154340836,0.3090032154340836,0.30996784565916397,0.30996784565916397,0.31511254019292606,0.31511254019292606,0.31768488745980705,0.31768488745980705,0.32057877813504826,0.32057877813504826,0.3221864951768489,0.3221864951768489,0.3237942122186495,0.3237942122186495,0.3247588424437299,0.3247588424437299,0.32508038585209004,0.32508038585209004,0.3279742765273312,0.3279742765273312,0.33633440514469454,0.33633440514469454,0.33954983922829585,0.33954983922829585,0.3414790996784566,0.3414790996784566,0.34340836012861736,0.34340836012861736,0.3446945337620579,0.3446945337620579,0.34758842443729904,0.3482315112540193,0.3485530546623794,0.3485530546623794,0.34919614147909966,0.34919614147909966,0.3495176848874598,0.3495176848874598,0.35080385852090035,0.35080385852090035,0.3517684887459807,0.3517684887459807,0.35498392282958197,0.35562700964630223,0.3578778135048232,0.3578778135048232,0.35884244372990354,0.35884244372990354,0.36045016077170416,0.36045016077170416,0.36237942122186495,0.36237942122186495,0.36270096463022505,0.36270096463022505,0.364951768488746,0.364951768488746,0.36591639871382636,0.36591639871382636,0.36784565916398715,0.36784565916398715,0.3691318327974277,0.3691318327974277,0.37009646302250804,0.37041800643086814,0.3723472668810289,0.3723472668810289,0.3739549839228296,0.3739549839228296,0.3752411575562701,0.3752411575562701,0.37588424437299034,0.37588424437299034,0.37717041800643086,0.37717041800643086,0.3797427652733119,0.3797427652733119,0.3803858520900322,0.3803858520900322,0.38102893890675243,0.38102893890675243,0.3823151125401929,0.3823151125401929,0.3836012861736334,0.3836012861736334,0.38488745980707395,0.38488745980707395,0.3858520900321543,0.3858520900321543,0.3864951768488746,0.38681672025723474,0.38681672025723474,0.387459807073955,0.387459807073955,0.3877813504823151,0.3877813504823151,0.39035369774919615,0.3913183279742765,0.3919614147909968,0.3919614147909968,0.39228295819935693,0.3929260450160772,0.3932475884244373,0.39389067524115756,0.3948553054662379,0.3948553054662379,0.3951768488745981,0.39581993569131835,0.397427652733119,0.397427652733119,0.39807073954983924,0.3987138263665595,0.3987138263665595,0.3990353697749196,0.3990353697749196,0.39935691318327976,0.39935691318327976,0.39967845659163986,0.4003215434083601,0.4003215434083601,0.4003215434083601,0.4003215434083601,0.4006430868167203,0.4006430868167203,0.4009646302250804,0.4009646302250804,0.4012861736334405,0.4012861736334405,0.4022508038585209,0.4022508038585209,0.4028938906752412,0.40353697749196143,0.4048231511254019,0.4048231511254019,0.40514469453376206,0.40514469453376206,0.4067524115755627,0.4067524115755627,0.40707395498392285,0.40707395498392285,0.40707395498392285,0.4086816720257235,0.4086816720257235,0.40932475884244374,0.4102893890675241,0.41061093247588426,0.41061093247588426,0.41093247588424436,0.41093247588424436,0.41093247588424436,0.4112540192926045,0.4115755627009646,0.4122186495176849,0.4122186495176849,0.412540192926045,0.4135048231511254,0.41479099678456594,0.41511254019292604,0.4154340836012862,0.4160771704180064,0.41672025723472667,0.41672025723472667,0.4173633440514469,0.4176848874598071,0.41832797427652735,0.4189710610932476,0.4192926045016077,0.4192926045016077,0.41961414790996787,0.419935691318328,0.4202572347266881,0.4202572347266881,0.4215434083601286,0.4228295819935691,0.4231511254019293,0.4234726688102894,0.4234726688102894,0.42411575562700965,0.4247588424437299,0.4247588424437299,0.4254019292604502,0.4257234726688103,0.42636655948553054,0.4270096463022508,0.42733118971061096,0.42797427652733117,0.4286173633440514,0.4286173633440514,0.4289389067524116,0.4289389067524116,0.4289389067524116,0.4292604501607717,0.42990353697749195,0.42990353697749195,0.4311897106109325,0.4311897106109325,0.43183279742765274,0.43183279742765274,0.432475884244373,0.43311897106109326,0.4340836012861736,0.4347266881028939,0.43536977491961415,0.43569131832797425,0.4363344051446945,0.4363344051446945,0.43762057877813504,0.4379421221864952,0.4379421221864952,0.43858520900321546,0.43858520900321546,0.4418006430868167,0.442443729903537,0.442443729903537,0.4427652733118971,0.4437299035369775,0.44437299035369776,0.4453376205787781,0.44630225080385855,0.44662379421221865,0.447588424437299,0.4491961414790997,0.44983922829581996,0.4508038585209003,0.4517684887459807,0.45241157556270095,0.4533762057877814,0.4536977491961415,0.45401929260450163,0.45434083601286174,0.45434083601286174,0.4562700964630225,0.45755627009646305,0.4585209003215434,0.4594855305466238,0.46012861736334404,0.4607717041800643,0.46141479099678456,0.4617363344051447,0.4630225080385852,0.4643086816720257,0.4646302250803859,0.464951768488746,0.46559485530546624,0.4665594855305466,0.4665594855305466,0.46720257234726686,0.4678456591639871,0.4684887459807074,0.4697749196141479,0.4704180064308682,0.47138263665594854,0.47266881028938906,0.4739549839228296,0.4758842443729904,0.4758842443729904,0.4758842443729904,0.47717041800643084,0.4790996784565916,0.4790996784565916,0.4797427652733119,0.4813504823151125,0.4819935691318328,0.48585209003215435,0.4864951768488746,0.4871382636655949,0.490032154340836,0.49163987138263665,0.492604501607717,0.4932475884244373,0.49517684887459806,0.4954983922829582,0.4987138263665595,0.502572347266881,0.5032154340836013,0.5041800643086817,0.509967845659164,0.5189710610932476,0.5192926045016077,0.5292604501607717,0.5456591639871383,0.5733118971061093,0.5813504823151125,1.0],\"y\":[0.0,0.054388133498145856,0.06798516687268233,0.0754017305315204,0.09023485784919653,0.09332509270704574,0.0957972805933251,0.09765142150803462,0.10012360939431397,0.10568603213844252,0.1069221260815822,0.10815822002472188,0.1100123609394314,0.11063040791100123,0.11186650185414092,0.11310259579728059,0.11433868974042027,0.1161928306551298,0.1180469715698393,0.12175525339925834,0.1242274412855377,0.1260815822002472,0.13102595797280595,0.13226205191594562,0.13411619283065512,0.13535228677379482,0.1365883807169345,0.13720642768850433,0.15327564894932014,0.1557478368355995,0.18170580964153277,0.18294190358467244,0.19406674907292953,0.19530284301606923,0.19901112484548825,0.19901112484548825,0.207663782447466,0.2088998763906057,0.21755253399258342,0.21755253399258342,0.22373300370828184,0.22373300370828184,0.2515451174289246,0.2515451174289246,0.2694684796044499,0.2694684796044499,0.276885043263288,0.276885043263288,0.27873918417799753,0.27873918417799753,0.28059332509270707,0.28059332509270707,0.2861557478368356,0.2861557478368356,0.2911001236093943,0.2911001236093943,0.29171817058096416,0.29171817058096416,0.292336217552534,0.292336217552534,0.29357231149567364,0.29357231149567364,0.29480840543881337,0.29480840543881337,0.2954264524103832,0.2954264524103832,0.29666254635352285,0.29666254635352285,0.29913473423980225,0.29913473423980225,0.29975278121137205,0.29975278121137205,0.3003708281829419,0.3003708281829419,0.3016069221260816,0.3016069221260816,0.3022249690976514,0.3022249690976514,0.30284301606922126,0.30284301606922126,0.3034610630407911,0.3034610630407911,0.30407911001236093,0.30407911001236093,0.3046971569839308,0.3046971569839308,0.30716934487021014,0.30716934487021014,0.30778739184178,0.30778739184178,0.3096415327564895,0.3096415327564895,0.31087762669962915,0.31087762669962915,0.31396786155747836,0.31396786155747836,0.315203955500618,0.315203955500618,0.3158220024721879,0.3158220024721879,0.3164400494437577,0.3164400494437577,0.31705809641532756,0.31705809641532756,0.3176761433868974,0.3176761433868974,0.3195302843016069,0.3195302843016069,0.32014833127317677,0.32014833127317677,0.3207663782447466,0.3207663782447466,0.32138442521631644,0.32138442521631644,0.3226205191594561,0.3226205191594561,0.3238566131025958,0.3238566131025958,0.32447466007416564,0.32447466007416564,0.32509270704573545,0.32509270704573545,0.326946847960445,0.326946847960445,0.32756489493201485,0.32756489493201485,0.32818294190358466,0.32818294190358466,0.3300370828182942,0.3300370828182942,0.33065512978986406,0.33065512978986406,0.3318912237330037,0.3318912237330037,0.3331273176761434,0.3331273176761434,0.3337453646477132,0.3337453646477132,0.33436341161928307,0.33436341161928307,0.33498145859085293,0.33498145859085293,0.33559950556242274,0.33559950556242274,0.3368355995055624,0.3368355995055624,0.3374536464771323,0.3374536464771323,0.3380716934487021,0.3380716934487021,0.33930778739184175,0.33930778739184175,0.3399258343634116,0.3399258343634116,0.3405438813349815,0.3405438813349815,0.34239802224969096,0.34239802224969096,0.34363411619283063,0.34363411619283063,0.34487021013597036,0.34487021013597036,0.34548825710754016,0.34548825710754016,0.34672435105067984,0.34672435105067984,0.34857849196538937,0.34857849196538937,0.3504326328800989,0.3504326328800989,0.3510506798516687,0.3510506798516687,0.3522867737948084,0.3522867737948084,0.35290482076637825,0.35290482076637825,0.3535228677379481,0.3535228677379481,0.3541409147095179,0.3541409147095179,0.3547589616810878,0.3547589616810878,0.3553770086526576,0.3553770086526576,0.3584672435105068,0.3584672435105068,0.35908529048207666,0.35908529048207666,0.36032138442521633,0.36032138442521633,0.36093943139678614,0.36093943139678614,0.361557478368356,0.361557478368356,0.3621755253399258,0.3621755253399258,0.36279357231149567,0.36279357231149567,0.36341161928306553,0.36341161928306553,0.36402966625463534,0.36402966625463534,0.3646477132262052,0.3646477132262052,0.365265760197775,0.365265760197775,0.3658838071693449,0.3658838071693449,0.3665018541409147,0.3665018541409147,0.3677379480840544,0.3677379480840544,0.3695920889987639,0.3695920889987639,0.37021013597033375,0.37021013597033375,0.37082818294190356,0.37082818294190356,0.3720642768850433,0.3720642768850433,0.3726823238566131,0.3726823238566131,0.37391841779975277,0.37391841779975277,0.37515451174289244,0.37515451174289244,0.3757725587144623,0.3757725587144623,0.37639060568603216,0.37639060568603216,0.37762669962917184,0.37762669962917184,0.37824474660074164,0.37824474660074164,0.3788627935723115,0.3788627935723115,0.38133498145859085,0.38133498145859085,0.3825710754017305,0.3825710754017305,0.3838071693448702,0.3838071693448702,0.38442521631644005,0.38442521631644005,0.38504326328800986,0.38504326328800986,0.3862793572311496,0.3862793572311496,0.38751545117428926,0.38751545117428926,0.38813349814585907,0.38813349814585907,0.38936959208899874,0.38936959208899874,0.39060568603213847,0.39060568603213847,0.3967861557478368,0.3967861557478368,0.3974042027194067,0.3974042027194067,0.3980222496909765,0.3980222496909765,0.39864029666254636,0.39864029666254636,0.399876390605686,0.399876390605686,0.4011124845488257,0.4011124845488257,0.40296662546353523,0.40296662546353523,0.40358467243510504,0.40358467243510504,0.4054388133498146,0.4054388133498146,0.40605686032138444,0.40605686032138444,0.4079110012360939,0.4079110012360939,0.40914709517923364,0.40914709517923364,0.40976514215080345,0.40976514215080345,0.4110012360939431,0.4110012360939431,0.4122373300370828,0.4122373300370828,0.4184177997527812,0.4184177997527812,0.41903584672435107,0.41903584672435107,0.4196538936959209,0.4196538936959209,0.4227441285537701,0.4227441285537701,0.4252163164400494,0.4252163164400494,0.4258343634116193,0.4258343634116193,0.4276885043263288,0.4276885043263288,0.43510506798516685,0.43510506798516685,0.4369592088998764,0.4369592088998764,0.4400494437577256,0.4400494437577256,0.4431396786155748,0.4431396786155748,0.4437577255871446,0.4437577255871446,0.446229913473424,0.446229913473424,0.44870210135970334,0.44870210135970334,0.449938195302843,0.449938195302843,0.4505562422744129,0.4505562422744129,0.4530284301606922,0.4530284301606922,0.453646477132262,0.453646477132262,0.45488257107540175,0.45488257107540175,0.4561186650185414,0.4561186650185414,0.4604449938195303,0.4604449938195303,0.46168108776267,0.46168108776267,0.465389369592089,0.465389369592089,0.4672435105067985,0.4672435105067985,0.4703337453646477,0.4703337453646477,0.4715698393077874,0.4715698393077874,0.47404202719406674,0.47404202719406674,0.4758961681087763,0.4758961681087763,0.4783683559950556,0.4783683559950556,0.4789864029666255,0.4789864029666255,0.48022249690976515,0.48022249690976515,0.4814585908529048,0.4814585908529048,0.4826946847960445,0.4826946847960445,0.484548825710754,0.484548825710754,0.48516687268232384,0.48516687268232384,0.48640296662546356,0.48640296662546356,0.48763906056860323,0.48763906056860323,0.48825710754017304,0.48825710754017304,0.4888751545117429,0.4888751545117429,0.4919653893695921,0.4919653893695921,0.49876390605686033,0.49876390605686033,0.49938195302843014,0.49938195302843014,0.5,0.5,0.5006180469715699,0.5006180469715699,0.5024721878862793,0.5024721878862793,0.5030902348578492,0.5030902348578492,0.5049443757725587,0.5049443757725587,0.5061804697156984,0.5061804697156984,0.5067985166872683,0.5067985166872683,0.5092707045735476,0.5092707045735476,0.5105067985166872,0.5105067985166872,0.5135970333745364,0.5135970333745364,0.515451174289246,0.515451174289246,0.5160692212608158,0.5160692212608158,0.5173053152039555,0.5173053152039555,0.5179233621755254,0.5179233621755254,0.5197775030902348,0.5197775030902348,0.5203955500618047,0.5203955500618047,0.522867737948084,0.522867737948084,0.5247218788627935,0.5247218788627935,0.5265760197775031,0.5265760197775031,0.5284301606922126,0.5284301606922126,0.5296662546353523,0.5296662546353523,0.5321384425216317,0.5321384425216317,0.5333745364647713,0.5333745364647713,0.5352286773794809,0.5352286773794809,0.5370828182941904,0.5370828182941904,0.5414091470951793,0.5414091470951793,0.5426452410383189,0.5426452410383189,0.5432632880098888,0.5432632880098888,0.5438813349814586,0.5438813349814586,0.5451174289245982,0.5451174289245982,0.546353522867738,0.546353522867738,0.5469715698393078,0.5469715698393078,0.5475896168108776,0.5475896168108776,0.5482076637824475,0.5482076637824475,0.5488257107540173,0.5488257107540173,0.5494437577255872,0.5494437577255872,0.5500618046971569,0.5500618046971569,0.5506798516687268,0.5506798516687268,0.5512978986402967,0.5512978986402967,0.5550061804697157,0.5550061804697157,0.5556242274412856,0.5556242274412856,0.5562422744128553,0.5562422744128553,0.5568603213844252,0.5568603213844252,0.5574783683559951,0.5574783683559951,0.5587144622991347,0.5587144622991347,0.5593325092707045,0.5593325092707045,0.5599505562422744,0.5599505562422744,0.5618046971569839,0.5618046971569839,0.5630407911001236,0.5630407911001236,0.5636588380716935,0.5636588380716935,0.5642768850432633,0.5642768850432633,0.5648949320148331,0.5648949320148331,0.5648949320148331,0.5648949320148331,0.565512978986403,0.565512978986403,0.5661310259579728,0.5661310259579728,0.5667490729295427,0.5667490729295427,0.5673671199011124,0.5673671199011124,0.5679851668726823,0.5679851668726823,0.5686032138442522,0.5686032138442522,0.5698393077873919,0.5698393077873919,0.5704573547589616,0.5704573547589616,0.5710754017305315,0.5710754017305315,0.5716934487021014,0.5716934487021014,0.5723114956736712,0.5723114956736712,0.5741656365883807,0.5741656365883807,0.5747836835599506,0.5747836835599506,0.5754017305315204,0.5754017305315204,0.5754017305315204,0.5754017305315204,0.57663782447466,0.57663782447466,0.5772558714462299,0.5772558714462299,0.5791100123609394,0.5791100123609394,0.5797280593325093,0.5797280593325093,0.5803461063040791,0.5803461063040791,0.5803461063040791,0.580964153275649,0.580964153275649,0.580964153275649,0.580964153275649,0.5815822002472187,0.5815822002472187,0.5815822002472187,0.5815822002472187,0.5822002472187886,0.5822002472187886,0.5828182941903585,0.5828182941903585,0.5840543881334982,0.5840543881334982,0.584672435105068,0.584672435105068,0.5852904820766378,0.5852904820766378,0.5859085290482077,0.5859085290482077,0.5865265760197775,0.5865265760197775,0.5871446229913473,0.5871446229913473,0.5877626699629172,0.5877626699629172,0.588380716934487,0.588380716934487,0.5889987639060569,0.5889987639060569,0.5896168108776267,0.5896168108776267,0.5902348578491965,0.5902348578491965,0.5908529048207664,0.5908529048207664,0.5914709517923362,0.5914709517923362,0.5920889987639061,0.5920889987639061,0.592707045735476,0.592707045735476,0.595797280593325,0.595797280593325,0.5964153275648949,0.5964153275648949,0.5970333745364648,0.5970333745364648,0.5982694684796045,0.5982694684796045,0.5988875154511742,0.5988875154511742,0.600123609394314,0.600123609394314,0.600123609394314,0.6007416563658838,0.6007416563658838,0.6019777503090235,0.6019777503090235,0.6032138442521632,0.6032138442521632,0.603831891223733,0.603831891223733,0.6044499381953028,0.6044499381953028,0.6050679851668727,0.6050679851668727,0.6056860321384425,0.6056860321384425,0.6063040791100124,0.6063040791100124,0.607540173053152,0.607540173053152,0.6093943139678616,0.6093943139678616,0.6100123609394313,0.6100123609394313,0.6112484548825711,0.6112484548825711,0.6118665018541409,0.6118665018541409,0.6137206427688504,0.6137206427688504,0.6143386897404203,0.6143386897404203,0.6149567367119901,0.6149567367119901,0.61557478368356,0.61557478368356,0.6161928306551298,0.6161928306551298,0.6174289245982695,0.6174289245982695,0.6180469715698393,0.6180469715698393,0.6186650185414091,0.6186650185414091,0.619283065512979,0.619283065512979,0.6199011124845488,0.6199011124845488,0.6211372064276885,0.6211372064276885,0.6217552533992583,0.6217552533992583,0.6223733003708282,0.6223733003708282,0.622991347342398,0.622991347342398,0.6236093943139679,0.6236093943139679,0.6242274412855378,0.6242274412855378,0.6248454882571075,0.6248454882571075,0.6254635352286774,0.6254635352286774,0.6260815822002472,0.6260815822002472,0.6266996291718171,0.6266996291718171,0.6273176761433868,0.6273176761433868,0.6279357231149567,0.6279357231149567,0.6285537700865266,0.6285537700865266,0.6291718170580964,0.6291718170580964,0.6297898640296663,0.6297898640296663,0.630407911001236,0.630407911001236,0.630407911001236,0.630407911001236,0.6310259579728059,0.6310259579728059,0.6316440049443758,0.6316440049443758,0.6322620519159456,0.6322620519159456,0.6328800988875154,0.6328800988875154,0.6334981458590853,0.6334981458590853,0.6334981458590853,0.6334981458590853,0.6341161928306551,0.6341161928306551,0.634734239802225,0.634734239802225,0.6353522867737948,0.6353522867737948,0.6359703337453646,0.6359703337453646,0.6365883807169345,0.6365883807169345,0.6372064276885043,0.6372064276885043,0.6378244746600742,0.6378244746600742,0.638442521631644,0.638442521631644,0.6396786155747837,0.6396786155747837,0.6402966625463535,0.6402966625463535,0.6409147095179234,0.6409147095179234,0.6415327564894932,0.6415327564894932,0.642150803461063,0.642150803461063,0.6427688504326329,0.6427688504326329,0.6433868974042027,0.6433868974042027,0.6440049443757726,0.6440049443757726,0.6446229913473424,0.6446229913473424,0.6452410383189122,0.6452410383189122,0.6458590852904821,0.6458590852904821,0.6470951792336218,0.6470951792336218,0.6477132262051916,0.6477132262051916,0.6483312731767614,0.6483312731767614,0.6483312731767614,0.6489493201483313,0.6489493201483313,0.6495673671199012,0.6495673671199012,0.6501854140914709,0.6501854140914709,0.6501854140914709,0.6501854140914709,0.6520395550061805,0.6520395550061805,0.6520395550061805,0.6520395550061805,0.6520395550061805,0.6520395550061805,0.6532756489493201,0.6532756489493201,0.6532756489493201,0.6532756489493201,0.6545117428924598,0.6551297898640297,0.6551297898640297,0.6563658838071693,0.6563658838071693,0.6569839307787392,0.6569839307787392,0.657601977750309,0.657601977750309,0.657601977750309,0.6582200247218789,0.6594561186650185,0.6606922126081582,0.6606922126081582,0.6613102595797281,0.6613102595797281,0.6625463535228677,0.6625463535228677,0.6631644004944376,0.6631644004944376,0.6644004944375772,0.6644004944375772,0.6644004944375772,0.6644004944375772,0.6662546353522868,0.6662546353522868,0.6668726823238567,0.6668726823238567,0.6674907292954264,0.6674907292954264,0.6687268232385661,0.669344870210136,0.669344870210136,0.6699629171817059,0.6699629171817059,0.6699629171817059,0.6705809641532756,0.6724351050679852,0.6724351050679852,0.673053152039555,0.6749072929542645,0.6749072929542645,0.6755253399258344,0.6755253399258344,0.6761433868974042,0.6761433868974042,0.6761433868974042,0.6761433868974042,0.6761433868974042,0.676761433868974,0.6779975278121138,0.6779975278121138,0.681087762669963,0.681087762669963,0.6817058096415327,0.6817058096415327,0.6823238566131026,0.6823238566131026,0.6829419035846724,0.6829419035846724,0.6835599505562423,0.6835599505562423,0.6847960444993819,0.6847960444993819,0.6847960444993819,0.6847960444993819,0.6854140914709518,0.6872682323856613,0.6872682323856613,0.6872682323856613,0.6878862793572311,0.6878862793572311,0.6891223733003708,0.6891223733003708,0.6891223733003708,0.6891223733003708,0.6897404202719407,0.6897404202719407,0.6903584672435105,0.6903584672435105,0.6915945611866502,0.69221260815822,0.69221260815822,0.69221260815822,0.6928306551297899,0.6928306551297899,0.6946847960444994,0.695920889987639,0.6965389369592089,0.6965389369592089,0.6971569839307787,0.6971569839307787,0.6971569839307787,0.6977750309023486,0.6977750309023486,0.6977750309023486,0.6983930778739185,0.6983930778739185,0.6990111248454882,0.6996291718170581,0.6996291718170581,0.700247218788628,0.700247218788628,0.700247218788628,0.7008652657601978,0.7008652657601978,0.7008652657601978,0.7008652657601978,0.7008652657601978,0.7008652657601978,0.7008652657601978,0.7008652657601978,0.7008652657601978,0.7008652657601978,0.7008652657601978,0.7014833127317676,0.7014833127317676,0.7021013597033374,0.7021013597033374,0.7027194066749073,0.7027194066749073,0.7033374536464772,0.7033374536464772,0.7033374536464772,0.7033374536464772,0.7033374536464772,0.703955500618047,0.703955500618047,0.7045735475896168,0.7045735475896168,0.7045735475896168,0.7045735475896168,0.7045735475896168,0.7051915945611866,0.7051915945611866,0.7064276885043264,0.7070457354758962,0.7070457354758962,0.7070457354758962,0.707663782447466,0.7082818294190358,0.7088998763906057,0.7107540173053152,0.7119901112484549,0.7119901112484549,0.7126081582200248,0.7132262051915945,0.7144622991347342,0.7144622991347342,0.7150803461063041,0.7163164400494437,0.7163164400494437,0.7163164400494437,0.7187886279357231,0.7200247218788628,0.7200247218788628,0.7224969097651421,0.723114956736712,0.723114956736712,0.7243510506798516,0.7255871446229913,0.7286773794808405,0.7286773794808405,0.7292954264524104,0.7317676143386898,0.7336217552533992,0.734857849196539,0.7379480840543882,0.7428924598269468,0.7428924598269468,0.7484548825710754,0.754017305315204,0.7676143386897404,0.7725587144622992,1.0],\"type\":\"scatter\"}],                        {\"template\":{\"data\":{\"histogram2dcontour\":[{\"type\":\"histogram2dcontour\",\"colorbar\":{\"outlinewidth\":0,\"ticks\":\"\"},\"colorscale\":[[0.0,\"#0d0887\"],[0.1111111111111111,\"#46039f\"],[0.2222222222222222,\"#7201a8\"],[0.3333333333333333,\"#9c179e\"],[0.4444444444444444,\"#bd3786\"],[0.5555555555555556,\"#d8576b\"],[0.6666666666666666,\"#ed7953\"],[0.7777777777777778,\"#fb9f3a\"],[0.8888888888888888,\"#fdca26\"],[1.0,\"#f0f921\"]]}],\"choropleth\":[{\"type\":\"choropleth\",\"colorbar\":{\"outlinewidth\":0,\"ticks\":\"\"}}],\"histogram2d\":[{\"type\":\"histogram2d\",\"colorbar\":{\"outlinewidth\":0,\"ticks\":\"\"},\"colorscale\":[[0.0,\"#0d0887\"],[0.1111111111111111,\"#46039f\"],[0.2222222222222222,\"#7201a8\"],[0.3333333333333333,\"#9c179e\"],[0.4444444444444444,\"#bd3786\"],[0.5555555555555556,\"#d8576b\"],[0.6666666666666666,\"#ed7953\"],[0.7777777777777778,\"#fb9f3a\"],[0.8888888888888888,\"#fdca26\"],[1.0,\"#f0f921\"]]}],\"heatmap\":[{\"type\":\"heatmap\",\"colorbar\":{\"outlinewidth\":0,\"ticks\":\"\"},\"colorscale\":[[0.0,\"#0d0887\"],[0.1111111111111111,\"#46039f\"],[0.2222222222222222,\"#7201a8\"],[0.3333333333333333,\"#9c179e\"],[0.4444444444444444,\"#bd3786\"],[0.5555555555555556,\"#d8576b\"],[0.6666666666666666,\"#ed7953\"],[0.7777777777777778,\"#fb9f3a\"],[0.8888888888888888,\"#fdca26\"],[1.0,\"#f0f921\"]]}],\"heatmapgl\":[{\"type\":\"heatmapgl\",\"colorbar\":{\"outlinewidth\":0,\"ticks\":\"\"},\"colorscale\":[[0.0,\"#0d0887\"],[0.1111111111111111,\"#46039f\"],[0.2222222222222222,\"#7201a8\"],[0.3333333333333333,\"#9c179e\"],[0.4444444444444444,\"#bd3786\"],[0.5555555555555556,\"#d8576b\"],[0.6666666666666666,\"#ed7953\"],[0.7777777777777778,\"#fb9f3a\"],[0.8888888888888888,\"#fdca26\"],[1.0,\"#f0f921\"]]}],\"contourcarpet\":[{\"type\":\"contourcarpet\",\"colorbar\":{\"outlinewidth\":0,\"ticks\":\"\"}}],\"contour\":[{\"type\":\"contour\",\"colorbar\":{\"outlinewidth\":0,\"ticks\":\"\"},\"colorscale\":[[0.0,\"#0d0887\"],[0.1111111111111111,\"#46039f\"],[0.2222222222222222,\"#7201a8\"],[0.3333333333333333,\"#9c179e\"],[0.4444444444444444,\"#bd3786\"],[0.5555555555555556,\"#d8576b\"],[0.6666666666666666,\"#ed7953\"],[0.7777777777777778,\"#fb9f3a\"],[0.8888888888888888,\"#fdca26\"],[1.0,\"#f0f921\"]]}],\"surface\":[{\"type\":\"surface\",\"colorbar\":{\"outlinewidth\":0,\"ticks\":\"\"},\"colorscale\":[[0.0,\"#0d0887\"],[0.1111111111111111,\"#46039f\"],[0.2222222222222222,\"#7201a8\"],[0.3333333333333333,\"#9c179e\"],[0.4444444444444444,\"#bd3786\"],[0.5555555555555556,\"#d8576b\"],[0.6666666666666666,\"#ed7953\"],[0.7777777777777778,\"#fb9f3a\"],[0.8888888888888888,\"#fdca26\"],[1.0,\"#f0f921\"]]}],\"mesh3d\":[{\"type\":\"mesh3d\",\"colorbar\":{\"outlinewidth\":0,\"ticks\":\"\"}}],\"scatter\":[{\"fillpattern\":{\"fillmode\":\"overlay\",\"size\":10,\"solidity\":0.2},\"type\":\"scatter\"}],\"parcoords\":[{\"type\":\"parcoords\",\"line\":{\"colorbar\":{\"outlinewidth\":0,\"ticks\":\"\"}}}],\"scatterpolargl\":[{\"type\":\"scatterpolargl\",\"marker\":{\"colorbar\":{\"outlinewidth\":0,\"ticks\":\"\"}}}],\"bar\":[{\"error_x\":{\"color\":\"#2a3f5f\"},\"error_y\":{\"color\":\"#2a3f5f\"},\"marker\":{\"line\":{\"color\":\"#E5ECF6\",\"width\":0.5},\"pattern\":{\"fillmode\":\"overlay\",\"size\":10,\"solidity\":0.2}},\"type\":\"bar\"}],\"scattergeo\":[{\"type\":\"scattergeo\",\"marker\":{\"colorbar\":{\"outlinewidth\":0,\"ticks\":\"\"}}}],\"scatterpolar\":[{\"type\":\"scatterpolar\",\"marker\":{\"colorbar\":{\"outlinewidth\":0,\"ticks\":\"\"}}}],\"histogram\":[{\"marker\":{\"pattern\":{\"fillmode\":\"overlay\",\"size\":10,\"solidity\":0.2}},\"type\":\"histogram\"}],\"scattergl\":[{\"type\":\"scattergl\",\"marker\":{\"colorbar\":{\"outlinewidth\":0,\"ticks\":\"\"}}}],\"scatter3d\":[{\"type\":\"scatter3d\",\"line\":{\"colorbar\":{\"outlinewidth\":0,\"ticks\":\"\"}},\"marker\":{\"colorbar\":{\"outlinewidth\":0,\"ticks\":\"\"}}}],\"scattermapbox\":[{\"type\":\"scattermapbox\",\"marker\":{\"colorbar\":{\"outlinewidth\":0,\"ticks\":\"\"}}}],\"scatterternary\":[{\"type\":\"scatterternary\",\"marker\":{\"colorbar\":{\"outlinewidth\":0,\"ticks\":\"\"}}}],\"scattercarpet\":[{\"type\":\"scattercarpet\",\"marker\":{\"colorbar\":{\"outlinewidth\":0,\"ticks\":\"\"}}}],\"carpet\":[{\"aaxis\":{\"endlinecolor\":\"#2a3f5f\",\"gridcolor\":\"white\",\"linecolor\":\"white\",\"minorgridcolor\":\"white\",\"startlinecolor\":\"#2a3f5f\"},\"baxis\":{\"endlinecolor\":\"#2a3f5f\",\"gridcolor\":\"white\",\"linecolor\":\"white\",\"minorgridcolor\":\"white\",\"startlinecolor\":\"#2a3f5f\"},\"type\":\"carpet\"}],\"table\":[{\"cells\":{\"fill\":{\"color\":\"#EBF0F8\"},\"line\":{\"color\":\"white\"}},\"header\":{\"fill\":{\"color\":\"#C8D4E3\"},\"line\":{\"color\":\"white\"}},\"type\":\"table\"}],\"barpolar\":[{\"marker\":{\"line\":{\"color\":\"#E5ECF6\",\"width\":0.5},\"pattern\":{\"fillmode\":\"overlay\",\"size\":10,\"solidity\":0.2}},\"type\":\"barpolar\"}],\"pie\":[{\"automargin\":true,\"type\":\"pie\"}]},\"layout\":{\"autotypenumbers\":\"strict\",\"colorway\":[\"#636efa\",\"#EF553B\",\"#00cc96\",\"#ab63fa\",\"#FFA15A\",\"#19d3f3\",\"#FF6692\",\"#B6E880\",\"#FF97FF\",\"#FECB52\"],\"font\":{\"color\":\"#2a3f5f\"},\"hovermode\":\"closest\",\"hoverlabel\":{\"align\":\"left\"},\"paper_bgcolor\":\"white\",\"plot_bgcolor\":\"#E5ECF6\",\"polar\":{\"bgcolor\":\"#E5ECF6\",\"angularaxis\":{\"gridcolor\":\"white\",\"linecolor\":\"white\",\"ticks\":\"\"},\"radialaxis\":{\"gridcolor\":\"white\",\"linecolor\":\"white\",\"ticks\":\"\"}},\"ternary\":{\"bgcolor\":\"#E5ECF6\",\"aaxis\":{\"gridcolor\":\"white\",\"linecolor\":\"white\",\"ticks\":\"\"},\"baxis\":{\"gridcolor\":\"white\",\"linecolor\":\"white\",\"ticks\":\"\"},\"caxis\":{\"gridcolor\":\"white\",\"linecolor\":\"white\",\"ticks\":\"\"}},\"coloraxis\":{\"colorbar\":{\"outlinewidth\":0,\"ticks\":\"\"}},\"colorscale\":{\"sequential\":[[0.0,\"#0d0887\"],[0.1111111111111111,\"#46039f\"],[0.2222222222222222,\"#7201a8\"],[0.3333333333333333,\"#9c179e\"],[0.4444444444444444,\"#bd3786\"],[0.5555555555555556,\"#d8576b\"],[0.6666666666666666,\"#ed7953\"],[0.7777777777777778,\"#fb9f3a\"],[0.8888888888888888,\"#fdca26\"],[1.0,\"#f0f921\"]],\"sequentialminus\":[[0.0,\"#0d0887\"],[0.1111111111111111,\"#46039f\"],[0.2222222222222222,\"#7201a8\"],[0.3333333333333333,\"#9c179e\"],[0.4444444444444444,\"#bd3786\"],[0.5555555555555556,\"#d8576b\"],[0.6666666666666666,\"#ed7953\"],[0.7777777777777778,\"#fb9f3a\"],[0.8888888888888888,\"#fdca26\"],[1.0,\"#f0f921\"]],\"diverging\":[[0,\"#8e0152\"],[0.1,\"#c51b7d\"],[0.2,\"#de77ae\"],[0.3,\"#f1b6da\"],[0.4,\"#fde0ef\"],[0.5,\"#f7f7f7\"],[0.6,\"#e6f5d0\"],[0.7,\"#b8e186\"],[0.8,\"#7fbc41\"],[0.9,\"#4d9221\"],[1,\"#276419\"]]},\"xaxis\":{\"gridcolor\":\"white\",\"linecolor\":\"white\",\"ticks\":\"\",\"title\":{\"standoff\":15},\"zerolinecolor\":\"white\",\"automargin\":true,\"zerolinewidth\":2},\"yaxis\":{\"gridcolor\":\"white\",\"linecolor\":\"white\",\"ticks\":\"\",\"title\":{\"standoff\":15},\"zerolinecolor\":\"white\",\"automargin\":true,\"zerolinewidth\":2},\"scene\":{\"xaxis\":{\"backgroundcolor\":\"#E5ECF6\",\"gridcolor\":\"white\",\"linecolor\":\"white\",\"showbackground\":true,\"ticks\":\"\",\"zerolinecolor\":\"white\",\"gridwidth\":2},\"yaxis\":{\"backgroundcolor\":\"#E5ECF6\",\"gridcolor\":\"white\",\"linecolor\":\"white\",\"showbackground\":true,\"ticks\":\"\",\"zerolinecolor\":\"white\",\"gridwidth\":2},\"zaxis\":{\"backgroundcolor\":\"#E5ECF6\",\"gridcolor\":\"white\",\"linecolor\":\"white\",\"showbackground\":true,\"ticks\":\"\",\"zerolinecolor\":\"white\",\"gridwidth\":2}},\"shapedefaults\":{\"line\":{\"color\":\"#2a3f5f\"}},\"annotationdefaults\":{\"arrowcolor\":\"#2a3f5f\",\"arrowhead\":0,\"arrowwidth\":1},\"geo\":{\"bgcolor\":\"white\",\"landcolor\":\"#E5ECF6\",\"subunitcolor\":\"white\",\"showland\":true,\"showlakes\":true,\"lakecolor\":\"white\"},\"title\":{\"x\":0.05},\"mapbox\":{\"style\":\"light\"}}},\"shapes\":[{\"line\":{\"dash\":\"dash\"},\"type\":\"line\",\"x0\":0,\"x1\":1,\"y0\":0,\"y1\":1}],\"uniformtext\":{\"minsize\":12},\"yaxis\":{\"title\":{\"text\":\"True Positive Rate\"},\"scaleanchor\":\"x\",\"scaleratio\":1},\"xaxis\":{\"title\":{\"text\":\"False Positive Rate\"},\"constrain\":\"domain\"},\"width\":700,\"height\":500,\"showlegend\":true},                        {\"responsive\": true}                    ).then(function(){\n",
       "                            \n",
       "var gd = document.getElementById('0d4a33b0-1759-4176-9bf1-1468f9320bb9');\n",
       "var x = new MutationObserver(function (mutations, observer) {{\n",
       "        var display = window.getComputedStyle(gd).display;\n",
       "        if (!display || display === 'none') {{\n",
       "            console.log([gd, 'removed!']);\n",
       "            Plotly.purge(gd);\n",
       "            observer.disconnect();\n",
       "        }}\n",
       "}});\n",
       "\n",
       "// Listen for the removal of the full notebook cells\n",
       "var notebookContainer = gd.closest('#notebook-container');\n",
       "if (notebookContainer) {{\n",
       "    x.observe(notebookContainer, {childList: true});\n",
       "}}\n",
       "\n",
       "// Listen for the clearing of the current output cell\n",
       "var outputEl = gd.closest('.output');\n",
       "if (outputEl) {{\n",
       "    x.observe(outputEl, {childList: true});\n",
       "}}\n",
       "\n",
       "                        })                };                });            </script>        </div>"
      ]
     },
     "metadata": {},
     "output_type": "display_data"
    }
   ],
   "source": [
    "import plotly.graph_objects as go\n",
    "fig = go.Figure()\n",
    "fig.add_shape(\n",
    "    type='line', line=dict(dash='dash'),\n",
    "    x0=0, x1=1, y0=0, y1=1\n",
    ")\n",
    "# name = f\"ROC Train (AUC={roc['train'][2]:.3f})\"\n",
    "# fig.add_trace(go.Scatter(x=roc['train'][0], y=roc['train'][1], name=name, mode='lines'))\n",
    "\n",
    "name = f\"ROC curve (AUC={roc_auc:.3f})\"\n",
    "fig.add_trace(go.Scatter(x=fpr, y=tpr, name=name, mode='lines'))\n",
    "\n",
    "fig.update_layout(\n",
    "    uniformtext_minsize=12,\n",
    "    xaxis_title='False Positive Rate',\n",
    "    yaxis_title='True Positive Rate',\n",
    "    yaxis=dict(scaleanchor=\"x\", scaleratio=1),\n",
    "    xaxis=dict(constrain='domain'),\n",
    "    width=700, height=500,\n",
    "    showlegend=True\n",
    ")\n",
    "fig.show()"
   ]
  },
  {
   "cell_type": "code",
   "execution_count": null,
   "id": "48897966-3617-4dc5-9677-8c181a1c3da9",
   "metadata": {},
   "outputs": [],
   "source": []
  },
  {
   "cell_type": "code",
   "execution_count": null,
   "id": "b51387b0-8bb5-4ed7-988f-709409c4a907",
   "metadata": {},
   "outputs": [],
   "source": []
  },
  {
   "cell_type": "code",
   "execution_count": 92,
   "id": "808b97d5-d08c-4e15-ac79-5b3f12f5efca",
   "metadata": {},
   "outputs": [],
   "source": [
    "to = optmized_learn.dls.train_ds.new(dl_test[:100])\n",
    "to.process()\n",
    "dl = TabDataLoader(to)"
   ]
  },
  {
   "cell_type": "code",
   "execution_count": 93,
   "id": "5148e816-4c00-4635-a474-3c1bf8502f4c",
   "metadata": {},
   "outputs": [],
   "source": [
    "# !pip install fastinference[all]\n",
    "import fastinference\n",
    "from fastinference.tabular import *"
   ]
  },
  {
   "cell_type": "code",
   "execution_count": 95,
   "id": "f879bfa9-f111-4439-85f3-38646772b0a1",
   "metadata": {},
   "outputs": [
    {
     "data": {
      "application/vnd.jupyter.widget-view+json": {
       "model_id": "34ef066059fa49a5826ac25032a4f4ef",
       "version_major": 2,
       "version_minor": 0
      },
      "text/plain": [
       "  0%|          | 0/4728 [00:00<?, ?it/s]"
      ]
     },
     "metadata": {},
     "output_type": "display_data"
    }
   ],
   "source": [
    "exp = ShapInterpretation(optmized_learn, dl_a)"
   ]
  },
  {
   "cell_type": "code",
   "execution_count": 96,
   "id": "036673e1-a2ac-42e7-a152-4b133d35abfc",
   "metadata": {},
   "outputs": [
    {
     "data": {
      "image/png": "[encoded data removed]",
      "text/plain": [
       "<Figure size 576x684 with 1 Axes>"
      ]
     },
     "metadata": {
      "needs_background": "light"
     },
     "output_type": "display_data"
    }
   ],
   "source": [
    "exp.summary_plot()"
   ]
  },
  {
   "cell_type": "code",
   "execution_count": 22,
   "id": "0bb0613b-6fde-4562-92fc-cfd3ddd65e9c",
   "metadata": {},
   "outputs": [
    {
     "name": "stdout",
     "output_type": "stream",
     "text": [
      "Classification model detected, displaying score for the class 1.\n",
      "(use `class_id` to specify another class)\n",
      "Displaying row 10 of 100 (use `row_idx` to specify another row)\n"
     ]
    },
    {
     "data": {
      "image/png": "[encoded data removed]",
      "text/plain": [
       "<Figure size 576x684 with 1 Axes>"
      ]
     },
     "metadata": {
      "needs_background": "light"
     },
     "output_type": "display_data"
    }
   ],
   "source": [
    "exp.decision_plot(class_id=1, row_idx=10)"
   ]
  },
  {
   "cell_type": "code",
   "execution_count": null,
   "id": "1f1ef8e9-30c3-4853-9031-57f688282a7f",
   "metadata": {},
   "outputs": [],
   "source": []
  }
 ],
 "metadata": {
  "kernelspec": {
   "display_name": "env_tabular",
   "language": "python",
   "name": "env_tabular"
  },
  "language_info": {
   "codemirror_mode": {
    "name": "ipython",
    "version": 3
   },
   "file_extension": ".py",
   "mimetype": "text/x-python",
   "name": "python",
   "nbconvert_exporter": "python",
   "pygments_lexer": "ipython3",
   "version": "3.8.10"
  }
 },
 "nbformat": 4,
 "nbformat_minor": 5
}
