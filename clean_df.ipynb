{
 "cells": [
  {
   "cell_type": "code",
   "execution_count": 1,
   "id": "a4f612ed-933c-4e07-8b42-9d18ba59d041",
   "metadata": {},
   "outputs": [],
   "source": [
    "import warnings\n",
    "warnings.filterwarnings('ignore')\n",
    "\n",
    "# from sklearnex import patch_sklearn\n",
    "# patch_sklearn()"
   ]
  },
  {
   "cell_type": "code",
   "execution_count": 2,
   "id": "418c2011-f015-4ebe-95b1-2c1bbb05f274",
   "metadata": {},
   "outputs": [
    {
     "name": "stdout",
     "output_type": "stream",
     "text": [
      "1.0.2\n"
     ]
    }
   ],
   "source": [
    "import os\n",
    "import numpy as np\n",
    "import pandas as pd\n",
    "import plotly.express as px\n",
    "import copy\n",
    "\n",
    "import sklearn\n",
    "print(sklearn.__version__)\n",
    "from sklearn.metrics import confusion_matrix, ConfusionMatrixDisplay, classification_report, accuracy_score, f1_score, roc_auc_score,  roc_curve, auc, precision_recall_curve\n",
    "from sklearn.preprocessing import StandardScaler, MinMaxScaler, RobustScaler, QuantileTransformer, KBinsDiscretizer, Normalizer, PowerTransformer, SplineTransformer, MaxAbsScaler\n",
    "from sklearn.model_selection import GridSearchCV, train_test_split\n",
    "from sklearn.feature_selection import SelectFromModel, SelectKBest, chi2, VarianceThreshold\n",
    "from sklearn.decomposition import PCA\n",
    "from sklearn.utils.class_weight import compute_class_weight\n",
    "from sklearn.linear_model import LogisticRegression, PassiveAggressiveClassifier, Perceptron, RidgeClassifier, SGDClassifier, SGDOneClassSVM\n",
    "from sklearn.pipeline import Pipeline\n",
    "\n",
    "from xgboost import XGBRegressor, plot_importance\n",
    "from imblearn.over_sampling import SMOTE, ADASYN,BorderlineSMOTE, KMeansSMOTE, SMOTEN, SMOTENC, SVMSMOTE\n",
    "\n",
    "from mlxtend.plotting import plot_learning_curves\n",
    "\n",
    "import matplotlib.pyplot as plt"
   ]
  },
  {
   "cell_type": "code",
   "execution_count": 3,
   "id": "e5ed6e16-9279-43ad-889d-7b57e4d80326",
   "metadata": {},
   "outputs": [],
   "source": [
    "class WorkingSet:\n",
    "    def __init__(self, csv_file_name:str):\n",
    "        self.imported_dataframe = pd.read_csv(csv_file_name)\n",
    "        self.training_df = None\n",
    "        self.X_train = None\n",
    "        self.y_train = None\n",
    "        self.X_test = None\n",
    "        self.y_test = None\n",
    "        self.target_name = ''\n",
    "        self.generate_train_set()\n",
    "        self.generate_test_set()\n",
    "    \n",
    "    def generate_train_set(self):\n",
    "        \n",
    "        df_train = self.imported_dataframe[self.imported_dataframe['Inf_Train_test'].str.contains('train', case=False)]\n",
    "        df_valid = self.imported_dataframe[self.imported_dataframe['Inf_Train_test'].str.contains('valid', case=False)]\n",
    "\n",
    "        self.training_df = pd.concat([df_train, df_valid], axis=0)\n",
    "        \n",
    "        print(f'Are thre any Nan = {self.training_df.isnull().values.any()}, Number of Nan = {self.training_df.isnull().sum().sum()}')\n",
    "\n",
    "        for key in self.training_df.keys():\n",
    "            if 'target' in key.lower():\n",
    "                self.target_name = key\n",
    "                print(self.target_name)\n",
    "        \n",
    "        self.X_train = self.training_df.drop(['Target_Lesion_ClinSig', 'Inf_Train_test'], axis=1)\n",
    "        self.X_train = self.drop_all_zero_columns(self.X_train)\n",
    "        self.X_train = self.drop_columns_std_larger(self.X_train)\n",
    "        \n",
    "        self.y_train = self.training_df['Target_Lesion_ClinSig']\n",
    "\n",
    "    def generate_test_set(self):\n",
    "        df_test = self.imported_dataframe[self.imported_dataframe['Inf_Train_test'].str.contains('test', case=False)]\n",
    "        self.X_test = df_test.drop(['Target_Lesion_ClinSig', 'Inf_Train_test'], axis=1)\n",
    "        self.X_test = self.drop_all_zero_columns(self.X_test)\n",
    "        self.X_test = self.drop_columns_std_larger(self.X_test)\n",
    "        self.y_test = df_test['Target_Lesion_ClinSig']\n",
    "    \n",
    "    @staticmethod\n",
    "    def drop_all_zero_columns(a_dataframe: pd.DataFrame) -> pd.DataFrame:  \n",
    "        return a_dataframe.loc[:, a_dataframe.ne(0).any()]\n",
    "    \n",
    "    @staticmethod\n",
    "    def drop_columns_std_larger(a_dataframe: pd.DataFrame) -> pd.DataFrame:\n",
    "        return a_dataframe.loc[:, a_dataframe.std() < 10000]"
   ]
  },
  {
   "cell_type": "code",
   "execution_count": 4,
   "id": "ff7b9a79-11f0-4b56-baf6-2b60e183c87f",
   "metadata": {},
   "outputs": [],
   "source": [
    "def apply_variance_threshold(x_set: pd.DataFrame) -> np.array:\n",
    "    variance_threshold = VarianceThreshold(threshold=0.2)\n",
    "    variance_threshold.fit(x_set)\n",
    "    return variance_threshold.transform(x_set)"
   ]
  },
  {
   "cell_type": "code",
   "execution_count": 7,
   "id": "a0a6710c-a645-43cd-b1bc-0a11e1ecabc8",
   "metadata": {},
   "outputs": [],
   "source": [
    "class DataVariance:\n",
    "    def __init__(self, all_set, variance_flag: bool = False):\n",
    "        self.all_set = all_set\n",
    "        self.variance_flag = variance_flag\n",
    "        self.X_train_trans = None\n",
    "        self.X_train = None\n",
    "        self.y_train = None\n",
    "        self.X_test_trans = None\n",
    "        self.initialize()\n",
    "\n",
    "    def initialize(self):\n",
    "        self.make_variance()\n",
    "        self.resample_dataset()\n",
    "\n",
    "    def make_variance(self):\n",
    "        self.X_train_trans = apply_variance_threshold(self.all_set.X_train)\n",
    "        self.X_test_trans = apply_variance_threshold(self.all_set.X_test)\n",
    "\n",
    "    def resample_dataset(self):\n",
    "        smote = ADASYN(random_state=2022, sampling_strategy='minority', n_jobs=4)\n",
    "        if self.variance_flag:\n",
    "            self.X_train, self.y_train = smote.fit_resample(self.X_train_trans, self.all_set.y_train.values.ravel())\n",
    "        else:\n",
    "            self.X_train, self.y_train = smote.fit_resample(self.all_set.X_train.values, self.all_set.y_train.values.ravel())"
   ]
  },
  {
   "cell_type": "code",
   "execution_count": 8,
   "id": "6abb65cc-ebb5-46d5-ae06-761365990fe3",
   "metadata": {},
   "outputs": [],
   "source": [
    "class RocCurve:\n",
    "    def __init__(self, model: sklearn, all_set: WorkingSet, variance: DataVariance = None):\n",
    "        self.model = model\n",
    "        self.all_set = all_set\n",
    "        self.variance = variance\n",
    "        self.initialize()\n",
    "\n",
    "    def initialize(self):\n",
    "\n",
    "        # if self.variance != None:\n",
    "        fpr_lr_train, tpr_lr_train, roc_auc_lr_train = self.generate_score(self.variance.X_train, self.variance.y_train)\n",
    "        fpr_lr_test, tpr_lr_test, roc_auc_lr_test = self.generate_score(self.variance.X_test_trans, self.all_set.y_test.values.ravel())\n",
    "        # else:\n",
    "        #     fpr_lr_train, tpr_lr_train, roc_auc_lr_train = self.generate_score(self.all_set.X_train.values, self.all_set.y_train.values.ravel())\n",
    "        #     fpr_lr_test, tpr_lr_test, roc_auc_lr_test = self.generate_score(self.all_set.X_test.values, self.all_set.y_test.values.ravel())\n",
    "\n",
    "        self.plot_roc_curve(fpr_lr_train, tpr_lr_train, roc_auc_lr_train, fpr_lr_test, tpr_lr_test, roc_auc_lr_test)\n",
    "\n",
    "    def generate_score(self, x_set, y_set):\n",
    "        y_scores = self.model.predict(x_set)\n",
    "\n",
    "        fpr_lr, tpr_lr, _ = roc_curve(y_set, y_scores)\n",
    "        roc_auc_lr = auc(fpr_lr, tpr_lr)\n",
    "\n",
    "        return fpr_lr, tpr_lr, roc_auc_lr\n",
    "\n",
    "    @staticmethod\n",
    "    def plot_roc_curve(fpr_lr_train, tpr_lr_train, roc_auc_lr_train, fpr_lr_test, tpr_lr_test, roc_auc_lr_test):\n",
    "\n",
    "        fig, (ax1, ax2) = plt.subplots(1, 2, figsize=(12, 7))\n",
    "        ax1.set_title('ROC curve Train', fontsize=16)\n",
    "        ax1.plot(fpr_lr_train, tpr_lr_train, lw=3, label=f'LogRegr ROC curve (area = {roc_auc_lr_train:0.2f})')\n",
    "        ax1.set_xlabel('False Positive Rate', fontsize=16)\n",
    "        ax1.set_ylabel('True Positive Rate', fontsize=16)\n",
    "        ax1.legend(loc='lower right', fontsize=13)\n",
    "        ax1.plot([0, 1], [0, 1], color='navy', lw=3, linestyle='--')\n",
    "\n",
    "        ax2.set_title('ROC curve Test', fontsize=16)\n",
    "        ax2.plot(fpr_lr_test, tpr_lr_test, lw=3, label=f'LogRegr ROC curve (area = {roc_auc_lr_test:0.2f})')\n",
    "        ax2.set_xlabel('False Positive Rate', fontsize=16)\n",
    "        ax2.set_ylabel('True Positive Rate', fontsize=16)\n",
    "        ax2.legend(loc='lower right', fontsize=13)\n",
    "        ax2.plot([0, 1], [0, 1], color='navy', lw=3, linestyle='--')"
   ]
  },
  {
   "cell_type": "code",
   "execution_count": null,
   "id": "dbe32470-7483-4a19-8c72-3436a4f47d90",
   "metadata": {},
   "outputs": [],
   "source": [
    "# pc1_loadings = loadings.sort_values(by='PC1', ascending=False)[['PC1']]\n",
    "# pc1_loadings = pc1_loadings.reset_index()\n",
    "# pc1_loadings.columns = ['Attribute', 'CorrelationWithPC1']\n",
    "\n",
    "# plt.bar(x=pc1_loadings['Attribute'], height=pc1_loadings['CorrelationWithPC1'], color='#087E8B')\n",
    "# plt.title('PCA loading scores (first principal component)', size=20)\n",
    "# plt.xticks(rotation='vertical')\n",
    "# plt.show()"
   ]
  },
  {
   "cell_type": "code",
   "execution_count": 9,
   "id": "52b02825-9dcc-4824-aabb-94fc05d6243c",
   "metadata": {},
   "outputs": [
    {
     "data": {
      "text/plain": [
       "'/home/fabio/Documents/tabular_lesion'"
      ]
     },
     "execution_count": 9,
     "metadata": {},
     "output_type": "execute_result"
    }
   ],
   "source": [
    "path = os.getcwd()\n",
    "path"
   ]
  },
  {
   "cell_type": "code",
   "execution_count": 10,
   "id": "51b37390-248a-45dc-9196-4b8d73dd7760",
   "metadata": {},
   "outputs": [],
   "source": [
    "def plot_class_balance(all_set: WorkingSet):\n",
    "    df_Clinically_Sig = pd.DataFrame(all_set.training_df[all_set.target_name].value_counts())\n",
    "    df_Clinically_Sig.reset_index(inplace=True)\n",
    "    df_Clinically_Sig = df_Clinically_Sig.rename(columns = {'index':'Clinically_Sig'})\n",
    "    df_Clinically_Sig = df_Clinically_Sig.rename(columns = {all_set.target_name:'Count'})\n",
    "\n",
    "    fig = px.bar(df_Clinically_Sig, x='Clinically_Sig', y='Count', color=('blue', 'red'), text='Count', title='Class Balance')\n",
    "    fig.update_layout(showlegend=False)\n",
    "    fig.show(renderer=\"colab\")"
   ]
  },
  {
   "cell_type": "code",
   "execution_count": 13,
   "id": "19273b1c-2fc7-482d-bf46-ce7e13190bd0",
   "metadata": {},
   "outputs": [
    {
     "name": "stdout",
     "output_type": "stream",
     "text": [
      "Are thre any Nan = False, Number of Nan = 0\n",
      "Target_Lesion_ClinSig\n"
     ]
    }
   ],
   "source": [
    "all_set = WorkingSet(os.path.join('data', 'lesion_df_balanced_Target_Lesion_ClinSig.csv'))"
   ]
  },
  {
   "cell_type": "code",
   "execution_count": 14,
   "id": "18035d3f-4cca-4e54-99bf-fdb3772f3b19",
   "metadata": {},
   "outputs": [
    {
     "data": {
      "text/html": [
       "<html>\n",
       "<head><meta charset=\"utf-8\" /></head>\n",
       "<body>\n",
       "    <div>            <script src=\"https://cdnjs.cloudflare.com/ajax/libs/mathjax/2.7.5/MathJax.js?config=TeX-AMS-MML_SVG\"></script><script type=\"text/javascript\">if (window.MathJax && window.MathJax.Hub && window.MathJax.Hub.Config) {window.MathJax.Hub.Config({SVG: {font: \"STIX-Web\"}});}</script>                <script type=\"text/javascript\">window.PlotlyConfig = {MathJaxConfig: 'local'};</script>\n",
       "        <script src=\"https://cdn.plot.ly/plotly-2.12.1.min.js\"></script>                <div id=\"97f93bec-7a1a-4667-bcd0-3504f0bc68ee\" class=\"plotly-graph-div\" style=\"height:525px; width:100%;\"></div>            <script type=\"text/javascript\">                                    window.PLOTLYENV=window.PLOTLYENV || {};                                    if (document.getElementById(\"97f93bec-7a1a-4667-bcd0-3504f0bc68ee\")) {                    Plotly.newPlot(                        \"97f93bec-7a1a-4667-bcd0-3504f0bc68ee\",                        [{\"alignmentgroup\":\"True\",\"hovertemplate\":\"color=blue<br>Clinically_Sig=%{x}<br>Count=%{text}<extra></extra>\",\"legendgroup\":\"blue\",\"marker\":{\"color\":\"#636efa\",\"pattern\":{\"shape\":\"\"}},\"name\":\"blue\",\"offsetgroup\":\"blue\",\"orientation\":\"v\",\"showlegend\":true,\"text\":[26527.0],\"textposition\":\"auto\",\"x\":[0],\"xaxis\":\"x\",\"y\":[26527],\"yaxis\":\"y\",\"type\":\"bar\"},{\"alignmentgroup\":\"True\",\"hovertemplate\":\"color=red<br>Clinically_Sig=%{x}<br>Count=%{text}<extra></extra>\",\"legendgroup\":\"red\",\"marker\":{\"color\":\"#EF553B\",\"pattern\":{\"shape\":\"\"}},\"name\":\"red\",\"offsetgroup\":\"red\",\"orientation\":\"v\",\"showlegend\":true,\"text\":[7237.0],\"textposition\":\"auto\",\"x\":[1],\"xaxis\":\"x\",\"y\":[7237],\"yaxis\":\"y\",\"type\":\"bar\"}],                        {\"template\":{\"data\":{\"histogram2dcontour\":[{\"type\":\"histogram2dcontour\",\"colorbar\":{\"outlinewidth\":0,\"ticks\":\"\"},\"colorscale\":[[0.0,\"#0d0887\"],[0.1111111111111111,\"#46039f\"],[0.2222222222222222,\"#7201a8\"],[0.3333333333333333,\"#9c179e\"],[0.4444444444444444,\"#bd3786\"],[0.5555555555555556,\"#d8576b\"],[0.6666666666666666,\"#ed7953\"],[0.7777777777777778,\"#fb9f3a\"],[0.8888888888888888,\"#fdca26\"],[1.0,\"#f0f921\"]]}],\"choropleth\":[{\"type\":\"choropleth\",\"colorbar\":{\"outlinewidth\":0,\"ticks\":\"\"}}],\"histogram2d\":[{\"type\":\"histogram2d\",\"colorbar\":{\"outlinewidth\":0,\"ticks\":\"\"},\"colorscale\":[[0.0,\"#0d0887\"],[0.1111111111111111,\"#46039f\"],[0.2222222222222222,\"#7201a8\"],[0.3333333333333333,\"#9c179e\"],[0.4444444444444444,\"#bd3786\"],[0.5555555555555556,\"#d8576b\"],[0.6666666666666666,\"#ed7953\"],[0.7777777777777778,\"#fb9f3a\"],[0.8888888888888888,\"#fdca26\"],[1.0,\"#f0f921\"]]}],\"heatmap\":[{\"type\":\"heatmap\",\"colorbar\":{\"outlinewidth\":0,\"ticks\":\"\"},\"colorscale\":[[0.0,\"#0d0887\"],[0.1111111111111111,\"#46039f\"],[0.2222222222222222,\"#7201a8\"],[0.3333333333333333,\"#9c179e\"],[0.4444444444444444,\"#bd3786\"],[0.5555555555555556,\"#d8576b\"],[0.6666666666666666,\"#ed7953\"],[0.7777777777777778,\"#fb9f3a\"],[0.8888888888888888,\"#fdca26\"],[1.0,\"#f0f921\"]]}],\"heatmapgl\":[{\"type\":\"heatmapgl\",\"colorbar\":{\"outlinewidth\":0,\"ticks\":\"\"},\"colorscale\":[[0.0,\"#0d0887\"],[0.1111111111111111,\"#46039f\"],[0.2222222222222222,\"#7201a8\"],[0.3333333333333333,\"#9c179e\"],[0.4444444444444444,\"#bd3786\"],[0.5555555555555556,\"#d8576b\"],[0.6666666666666666,\"#ed7953\"],[0.7777777777777778,\"#fb9f3a\"],[0.8888888888888888,\"#fdca26\"],[1.0,\"#f0f921\"]]}],\"contourcarpet\":[{\"type\":\"contourcarpet\",\"colorbar\":{\"outlinewidth\":0,\"ticks\":\"\"}}],\"contour\":[{\"type\":\"contour\",\"colorbar\":{\"outlinewidth\":0,\"ticks\":\"\"},\"colorscale\":[[0.0,\"#0d0887\"],[0.1111111111111111,\"#46039f\"],[0.2222222222222222,\"#7201a8\"],[0.3333333333333333,\"#9c179e\"],[0.4444444444444444,\"#bd3786\"],[0.5555555555555556,\"#d8576b\"],[0.6666666666666666,\"#ed7953\"],[0.7777777777777778,\"#fb9f3a\"],[0.8888888888888888,\"#fdca26\"],[1.0,\"#f0f921\"]]}],\"surface\":[{\"type\":\"surface\",\"colorbar\":{\"outlinewidth\":0,\"ticks\":\"\"},\"colorscale\":[[0.0,\"#0d0887\"],[0.1111111111111111,\"#46039f\"],[0.2222222222222222,\"#7201a8\"],[0.3333333333333333,\"#9c179e\"],[0.4444444444444444,\"#bd3786\"],[0.5555555555555556,\"#d8576b\"],[0.6666666666666666,\"#ed7953\"],[0.7777777777777778,\"#fb9f3a\"],[0.8888888888888888,\"#fdca26\"],[1.0,\"#f0f921\"]]}],\"mesh3d\":[{\"type\":\"mesh3d\",\"colorbar\":{\"outlinewidth\":0,\"ticks\":\"\"}}],\"scatter\":[{\"fillpattern\":{\"fillmode\":\"overlay\",\"size\":10,\"solidity\":0.2},\"type\":\"scatter\"}],\"parcoords\":[{\"type\":\"parcoords\",\"line\":{\"colorbar\":{\"outlinewidth\":0,\"ticks\":\"\"}}}],\"scatterpolargl\":[{\"type\":\"scatterpolargl\",\"marker\":{\"colorbar\":{\"outlinewidth\":0,\"ticks\":\"\"}}}],\"bar\":[{\"error_x\":{\"color\":\"#2a3f5f\"},\"error_y\":{\"color\":\"#2a3f5f\"},\"marker\":{\"line\":{\"color\":\"#E5ECF6\",\"width\":0.5},\"pattern\":{\"fillmode\":\"overlay\",\"size\":10,\"solidity\":0.2}},\"type\":\"bar\"}],\"scattergeo\":[{\"type\":\"scattergeo\",\"marker\":{\"colorbar\":{\"outlinewidth\":0,\"ticks\":\"\"}}}],\"scatterpolar\":[{\"type\":\"scatterpolar\",\"marker\":{\"colorbar\":{\"outlinewidth\":0,\"ticks\":\"\"}}}],\"histogram\":[{\"marker\":{\"pattern\":{\"fillmode\":\"overlay\",\"size\":10,\"solidity\":0.2}},\"type\":\"histogram\"}],\"scattergl\":[{\"type\":\"scattergl\",\"marker\":{\"colorbar\":{\"outlinewidth\":0,\"ticks\":\"\"}}}],\"scatter3d\":[{\"type\":\"scatter3d\",\"line\":{\"colorbar\":{\"outlinewidth\":0,\"ticks\":\"\"}},\"marker\":{\"colorbar\":{\"outlinewidth\":0,\"ticks\":\"\"}}}],\"scattermapbox\":[{\"type\":\"scattermapbox\",\"marker\":{\"colorbar\":{\"outlinewidth\":0,\"ticks\":\"\"}}}],\"scatterternary\":[{\"type\":\"scatterternary\",\"marker\":{\"colorbar\":{\"outlinewidth\":0,\"ticks\":\"\"}}}],\"scattercarpet\":[{\"type\":\"scattercarpet\",\"marker\":{\"colorbar\":{\"outlinewidth\":0,\"ticks\":\"\"}}}],\"carpet\":[{\"aaxis\":{\"endlinecolor\":\"#2a3f5f\",\"gridcolor\":\"white\",\"linecolor\":\"white\",\"minorgridcolor\":\"white\",\"startlinecolor\":\"#2a3f5f\"},\"baxis\":{\"endlinecolor\":\"#2a3f5f\",\"gridcolor\":\"white\",\"linecolor\":\"white\",\"minorgridcolor\":\"white\",\"startlinecolor\":\"#2a3f5f\"},\"type\":\"carpet\"}],\"table\":[{\"cells\":{\"fill\":{\"color\":\"#EBF0F8\"},\"line\":{\"color\":\"white\"}},\"header\":{\"fill\":{\"color\":\"#C8D4E3\"},\"line\":{\"color\":\"white\"}},\"type\":\"table\"}],\"barpolar\":[{\"marker\":{\"line\":{\"color\":\"#E5ECF6\",\"width\":0.5},\"pattern\":{\"fillmode\":\"overlay\",\"size\":10,\"solidity\":0.2}},\"type\":\"barpolar\"}],\"pie\":[{\"automargin\":true,\"type\":\"pie\"}]},\"layout\":{\"autotypenumbers\":\"strict\",\"colorway\":[\"#636efa\",\"#EF553B\",\"#00cc96\",\"#ab63fa\",\"#FFA15A\",\"#19d3f3\",\"#FF6692\",\"#B6E880\",\"#FF97FF\",\"#FECB52\"],\"font\":{\"color\":\"#2a3f5f\"},\"hovermode\":\"closest\",\"hoverlabel\":{\"align\":\"left\"},\"paper_bgcolor\":\"white\",\"plot_bgcolor\":\"#E5ECF6\",\"polar\":{\"bgcolor\":\"#E5ECF6\",\"angularaxis\":{\"gridcolor\":\"white\",\"linecolor\":\"white\",\"ticks\":\"\"},\"radialaxis\":{\"gridcolor\":\"white\",\"linecolor\":\"white\",\"ticks\":\"\"}},\"ternary\":{\"bgcolor\":\"#E5ECF6\",\"aaxis\":{\"gridcolor\":\"white\",\"linecolor\":\"white\",\"ticks\":\"\"},\"baxis\":{\"gridcolor\":\"white\",\"linecolor\":\"white\",\"ticks\":\"\"},\"caxis\":{\"gridcolor\":\"white\",\"linecolor\":\"white\",\"ticks\":\"\"}},\"coloraxis\":{\"colorbar\":{\"outlinewidth\":0,\"ticks\":\"\"}},\"colorscale\":{\"sequential\":[[0.0,\"#0d0887\"],[0.1111111111111111,\"#46039f\"],[0.2222222222222222,\"#7201a8\"],[0.3333333333333333,\"#9c179e\"],[0.4444444444444444,\"#bd3786\"],[0.5555555555555556,\"#d8576b\"],[0.6666666666666666,\"#ed7953\"],[0.7777777777777778,\"#fb9f3a\"],[0.8888888888888888,\"#fdca26\"],[1.0,\"#f0f921\"]],\"sequentialminus\":[[0.0,\"#0d0887\"],[0.1111111111111111,\"#46039f\"],[0.2222222222222222,\"#7201a8\"],[0.3333333333333333,\"#9c179e\"],[0.4444444444444444,\"#bd3786\"],[0.5555555555555556,\"#d8576b\"],[0.6666666666666666,\"#ed7953\"],[0.7777777777777778,\"#fb9f3a\"],[0.8888888888888888,\"#fdca26\"],[1.0,\"#f0f921\"]],\"diverging\":[[0,\"#8e0152\"],[0.1,\"#c51b7d\"],[0.2,\"#de77ae\"],[0.3,\"#f1b6da\"],[0.4,\"#fde0ef\"],[0.5,\"#f7f7f7\"],[0.6,\"#e6f5d0\"],[0.7,\"#b8e186\"],[0.8,\"#7fbc41\"],[0.9,\"#4d9221\"],[1,\"#276419\"]]},\"xaxis\":{\"gridcolor\":\"white\",\"linecolor\":\"white\",\"ticks\":\"\",\"title\":{\"standoff\":15},\"zerolinecolor\":\"white\",\"automargin\":true,\"zerolinewidth\":2},\"yaxis\":{\"gridcolor\":\"white\",\"linecolor\":\"white\",\"ticks\":\"\",\"title\":{\"standoff\":15},\"zerolinecolor\":\"white\",\"automargin\":true,\"zerolinewidth\":2},\"scene\":{\"xaxis\":{\"backgroundcolor\":\"#E5ECF6\",\"gridcolor\":\"white\",\"linecolor\":\"white\",\"showbackground\":true,\"ticks\":\"\",\"zerolinecolor\":\"white\",\"gridwidth\":2},\"yaxis\":{\"backgroundcolor\":\"#E5ECF6\",\"gridcolor\":\"white\",\"linecolor\":\"white\",\"showbackground\":true,\"ticks\":\"\",\"zerolinecolor\":\"white\",\"gridwidth\":2},\"zaxis\":{\"backgroundcolor\":\"#E5ECF6\",\"gridcolor\":\"white\",\"linecolor\":\"white\",\"showbackground\":true,\"ticks\":\"\",\"zerolinecolor\":\"white\",\"gridwidth\":2}},\"shapedefaults\":{\"line\":{\"color\":\"#2a3f5f\"}},\"annotationdefaults\":{\"arrowcolor\":\"#2a3f5f\",\"arrowhead\":0,\"arrowwidth\":1},\"geo\":{\"bgcolor\":\"white\",\"landcolor\":\"#E5ECF6\",\"subunitcolor\":\"white\",\"showland\":true,\"showlakes\":true,\"lakecolor\":\"white\"},\"title\":{\"x\":0.05},\"mapbox\":{\"style\":\"light\"}}},\"xaxis\":{\"anchor\":\"y\",\"domain\":[0.0,1.0],\"title\":{\"text\":\"Clinically_Sig\"}},\"yaxis\":{\"anchor\":\"x\",\"domain\":[0.0,1.0],\"title\":{\"text\":\"Count\"}},\"legend\":{\"title\":{\"text\":\"color\"},\"tracegroupgap\":0},\"title\":{\"text\":\"Class Balance\"},\"barmode\":\"relative\",\"showlegend\":false},                        {\"responsive\": true}                    ).then(function(){\n",
       "                            \n",
       "var gd = document.getElementById('97f93bec-7a1a-4667-bcd0-3504f0bc68ee');\n",
       "var x = new MutationObserver(function (mutations, observer) {{\n",
       "        var display = window.getComputedStyle(gd).display;\n",
       "        if (!display || display === 'none') {{\n",
       "            console.log([gd, 'removed!']);\n",
       "            Plotly.purge(gd);\n",
       "            observer.disconnect();\n",
       "        }}\n",
       "}});\n",
       "\n",
       "// Listen for the removal of the full notebook cells\n",
       "var notebookContainer = gd.closest('#notebook-container');\n",
       "if (notebookContainer) {{\n",
       "    x.observe(notebookContainer, {childList: true});\n",
       "}}\n",
       "\n",
       "// Listen for the clearing of the current output cell\n",
       "var outputEl = gd.closest('.output');\n",
       "if (outputEl) {{\n",
       "    x.observe(outputEl, {childList: true});\n",
       "}}\n",
       "\n",
       "                        })                };                            </script>        </div>\n",
       "</body>\n",
       "</html>"
      ]
     },
     "metadata": {},
     "output_type": "display_data"
    }
   ],
   "source": [
    "plot_class_balance(all_set)"
   ]
  },
  {
   "cell_type": "code",
   "execution_count": null,
   "id": "4b111f34-d3ed-4733-8af0-f8aee993de1a",
   "metadata": {},
   "outputs": [],
   "source": [
    "assert all_set.X_train.shape[0] == all_set.y_train.shape[0]\n",
    "assert all_set.X_test.shape[0] == all_set.y_test.shape[0]"
   ]
  },
  {
   "cell_type": "code",
   "execution_count": 15,
   "id": "0377d418-e059-42ef-9f5f-75cec0109958",
   "metadata": {},
   "outputs": [],
   "source": [
    "variance_flag = True\n",
    "data = DataVariance(all_set, variance_flag)"
   ]
  },
  {
   "cell_type": "code",
   "execution_count": 17,
   "id": "fdfc9c74-f72a-4986-9d3b-f1762f57e5a1",
   "metadata": {},
   "outputs": [
    {
     "name": "stdout",
     "output_type": "stream",
     "text": [
      "[0.99945339 1.00054721]\n"
     ]
    }
   ],
   "source": [
    "class_weights = compute_class_weight(class_weight = \"balanced\", classes = np.unique(data.y_train), y = data.y_train)\n",
    "print(class_weights)"
   ]
  },
  {
   "cell_type": "code",
   "execution_count": 18,
   "id": "d72fa553-e9f1-428c-9f00-e129c944005a",
   "metadata": {},
   "outputs": [],
   "source": [
    "from sklearn.pipeline import FeatureUnion\n",
    "# transforms for the feature union\n",
    "transforms = list()\n",
    "transforms.append(('maxbbs', MaxAbsScaler()))\n",
    "transforms.append(('mms', MinMaxScaler()))\n",
    "transforms.append(('ss', StandardScaler()))\n",
    "transforms.append(('rs', RobustScaler()))\n",
    "transforms.append(('qt', QuantileTransformer(n_quantiles=100, output_distribution='normal')))\n",
    "transforms.append(('norm', Normalizer()))\n",
    "transforms.append(('pt', PowerTransformer()))\n",
    "transforms.append(('st', SplineTransformer()))\n",
    "# transforms.append(('kbd', KBinsDiscretizer(n_bins=10, encode='ordinal', strategy='uniform')))\n",
    "# creatNormalizer the feature union\n",
    "feature_transform = FeatureUnion(transforms)"
   ]
  },
  {
   "cell_type": "code",
   "execution_count": 19,
   "id": "4bf67fe3-92eb-49a4-91b1-3887609d7572",
   "metadata": {},
   "outputs": [],
   "source": [
    "LR = LogisticRegression(random_state=2022, \n",
    "                        max_iter=100000, \n",
    "                        penalty='elasticnet', \n",
    "                        solver='saga', \n",
    "                        n_jobs=6, \n",
    "                        warm_start = True,\n",
    "                        multi_class = 'auto',\n",
    "                        tol=1e-4\n",
    "                       )\n",
    "LRparam_grid = {\n",
    "    'classifier__l1_ratio': [0.2, 0.225, 0.25],\n",
    "    'classifier__C': [0.0001, 0.0005, 0.001, 0.005, 0.01]\n",
    "    }"
   ]
  },
  {
   "cell_type": "code",
   "execution_count": 20,
   "id": "c46a3f78-3719-4712-a77c-7a9b6d781f54",
   "metadata": {},
   "outputs": [],
   "source": [
    "# define the pipeline\n",
    "steps = list()\n",
    "steps.append(('scaler', feature_transform))\n",
    "steps.append(('classifier', LR))\n",
    "pipeline = Pipeline(steps=steps)\n",
    "LR_search = GridSearchCV(pipeline, param_grid=LRparam_grid, refit = True, verbose = 1, cv=10, n_jobs=4)"
   ]
  },
  {
   "cell_type": "code",
   "execution_count": null,
   "id": "af8fdc35-8a80-4074-942a-428d21eb059a",
   "metadata": {},
   "outputs": [
    {
     "name": "stdout",
     "output_type": "stream",
     "text": [
      "Fitting 10 folds for each of 15 candidates, totalling 150 fits\n"
     ]
    }
   ],
   "source": [
    "LR_search.fit(data.X_train, data.y_train)"
   ]
  },
  {
   "cell_type": "code",
   "execution_count": null,
   "id": "d19a0076-cd1c-42cb-8f7a-e65686afde33",
   "metadata": {},
   "outputs": [],
   "source": [
    "print(LR_search.best_params_)\n",
    "# summarize\n",
    "print('Mean Accuracy: %.3f' % LR_search.best_score_)\n",
    "print('Config: %s' % LR_search.best_params_)"
   ]
  },
  {
   "cell_type": "code",
   "execution_count": null,
   "id": "998fa155-6e83-4ce5-9571-a7e3fb13293f",
   "metadata": {},
   "outputs": [],
   "source": [
    "RocCurve(LR_search.best_estimator_, all_set)"
   ]
  },
  {
   "cell_type": "code",
   "execution_count": null,
   "id": "796db426-9a48-478f-bd0a-7483ac5dfc73",
   "metadata": {},
   "outputs": [],
   "source": [
    "def plot_confusion_matrix_report(model, all_set: WorkingSet, X_test_trans: np.array = None):\n",
    "    if X_test_trans.all() != None:\n",
    "        predictions = model.predict(X_test_trans)\n",
    "    else:\n",
    "        predictions = model.predict(all_set.X_test.values)\n",
    "        \n",
    "    cm = confusion_matrix(all_set.y_test.values.ravel(), predictions, labels = model.classes_)\n",
    "    disp = ConfusionMatrixDisplay(confusion_matrix = cm, display_labels = model.classes_)\n",
    "    disp.plot()\n",
    "    target_names = ['class 0', 'class 1']\n",
    "    print(classification_report(all_set.y_test.values.ravel(), predictions, target_names = target_names))"
   ]
  },
  {
   "cell_type": "code",
   "execution_count": null,
   "id": "419ad28e-d6c4-454f-b014-738987198523",
   "metadata": {},
   "outputs": [],
   "source": [
    "plot_confusion_matrix_report(LR_search.best_estimator_, all_set, X_test_trans) "
   ]
  },
  {
   "cell_type": "code",
   "execution_count": null,
   "id": "d138d746-03db-4496-b50a-b3ae54076eaf",
   "metadata": {},
   "outputs": [],
   "source": []
  },
  {
   "cell_type": "code",
   "execution_count": null,
   "id": "2117270c-bbfd-4d87-a74d-2854a47b51b7",
   "metadata": {},
   "outputs": [],
   "source": [
    "def plot_features_importance(model):\n",
    "    # get importance\n",
    "    importance = model.steps[1][1].coef_[0]\n",
    "    # plot feature importance\n",
    "    plt.figure(figsize=(15,7))\n",
    "    plt.bar([x for x in range(len(importance))], importance)"
   ]
  },
  {
   "cell_type": "code",
   "execution_count": null,
   "id": "7e7bc355-ec28-499a-9b26-d6703aa3b10c",
   "metadata": {},
   "outputs": [],
   "source": [
    "plot_features_importance(LR_search.best_estimator_)"
   ]
  },
  {
   "cell_type": "code",
   "execution_count": null,
   "id": "2542601f-c9f0-40e8-a860-7f4642a98d76",
   "metadata": {},
   "outputs": [],
   "source": [
    "import shap\n",
    "shap.initjs()\n",
    "\n",
    "#set the tree explainer as the model of the pipeline\n",
    "explainer = shap.TreeExplainer(pipeline['classifier'])\n",
    "\n",
    "#apply the preprocessing to x_test\n",
    "observations = pipeline['imputer'].transform(X_train)\n",
    "\n",
    "#get Shap values from preprocessed data\n",
    "shap_values = explainer.shap_values(observations)\n",
    "\n",
    "#plot the feature importance\n",
    "shap.summary_plot(shap_values, X_train, plot_type=\"bar\")"
   ]
  },
  {
   "cell_type": "code",
   "execution_count": null,
   "id": "add81f6f-2abb-4159-b3f7-c311bf0f6c0c",
   "metadata": {},
   "outputs": [],
   "source": []
  },
  {
   "cell_type": "code",
   "execution_count": null,
   "id": "db403afd-f62e-490c-8cd2-83eb80772914",
   "metadata": {},
   "outputs": [],
   "source": []
  },
  {
   "cell_type": "code",
   "execution_count": null,
   "id": "4b53f6e7-4146-46c2-8e4d-ed2dab95532c",
   "metadata": {},
   "outputs": [],
   "source": []
  },
  {
   "cell_type": "markdown",
   "id": "4f816502-7633-4cba-b22a-c6f9de4d059d",
   "metadata": {},
   "source": [
    "Ridge Classifier"
   ]
  },
  {
   "cell_type": "code",
   "execution_count": null,
   "id": "fdee0a5e-febd-4ea0-b645-e540bc59da9a",
   "metadata": {},
   "outputs": [],
   "source": [
    "ridge_class = RidgeClassifier(alpha=0.01, copy_X=True, fit_intercept=True, max_iter=10000, random_state=2022, solver='auto', tol=0.001)\n",
    "RC_param_grid = {\n",
    "    'classifier__alpha': [0.001, 0.01, 0.1]\n",
    "    'classifier__C': [0.0001, 0.0005, 0.001, 0.005, 0.01]\n",
    "    }"
   ]
  },
  {
   "cell_type": "code",
   "execution_count": null,
   "id": "863ce8d0-fe57-41b6-a22d-6258b098a175",
   "metadata": {},
   "outputs": [],
   "source": [
    "# define the pipeline\n",
    "steps = list()\n",
    "steps.append(('scaler', feature_transform))\n",
    "steps.append(('classifier', ridge_class))\n",
    "pipeline = Pipeline(steps=steps)\n",
    "ridge_class_search = GridSearchCV(pipeline, param_grid=RC_param_grid, refit = True, verbose = 1, cv=10, n_jobs=4)\n",
    "ridge_class_search.fit(X_train, y_train)"
   ]
  },
  {
   "cell_type": "code",
   "execution_count": null,
   "id": "e0911149-7f8a-4150-a02a-81d91490cb50",
   "metadata": {},
   "outputs": [],
   "source": []
  },
  {
   "cell_type": "code",
   "execution_count": null,
   "id": "d257a836-43f1-474d-8b13-fa4c299a3014",
   "metadata": {},
   "outputs": [],
   "source": []
  },
  {
   "cell_type": "code",
   "execution_count": null,
   "id": "e9ed10a8-e239-44a5-a26a-14d624ab34a8",
   "metadata": {},
   "outputs": [],
   "source": []
  },
  {
   "cell_type": "code",
   "execution_count": null,
   "id": "ef931025-696b-4575-bc31-4f070aa8c4de",
   "metadata": {},
   "outputs": [],
   "source": []
  },
  {
   "cell_type": "code",
   "execution_count": null,
   "id": "a1eddc5c-0541-449e-9ec9-557cc389b4e0",
   "metadata": {},
   "outputs": [],
   "source": []
  },
  {
   "cell_type": "code",
   "execution_count": null,
   "id": "c74ebdbc-3319-4ddb-a8eb-ec6743c5bbaf",
   "metadata": {},
   "outputs": [],
   "source": []
  },
  {
   "cell_type": "code",
   "execution_count": null,
   "id": "50ac6017-4f81-4492-9c64-c6c577833665",
   "metadata": {},
   "outputs": [],
   "source": []
  },
  {
   "cell_type": "code",
   "execution_count": null,
   "id": "3d4e35e8-4f7f-4c14-aeac-52c9a5fde810",
   "metadata": {},
   "outputs": [],
   "source": []
  },
  {
   "cell_type": "code",
   "execution_count": null,
   "id": "500d0fc2-e06c-4e9a-9a52-0ab30ebd4c47",
   "metadata": {},
   "outputs": [],
   "source": []
  },
  {
   "cell_type": "code",
   "execution_count": null,
   "id": "6ed52d67-ccd6-464b-9644-21aca835d20a",
   "metadata": {},
   "outputs": [],
   "source": [
    "from sklearn.preprocessing import QuantileTransformer, KBinsDiscretizer\n",
    "from sklearn.decomposition import TruncatedSVD\n",
    "from sklearn.pipeline import FeatureUnion, Pipeline"
   ]
  },
  {
   "cell_type": "code",
   "execution_count": null,
   "id": "9ff2979f-a84a-432d-9640-fd1fbfd513da",
   "metadata": {},
   "outputs": [],
   "source": [
    "from sklearn.feature_selection import RFE\n",
    "# define the feature selection\n",
    "rfe = RFE(estimator=LR_search.best_estimator_, n_features_to_select=70)"
   ]
  },
  {
   "cell_type": "code",
   "execution_count": null,
   "id": "aff5c6c3-8558-429d-9363-4c26f2f41e04",
   "metadata": {},
   "outputs": [],
   "source": [
    "# define the pipeline\n",
    "steps = list()\n",
    "steps.append(('fu', fu))\n",
    "steps.append(('rfe', rfe))\n",
    "steps.append(('m', LR_search.best_estimator_))\n",
    "pipeline = Pipeline(steps=steps)"
   ]
  },
  {
   "cell_type": "code",
   "execution_count": null,
   "id": "e878259c-9b6e-41e0-8468-1cedf028d7c3",
   "metadata": {},
   "outputs": [],
   "source": [
    "from sklearn.model_selection import RepeatedStratifiedKFold\n",
    "# define the cross-validation procedure\n",
    "cv = RepeatedStratifiedKFold(n_splits=5, n_repeats=3, random_state=2022)"
   ]
  },
  {
   "cell_type": "code",
   "execution_count": null,
   "id": "e02ed5a1-cd98-4825-b7b7-facb2343420b",
   "metadata": {},
   "outputs": [],
   "source": [
    "from sklearn.model_selection import cross_val_score\n",
    "# evaluate model\n",
    "scores = cross_val_score(pipeline, X_train, y_train, scoring='accuracy', cv=cv, n_jobs=4, verbose=1)"
   ]
  },
  {
   "cell_type": "code",
   "execution_count": null,
   "id": "23d882cb-2ebc-4e2e-bde0-05ad462b4c94",
   "metadata": {},
   "outputs": [],
   "source": [
    "# report performance\n",
    "print('Accuracy: %.3f (%.3f)' % (np.mean(scores), np.std(scores)))"
   ]
  },
  {
   "cell_type": "code",
   "execution_count": null,
   "id": "168a8a09-82c2-4871-b49a-25223bce45a1",
   "metadata": {},
   "outputs": [],
   "source": []
  },
  {
   "cell_type": "code",
   "execution_count": null,
   "id": "bf4615a3-0e83-45d0-8d55-ed5b5973ebf3",
   "metadata": {},
   "outputs": [],
   "source": []
  },
  {
   "cell_type": "code",
   "execution_count": null,
   "id": "c00d46a7-c45d-4092-8b48-60ba2de7cca4",
   "metadata": {},
   "outputs": [],
   "source": []
  },
  {
   "cell_type": "code",
   "execution_count": null,
   "id": "4258c275-3474-4629-b256-573d186c2123",
   "metadata": {},
   "outputs": [],
   "source": []
  },
  {
   "cell_type": "code",
   "execution_count": null,
   "id": "6bd6109e-b32d-4bd5-8a65-a4a4141039e6",
   "metadata": {},
   "outputs": [],
   "source": []
  },
  {
   "cell_type": "code",
   "execution_count": null,
   "id": "c72e092f-e397-4e95-8436-646233c8f012",
   "metadata": {},
   "outputs": [],
   "source": [
    "LogisticRegression, PassiveAggressiveClassifier, Perceptron, RidgeClassifier, SGDClassifier, SGDOneClassSVM"
   ]
  },
  {
   "cell_type": "code",
   "execution_count": null,
   "id": "632b7e38-1880-49b1-9130-7ae2fae1e819",
   "metadata": {},
   "outputs": [],
   "source": []
  },
  {
   "cell_type": "code",
   "execution_count": null,
   "id": "cfa670fb-542a-484b-b9ca-fd7c70c1be00",
   "metadata": {},
   "outputs": [],
   "source": []
  },
  {
   "cell_type": "code",
   "execution_count": null,
   "id": "bdd178f6-907a-413c-b64e-d80814fdc6ae",
   "metadata": {},
   "outputs": [],
   "source": []
  },
  {
   "cell_type": "code",
   "execution_count": null,
   "id": "4a286707-dfc7-4950-a638-cf8257e70805",
   "metadata": {},
   "outputs": [],
   "source": []
  },
  {
   "cell_type": "code",
   "execution_count": null,
   "id": "0f986a93-c9bc-4949-b100-78d54b30a539",
   "metadata": {},
   "outputs": [],
   "source": []
  },
  {
   "cell_type": "code",
   "execution_count": null,
   "id": "d461810e-943a-4453-b935-754634a61b43",
   "metadata": {},
   "outputs": [],
   "source": []
  },
  {
   "cell_type": "code",
   "execution_count": null,
   "id": "fb33c425-08c8-4151-a412-f099d3445db1",
   "metadata": {},
   "outputs": [],
   "source": []
  },
  {
   "cell_type": "code",
   "execution_count": null,
   "id": "3f409504-f22f-4a23-9ff6-e14313ede208",
   "metadata": {},
   "outputs": [],
   "source": [
    "\n",
    "\n",
    "pca = PCA().fit(scaled_X_train)\n",
    "\n",
    "plt.plot(pca.explained_variance_ratio_.cumsum(), lw=3, color='#087E8B')\n",
    "plt.title('Cumulative explained variance by number of principal components', size=20)\n",
    "plt.show()"
   ]
  },
  {
   "cell_type": "code",
   "execution_count": null,
   "id": "6b7fa1e6-5b41-45fa-af07-bc22475aa84a",
   "metadata": {},
   "outputs": [],
   "source": [
    "loadings = pd.DataFrame(\n",
    "    data=pca.components_.T * np.sqrt(pca.explained_variance_), \n",
    "    columns=[f'PC{i}' for i in range(1, len(df_X_train.columns) + 1)],\n",
    "    index=df_X_train.columns\n",
    ")\n",
    "loadings[0:10].head()"
   ]
  },
  {
   "cell_type": "code",
   "execution_count": null,
   "id": "51f1c4d6-abcb-4cde-b97b-71bf0a6f554d",
   "metadata": {},
   "outputs": [],
   "source": [
    "pc1_loadings = loadings.sort_values(by='PC1', ascending=False)[['PC1']]\n",
    "pc1_loadings = pc1_loadings.reset_index()\n",
    "pc1_loadings.columns = ['Attribute', 'CorrelationWithPC1']\n",
    "\n",
    "plt.bar(x=pc1_loadings['Attribute'], height=pc1_loadings['CorrelationWithPC1'], color='#087E8B')\n",
    "plt.title('PCA loading scores (first principal component)', size=20)\n",
    "plt.xticks(rotation='vertical')\n",
    "plt.show()"
   ]
  },
  {
   "cell_type": "code",
   "execution_count": null,
   "id": "72f6e4bf-6db0-4e10-b44e-1664e59e968c",
   "metadata": {},
   "outputs": [],
   "source": [
    "# Import the necessary libraries first\n"
   ]
  },
  {
   "cell_type": "code",
   "execution_count": null,
   "id": "487e6ef6-7bbc-4542-b385-2bfec3d52e00",
   "metadata": {},
   "outputs": [],
   "source": [
    "test = SelectKBest(score_func=chi2, k=4)\n",
    "fit = test.fit(abs(scaled_X_train), y_train)"
   ]
  },
  {
   "cell_type": "code",
   "execution_count": null,
   "id": "33177e13-d969-4a9c-a2f6-363610817677",
   "metadata": {},
   "outputs": [],
   "source": [
    "# Summarize scores\n",
    "np.set_printoptions(precision=3)\n",
    "print(fit.scores_)"
   ]
  },
  {
   "cell_type": "code",
   "execution_count": null,
   "id": "058e7d94-380e-47f3-8065-9c7aee7f5055",
   "metadata": {},
   "outputs": [],
   "source": [
    "features = fit.transform(abs(scaled_X_train))\n",
    "# Summarize selected features\n",
    "print(features[0:5,:])"
   ]
  },
  {
   "cell_type": "code",
   "execution_count": null,
   "id": "4a8d3575-d46d-4851-9841-1ee2fecc8c43",
   "metadata": {},
   "outputs": [],
   "source": []
  },
  {
   "cell_type": "code",
   "execution_count": null,
   "id": "c5f21358-4fb8-4dde-8c70-6b7bfea234cf",
   "metadata": {},
   "outputs": [],
   "source": []
  },
  {
   "cell_type": "code",
   "execution_count": null,
   "id": "5589c025-5a0b-4219-aca5-f90811a63234",
   "metadata": {},
   "outputs": [],
   "source": [
    "from sklearn.feature_selection import RFE"
   ]
  },
  {
   "cell_type": "code",
   "execution_count": null,
   "id": "36482b1c-5c29-47cc-954a-10530ba62563",
   "metadata": {},
   "outputs": [],
   "source": [
    "rfe = RFE(LR_best, n_features_to_select=75, step=1)"
   ]
  },
  {
   "cell_type": "code",
   "execution_count": null,
   "id": "0d742573-493c-46a1-a19c-636477802aec",
   "metadata": {},
   "outputs": [],
   "source": [
    "fit = rfe.fit(scaled_X_train, y_train)"
   ]
  },
  {
   "cell_type": "code",
   "execution_count": null,
   "id": "a4661faf-275e-4e11-8522-91c11920d0ed",
   "metadata": {},
   "outputs": [],
   "source": [
    "print(\"Num Features: %s\" % (fit.n_features_))\n",
    "print(\"Selected Features: %s\" % (fit.support_))\n",
    "print(\"Feature Ranking: %s\" % (fit.ranking_))"
   ]
  },
  {
   "cell_type": "code",
   "execution_count": null,
   "id": "d84c0adc-70bd-4f22-ae8e-8d4aee770708",
   "metadata": {},
   "outputs": [],
   "source": [
    "# First things first\n"
   ]
  },
  {
   "cell_type": "code",
   "execution_count": null,
   "id": "00622980-23c9-44e1-8acb-038f0c29415e",
   "metadata": {},
   "outputs": [],
   "source": [
    "ridge_class = RidgeClassifier(alpha=0.01, copy_X=True, fit_intercept=True, max_iter=10000, random_state=2022, solver='auto', tol=0.001)"
   ]
  },
  {
   "cell_type": "code",
   "execution_count": null,
   "id": "34f0f49c-1c68-4f09-8302-2e1f93464302",
   "metadata": {},
   "outputs": [],
   "source": [
    "ridge.fit(scaled_X_train, y_train)"
   ]
  },
  {
   "cell_type": "code",
   "execution_count": null,
   "id": "b0d1d241-2dc8-4d29-bea7-be23841c1394",
   "metadata": {},
   "outputs": [],
   "source": [
    "def pretty_print_coefs(coefs, names = None, sort = False):\n",
    "    if names == None:\n",
    "        names = [\"X%s\" % x for x in range(len(coefs))]\n",
    "    lst = zip(coefs, names)\n",
    "    if sort:\n",
    "        lst = sorted(lst,  key = lambda x:-np.abs(x[0]))\n",
    "    return \" + \".join(\"%s * %s\" % (round(coef, 3), name)\n",
    "                                   for coef, name in lst)"
   ]
  },
  {
   "cell_type": "code",
   "execution_count": null,
   "id": "69a6c5de-eb5a-4848-a92e-01776522ea38",
   "metadata": {},
   "outputs": [],
   "source": [
    "# print (\"Ridge model:\", pretty_print_coefs(ridge.coef_))"
   ]
  },
  {
   "cell_type": "code",
   "execution_count": null,
   "id": "a599973c-f787-4a6a-8087-365e19ff3659",
   "metadata": {},
   "outputs": [],
   "source": [
    "# for idx, coeff in enumerate(ridge.coef_):\n",
    "#     if coeff > 0.05:\n",
    "#         print(idx, coeff)"
   ]
  },
  {
   "cell_type": "code",
   "execution_count": null,
   "id": "cc771ad8-bdc6-4ec2-8186-dc5c9eb7be64",
   "metadata": {},
   "outputs": [],
   "source": [
    "np.std(ridge.coef_), np.mean(ridge.coef_), np.median(ridge.coef_)"
   ]
  },
  {
   "cell_type": "code",
   "execution_count": null,
   "id": "5fb1f57d-b540-43c5-bb2d-3347273b77b1",
   "metadata": {},
   "outputs": [],
   "source": [
    "y_pred = ridge.predict(autoscaler.fit_transform(df_X_test.values))"
   ]
  },
  {
   "cell_type": "code",
   "execution_count": null,
   "id": "821b0c05-3864-4d5c-b23c-0e6302ce737a",
   "metadata": {},
   "outputs": [],
   "source": [
    "y_pred"
   ]
  },
  {
   "cell_type": "code",
   "execution_count": null,
   "id": "e525c213-8b19-439e-9bfb-22a68432267f",
   "metadata": {},
   "outputs": [],
   "source": [
    "cm = confusion_matrix(df_y_test.values.ravel(), y_pred, labels=ridge.classes_)\n",
    "disp = ConfusionMatrixDisplay(confusion_matrix=cm, display_labels=ridge.classes_)\n",
    "disp.plot()"
   ]
  },
  {
   "cell_type": "code",
   "execution_count": null,
   "id": "e27ba08e-8176-4200-92a6-84a389181f92",
   "metadata": {},
   "outputs": [],
   "source": [
    "target_names = ['class 0', 'class 1']\n",
    "print(classification_report(df_y_test.values.ravel(), y_pred, target_names=target_names))"
   ]
  },
  {
   "cell_type": "code",
   "execution_count": null,
   "id": "c27644d5-ef04-4c71-965e-79b5451a4565",
   "metadata": {},
   "outputs": [],
   "source": [
    "val_acc = accuracy_score(df_y_test.values.ravel(), y_pred)\n",
    "val_f1 = f1_score(df_y_test.values.ravel(), y_pred)\n",
    "print(f\"Acc: {val_acc} | F1: {val_f1}\")"
   ]
  },
  {
   "cell_type": "code",
   "execution_count": null,
   "id": "c218fca7-c746-49c3-89e3-f937d587b7b9",
   "metadata": {},
   "outputs": [],
   "source": [
    "# df_concat = pd.concat([df_X_train, df_y_train], axis=1)\n",
    "# df_corr = df_concat.corr()"
   ]
  },
  {
   "cell_type": "code",
   "execution_count": null,
   "id": "8ada5000-d8e6-4a52-bbdd-85c1b34004e1",
   "metadata": {},
   "outputs": [],
   "source": [
    "threshold = 0.90\n",
    "\n",
    "\n",
    "columns = np.full((df_corr.shape[0],), True, dtype=bool)\n",
    "for i in range(df_corr.shape[0]):\n",
    "    for j in range(i+1, df_corr.shape[0]):\n",
    "        if df_corr.iloc[i,j] >= threshold:\n",
    "            if columns[j]:\n",
    "                columns[j] = False\n",
    "selected_columns = df_concat.columns[columns]\n",
    "selected_columns\n",
    "df_training = df_concat[selected_columns]"
   ]
  },
  {
   "cell_type": "code",
   "execution_count": null,
   "id": "ff7eebb8-672a-429b-9509-71bbc76fba33",
   "metadata": {},
   "outputs": [],
   "source": [
    "df_training.shape, df_concat.shape"
   ]
  },
  {
   "cell_type": "code",
   "execution_count": null,
   "id": "de00312a-0d59-447a-a091-44e9fb0c96ae",
   "metadata": {},
   "outputs": [],
   "source": [
    "lst_diff = df_concat.columns.difference(df_training.columns)\n",
    "len(lst_diff)"
   ]
  },
  {
   "cell_type": "code",
   "execution_count": null,
   "id": "a709ec52-54b9-425a-989d-a132ed0cbcb9",
   "metadata": {},
   "outputs": [],
   "source": [
    "corr_X = df_training.drop('Target_Lesion_ClinSig', axis=1)\n",
    "corr_y = df_training['Target_Lesion_ClinSig']"
   ]
  },
  {
   "cell_type": "code",
   "execution_count": null,
   "id": "43d2d9af-699a-4db8-8f97-f2a57e782469",
   "metadata": {},
   "outputs": [],
   "source": [
    "model.fit(autoscaler.fit_transform(corr_X.values), corr_y.values.ravel())\n",
    "# get importance\n",
    "importance = model.coef_[0]"
   ]
  },
  {
   "cell_type": "code",
   "execution_count": null,
   "id": "3abcc135-dc65-4523-a691-53c50d16e3a1",
   "metadata": {},
   "outputs": [],
   "source": [
    "# plot feature importance\n",
    "pyplot.bar([x for x in range(len(importance))], importance)\n",
    "pyplot.show()"
   ]
  },
  {
   "cell_type": "code",
   "execution_count": null,
   "id": "25329ec7-9cb3-4ba1-910b-cd3556f781a8",
   "metadata": {},
   "outputs": [],
   "source": [
    "df_X_test_corr = df_X_test.drop(lst_diff, axis=1)\n",
    "\n",
    "predictions = model.predict(autoscaler.fit_transform(df_X_test_corr.values))\n",
    "cm = confusion_matrix(df_y_test.values.ravel(), predictions, labels=model.classes_)\n",
    "disp = ConfusionMatrixDisplay(confusion_matrix=cm, display_labels=model.classes_)\n",
    "disp.plot()"
   ]
  },
  {
   "cell_type": "code",
   "execution_count": null,
   "id": "4b943010-900f-47d2-95a0-9a299b1f6d82",
   "metadata": {},
   "outputs": [],
   "source": [
    "val_acc = accuracy_score(df_y_test.values.ravel(), predictions)\n",
    "val_f1 = f1_score(df_y_test.values.ravel(), predictions)\n",
    "print(f\"Acc: {val_acc} | F1: {val_f1}\")"
   ]
  },
  {
   "cell_type": "code",
   "execution_count": null,
   "id": "6c00a8a8-3520-4e70-8086-902ebf301b9f",
   "metadata": {},
   "outputs": [],
   "source": []
  },
  {
   "cell_type": "code",
   "execution_count": null,
   "id": "b7be5ba8-b1ab-49f6-a439-7a4461c8af30",
   "metadata": {},
   "outputs": [],
   "source": [
    "feature_importance = abs(model.coef_[0])\n",
    "feature_importance = 100.0 * (feature_importance / feature_importance.max())\n",
    "sorted_idx = np.argsort(feature_importance)\n",
    "pos = np.arange(sorted_idx.shape[0]) + .5"
   ]
  },
  {
   "cell_type": "code",
   "execution_count": null,
   "id": "6686c9e4-1830-48ea-9d05-0a12160d3425",
   "metadata": {},
   "outputs": [],
   "source": [
    "featfig = pyplot.figure(figsize=(12, 15))\n",
    "featax = featfig.add_subplot(1, 1, 1)\n",
    "featax.barh(pos, feature_importance[sorted_idx], align='center')\n",
    "featax.set_yticks(pos)\n",
    "featax.set_yticklabels(np.array(corr_X.columns)[sorted_idx], fontsize=8)\n",
    "featax.set_xlabel('Relative Feature Importance')"
   ]
  },
  {
   "cell_type": "code",
   "execution_count": null,
   "id": "9f1d9e7b-84ea-42b2-bc05-f53442ca35f8",
   "metadata": {},
   "outputs": [],
   "source": []
  },
  {
   "cell_type": "code",
   "execution_count": null,
   "id": "8d0e4dca-ea78-4031-99eb-828488459060",
   "metadata": {},
   "outputs": [],
   "source": [
    "# import importlib\n",
    "# import imblearn\n",
    "# from imblearn import over_sampling as os\n",
    "# for class_name in os.__all__[:6]:\n",
    "#     module = importlib.import_module('imblearn.over_sampling')\n",
    "#     class_ = getattr(module, class_name)\n",
    "#     sampling = class_\n",
    "#     print(sampling())\n",
    "# os.__all__"
   ]
  }
 ],
 "metadata": {
  "kernelspec": {
   "display_name": "env_tabular",
   "language": "python",
   "name": "env_tabular"
  },
  "language_info": {
   "codemirror_mode": {
    "name": "ipython",
    "version": 3
   },
   "file_extension": ".py",
   "mimetype": "text/x-python",
   "name": "python",
   "nbconvert_exporter": "python",
   "pygments_lexer": "ipython3",
   "version": "3.8.10"
  }
 },
 "nbformat": 4,
 "nbformat_minor": 5
}
